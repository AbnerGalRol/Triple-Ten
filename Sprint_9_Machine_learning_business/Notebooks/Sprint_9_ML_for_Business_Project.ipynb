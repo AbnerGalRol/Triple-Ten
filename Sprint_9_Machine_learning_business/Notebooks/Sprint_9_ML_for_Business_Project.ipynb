{
 "cells": [
  {
   "cell_type": "code",
   "execution_count": 16,
   "metadata": {},
   "outputs": [],
   "source": [
    "# Importamos todas las librerías que necesitamos \n",
    "\n",
    "import pandas as pd\n",
    "import numpy as np\n",
    "import matplotlib.pyplot as plt\n",
    "from sklearn.metrics import mean_squared_error\n",
    "from sklearn.tree import DecisionTreeRegressor\n",
    "from sklearn.model_selection import train_test_split\n",
    "from sklearn.ensemble import RandomForestRegressor\n",
    "from sklearn.linear_model import LinearRegression\n",
    "from sklearn.preprocessing import StandardScaler"
   ]
  },
  {
   "cell_type": "code",
   "execution_count": 17,
   "metadata": {},
   "outputs": [],
   "source": [
    "# Importamos los datasets\n",
    "\n",
    "region_1 = pd.read_csv('/datasets/geo_data_0.csv')\n",
    "region_2 = pd.read_csv('/datasets/geo_data_1.csv')\n",
    "region_3 = pd.read_csv('/datasets/geo_data_2.csv')"
   ]
  },
  {
   "cell_type": "code",
   "execution_count": 18,
   "metadata": {},
   "outputs": [
    {
     "name": "stdout",
     "output_type": "stream",
     "text": [
      "      id        f0        f1        f2     product\n",
      "0  txEyH  0.705745 -0.497823  1.221170  105.280062\n",
      "1  2acmU  1.334711 -0.340164  4.365080   73.037750\n",
      "2  409Wp  1.022732  0.151990  1.419926   85.265647\n",
      "3  iJLyR -0.032172  0.139033  2.978566  168.620776\n",
      "4  Xdl7t  1.988431  0.155413  4.751769  154.036647\n",
      "      id         f0         f1        f2     product\n",
      "0  kBEdx -15.001348  -8.276000 -0.005876    3.179103\n",
      "1  62mP7  14.272088  -3.475083  0.999183   26.953261\n",
      "2  vyE1P   6.263187  -5.948386  5.001160  134.766305\n",
      "3  KcrkZ -13.081196 -11.506057  4.999415  137.945408\n",
      "4  AHL4O  12.702195  -8.147433  5.004363  134.766305\n",
      "      id        f0        f1        f2     product\n",
      "0  fwXo0 -1.146987  0.963328 -0.828965   27.758673\n",
      "1  WJtFt  0.262778  0.269839 -2.530187   56.069697\n",
      "2  ovLUW  0.194587  0.289035 -5.586433   62.871910\n",
      "3  q6cA6  2.236060 -0.553760  0.930038  114.572842\n",
      "4  WPMUX -0.515993  1.716266  5.899011  149.600746\n"
     ]
    }
   ],
   "source": [
    "# Imprimimos las primeras filas de cada dataset\n",
    "\n",
    "print(region_1.head())\n",
    "print(region_2.head())\n",
    "print(region_3.head())"
   ]
  },
  {
   "cell_type": "code",
   "execution_count": 19,
   "metadata": {},
   "outputs": [
    {
     "name": "stdout",
     "output_type": "stream",
     "text": [
      "          id        f0        f1        f2     product\n",
      "99995  DLsed  0.971957  0.370953  6.075346  110.744026\n",
      "99996  QKivN  1.392429 -0.382606  1.273912  122.346843\n",
      "99997  3rnvd  1.029585  0.018787 -1.348308   64.375443\n",
      "99998  7kl59  0.998163 -0.528582  1.583869   74.040764\n",
      "99999  1CWhH  1.764754 -0.266417  5.722849  149.633246\n",
      "          id         f0         f1        f2     product\n",
      "99995  QywKC   9.535637  -6.878139  1.998296   53.906522\n",
      "99996  ptvty -10.160631 -12.558096  5.005581  137.945408\n",
      "99997  09gWa  -7.378891  -3.084104  4.998651  137.945408\n",
      "99998  rqwUm   0.665714  -6.152593  1.000146   30.132364\n",
      "99999  relB0  -3.426139  -7.794274 -0.003299    3.179103\n",
      "          id        f0        f1        f2     product\n",
      "99995  4GxBu -1.777037  1.125220  6.263374  172.327046\n",
      "99996  YKFjq -1.261523 -0.894828  2.524545  138.748846\n",
      "99997  tKPY3 -1.199934 -2.957637  5.219411  157.080080\n",
      "99998  nmxp2 -2.419896  2.417221 -5.548444   51.795253\n",
      "99999  V9kWn -2.551421 -2.025625  6.090891  102.775767\n"
     ]
    }
   ],
   "source": [
    "# Imprimimos las últimas filas de los datasets\n",
    "\n",
    "print(region_1.tail())\n",
    "print(region_2.tail())\n",
    "print(region_3.tail())"
   ]
  },
  {
   "cell_type": "code",
   "execution_count": 20,
   "metadata": {},
   "outputs": [
    {
     "name": "stdout",
     "output_type": "stream",
     "text": [
      "<class 'pandas.core.frame.DataFrame'>\n",
      "RangeIndex: 100000 entries, 0 to 99999\n",
      "Data columns (total 5 columns):\n",
      " #   Column   Non-Null Count   Dtype  \n",
      "---  ------   --------------   -----  \n",
      " 0   id       100000 non-null  object \n",
      " 1   f0       100000 non-null  float64\n",
      " 2   f1       100000 non-null  float64\n",
      " 3   f2       100000 non-null  float64\n",
      " 4   product  100000 non-null  float64\n",
      "dtypes: float64(4), object(1)\n",
      "memory usage: 3.8+ MB\n",
      "None\n",
      "---------------------------------------------------------------------------------------------------------\n",
      "<class 'pandas.core.frame.DataFrame'>\n",
      "RangeIndex: 100000 entries, 0 to 99999\n",
      "Data columns (total 5 columns):\n",
      " #   Column   Non-Null Count   Dtype  \n",
      "---  ------   --------------   -----  \n",
      " 0   id       100000 non-null  object \n",
      " 1   f0       100000 non-null  float64\n",
      " 2   f1       100000 non-null  float64\n",
      " 3   f2       100000 non-null  float64\n",
      " 4   product  100000 non-null  float64\n",
      "dtypes: float64(4), object(1)\n",
      "memory usage: 3.8+ MB\n",
      "None\n",
      "---------------------------------------------------------------------------------------------------------\n",
      "<class 'pandas.core.frame.DataFrame'>\n",
      "RangeIndex: 100000 entries, 0 to 99999\n",
      "Data columns (total 5 columns):\n",
      " #   Column   Non-Null Count   Dtype  \n",
      "---  ------   --------------   -----  \n",
      " 0   id       100000 non-null  object \n",
      " 1   f0       100000 non-null  float64\n",
      " 2   f1       100000 non-null  float64\n",
      " 3   f2       100000 non-null  float64\n",
      " 4   product  100000 non-null  float64\n",
      "dtypes: float64(4), object(1)\n",
      "memory usage: 3.8+ MB\n",
      "None\n"
     ]
    }
   ],
   "source": [
    "# Imprimimos la información de cada dataset\n",
    "\n",
    "print(region_1.info())\n",
    "print('-------'*15)\n",
    "print(region_2.info())\n",
    "print('-------'*15)\n",
    "print(region_3.info())"
   ]
  },
  {
   "cell_type": "markdown",
   "metadata": {},
   "source": [
    "**Conclusiones Iniciales**\n",
    "\n",
    "- Tenemos datasets para tres regiones diferentes. \n",
    "- Todos los datasets tiene las mismas columnas y la misma cantidad de filas. \n",
    "- Tenemos una columna de id en cada dataset para identificar pozos de reservas únicos. \n",
    "- Tenemos características que nos ayudaran a entrenar nuestros modelos. Estas son las columnas `f0`, `f1`, y `f2`. Y tenemos nuestra columna llamada `producto` que nos indica la cantidad de reservas de petróleo en este pozo. \n",
    "- No tenemos valores ausentes en ninguna de nuestras columnas. \n",
    "\n",
    "### Duplicados "
   ]
  },
  {
   "cell_type": "code",
   "execution_count": 21,
   "metadata": {},
   "outputs": [
    {
     "name": "stdout",
     "output_type": "stream",
     "text": [
      "99990\n",
      "99996\n",
      "99996\n"
     ]
    }
   ],
   "source": [
    "# Imprimimos la cantidad de valores únicos en nuestra columna id de cada dataset\n",
    "\n",
    "print(region_1['id'].nunique())\n",
    "print(region_2['id'].nunique())\n",
    "print(region_3['id'].nunique())"
   ]
  },
  {
   "cell_type": "code",
   "execution_count": 22,
   "metadata": {},
   "outputs": [
    {
     "name": "stdout",
     "output_type": "stream",
     "text": [
      "10\n",
      "4\n",
      "4\n"
     ]
    }
   ],
   "source": [
    "# Imprimimos la cantidad de duplicados en cada dataset.\n",
    "\n",
    "print(region_1['id'].duplicated().sum())\n",
    "print(region_2['id'].duplicated().sum())\n",
    "print(region_3['id'].duplicated().sum())"
   ]
  },
  {
   "cell_type": "markdown",
   "metadata": {},
   "source": [
    "**Conclusiones Duplicados**\n",
    "\n",
    "Ya que tenemos una columna de identificador único, hemos buscado duplicados en esta columna para cada conjunto de datos. Podemos observar que tenemos duplicados en cada conjunto de datos. Tenemos 10 duplicados en la región uno y 4 duplicados en la región dos y tres. Vamos a eliminar estos duplicados para que no afecten a nuestro análisis. \n",
    "\n",
    "**Arreglando duplicados**"
   ]
  },
  {
   "cell_type": "code",
   "execution_count": 23,
   "metadata": {},
   "outputs": [
    {
     "name": "stdout",
     "output_type": "stream",
     "text": [
      "<class 'pandas.core.frame.DataFrame'>\n",
      "Int64Index: 99990 entries, 0 to 99999\n",
      "Data columns (total 5 columns):\n",
      " #   Column   Non-Null Count  Dtype  \n",
      "---  ------   --------------  -----  \n",
      " 0   id       99990 non-null  object \n",
      " 1   f0       99990 non-null  float64\n",
      " 2   f1       99990 non-null  float64\n",
      " 3   f2       99990 non-null  float64\n",
      " 4   product  99990 non-null  float64\n",
      "dtypes: float64(4), object(1)\n",
      "memory usage: 4.6+ MB\n",
      "None\n",
      "------------------------------------------------------------------------------------------\n",
      "<class 'pandas.core.frame.DataFrame'>\n",
      "Int64Index: 99996 entries, 0 to 99999\n",
      "Data columns (total 5 columns):\n",
      " #   Column   Non-Null Count  Dtype  \n",
      "---  ------   --------------  -----  \n",
      " 0   id       99996 non-null  object \n",
      " 1   f0       99996 non-null  float64\n",
      " 2   f1       99996 non-null  float64\n",
      " 3   f2       99996 non-null  float64\n",
      " 4   product  99996 non-null  float64\n",
      "dtypes: float64(4), object(1)\n",
      "memory usage: 4.6+ MB\n",
      "None\n",
      "------------------------------------------------------------------------------------------\n",
      "<class 'pandas.core.frame.DataFrame'>\n",
      "Int64Index: 99996 entries, 0 to 99999\n",
      "Data columns (total 5 columns):\n",
      " #   Column   Non-Null Count  Dtype  \n",
      "---  ------   --------------  -----  \n",
      " 0   id       99996 non-null  object \n",
      " 1   f0       99996 non-null  float64\n",
      " 2   f1       99996 non-null  float64\n",
      " 3   f2       99996 non-null  float64\n",
      " 4   product  99996 non-null  float64\n",
      "dtypes: float64(4), object(1)\n",
      "memory usage: 4.6+ MB\n",
      "None\n",
      "------------------------------------------------------------------------------------------\n"
     ]
    }
   ],
   "source": [
    "# Eliminamos los duplicados de cada dataset en la columna id usando un bucle\n",
    "\n",
    "datasets = [region_1,region_2,region_3]\n",
    "\n",
    "for dataset in datasets:\n",
    "    dataset.drop_duplicates(subset= 'id', inplace=True)\n",
    "    print(dataset.info())\n",
    "    print('------'*15)"
   ]
  },
  {
   "cell_type": "markdown",
   "metadata": {},
   "source": [
    "Ya no tenemos mas duplicados\n",
    "\n",
    "### Outliers\n",
    "\n",
    "Como tenemos tres conjuntos de datos, vamos a tener que analizar los outsiders de cada conjunto de datos por separado. \n",
    "\n",
    "**Outliers data_1**"
   ]
  },
  {
   "cell_type": "code",
   "execution_count": 24,
   "metadata": {},
   "outputs": [],
   "source": [
    "# Creamos una función que nos ayudara a analizar los outsiders de cada conjunto de datos\n",
    "\n",
    "def outliers(df,col,ylabel=None):\n",
    "    df.boxplot(col,figsize=(8,5))\n",
    "    plt.title('Boxplot of ' + col)\n",
    "    plt.ylabel(ylabel)\n",
    "    plt.show()\n",
    "\n",
    "    min = df[col].min()\n",
    "    values_0 = len(df[df[col] <= 0])\n",
    "    percentage_values_0 = '{:.2%}'.format(len(df[df[col] <= 0])/len(df))\n",
    "\n",
    "    Q1 = df[col].quantile(0.25)\n",
    "    Q3 = df[col].quantile(0.75)\n",
    "    IQR = Q3 - Q1\n",
    "\n",
    "    up_limit = Q3 + IQR\n",
    "    low_limit = Q1 - IQR\n",
    "\n",
    "    values_up_limit = len(df[df[col] >= up_limit])\n",
    "    values_low_limit = len(df[df[col] <= low_limit])\n",
    "\n",
    "    percentage_up_limit = '{:.2%}'.format(len(df[df[col] >= up_limit])/len(df))\n",
    "    percentage_low_limit = '{:.2%}'.format(len(df[df[col] <= low_limit])/len(df))\n",
    "\n",
    "    print(df[col].describe())\n",
    "    print()\n",
    "    print(f'El IQR de {col} es {IQR}')\n",
    "    print()\n",
    "    \n",
    "    print(f'EL limite inferior de nuestro boxplot es {low_limit}')\n",
    "    print()\n",
    "    print(f'La cantidad de valores iguales o menores a {low_limit} es {values_low_limit}')\n",
    "    print()\n",
    "    print(f'El porcentaje de valores iguales o menores a {low_limit} es {percentage_low_limit}')\n",
    "\n",
    "    print()\n",
    "    print(f'EL limite superior es de nuestro boxplot es {up_limit}')\n",
    "    print()\n",
    "    print(f'La cantidad de volores iguales o superiores a {up_limit} es {values_up_limit}')\n",
    "    print()\n",
    "    print(f'Elporcentaje de valores iguales o superiores a {up_limit} es {percentage_up_limit}')"
   ]
  },
  {
   "cell_type": "code",
   "execution_count": 25,
   "metadata": {},
   "outputs": [
    {
     "data": {
      "image/png": "[encoded data removed]",
      "text/plain": [
       "<Figure size 576x360 with 1 Axes>"
      ]
     },
     "metadata": {
      "needs_background": "light"
     },
     "output_type": "display_data"
    },
    {
     "name": "stdout",
     "output_type": "stream",
     "text": [
      "count    99990.000000\n",
      "mean         0.500454\n",
      "std          0.871844\n",
      "min         -1.408605\n",
      "25%         -0.072572\n",
      "50%          0.502405\n",
      "75%          1.073626\n",
      "max          2.362331\n",
      "Name: f0, dtype: float64\n",
      "\n",
      "El IQR de f0 es 1.1461982811195714\n",
      "\n",
      "EL limite inferior de nuestro boxplot es -1.2187704912229576\n",
      "\n",
      "La cantidad de valores iguales o menores a -1.2187704912229576 es 41\n",
      "\n",
      "El porcentaje de valores iguales o menores a -1.2187704912229576 es 0.04%\n",
      "\n",
      "EL limite superior es de nuestro boxplot es 2.219824352135757\n",
      "\n",
      "La cantidad de volores iguales o superiores a 2.219824352135757 es 50\n",
      "\n",
      "Elporcentaje de valores iguales o superiores a 2.219824352135757 es 0.05%\n"
     ]
    }
   ],
   "source": [
    "# Outliers de la primera región columna f0\n",
    "\n",
    "outliers(region_1,'f0')"
   ]
  },
  {
   "cell_type": "code",
   "execution_count": 26,
   "metadata": {},
   "outputs": [
    {
     "data": {
      "image/png": "[encoded data removed]",
      "text/plain": [
       "<Figure size 576x360 with 1 Axes>"
      ]
     },
     "metadata": {
      "needs_background": "light"
     },
     "output_type": "display_data"
    },
    {
     "name": "stdout",
     "output_type": "stream",
     "text": [
      "count    99990.000000\n",
      "mean         0.250141\n",
      "std          0.504430\n",
      "min         -0.848218\n",
      "25%         -0.200877\n",
      "50%          0.250252\n",
      "75%          0.700640\n",
      "max          1.343769\n",
      "Name: f1, dtype: float64\n",
      "\n",
      "El IQR de f1 es 0.9015167546436265\n",
      "\n",
      "EL limite inferior de nuestro boxplot es -1.1023938003242804\n",
      "\n",
      "La cantidad de valores iguales o menores a -1.1023938003242804 es 0\n",
      "\n",
      "El porcentaje de valores iguales o menores a -1.1023938003242804 es 0.00%\n",
      "\n",
      "EL limite superior es de nuestro boxplot es 1.6021564636065992\n",
      "\n",
      "La cantidad de volores iguales o superiores a 1.6021564636065992 es 0\n",
      "\n",
      "Elporcentaje de valores iguales o superiores a 1.6021564636065992 es 0.00%\n"
     ]
    }
   ],
   "source": [
    "# Outliers de la primera región columna f1\n",
    "\n",
    "outliers(region_1,'f1')"
   ]
  },
  {
   "cell_type": "code",
   "execution_count": 27,
   "metadata": {},
   "outputs": [
    {
     "data": {
      "image/png": "[encoded data removed]",
      "text/plain": [
       "<Figure size 576x360 with 1 Axes>"
      ]
     },
     "metadata": {
      "needs_background": "light"
     },
     "output_type": "display_data"
    },
    {
     "name": "stdout",
     "output_type": "stream",
     "text": [
      "count    99990.000000\n",
      "mean         2.502629\n",
      "std          3.248149\n",
      "min        -12.088328\n",
      "25%          0.287784\n",
      "50%          2.515969\n",
      "75%          4.715035\n",
      "max         16.003790\n",
      "Name: f2, dtype: float64\n",
      "\n",
      "El IQR de f2 es 4.427251130475917\n",
      "\n",
      "EL limite inferior de nuestro boxplot es -4.139466803655119\n",
      "\n",
      "La cantidad de valores iguales o menores a -4.139466803655119 es 1960\n",
      "\n",
      "El porcentaje de valores iguales o menores a -4.139466803655119 es 1.96%\n",
      "\n",
      "EL limite superior es de nuestro boxplot es 9.142286587772633\n",
      "\n",
      "La cantidad de volores iguales o superiores a 9.142286587772633 es 1976\n",
      "\n",
      "Elporcentaje de valores iguales o superiores a 9.142286587772633 es 1.98%\n"
     ]
    }
   ],
   "source": [
    "# Outliers de la primera región columna f2\n",
    "\n",
    "outliers(region_1,'f2')"
   ]
  },
  {
   "cell_type": "code",
   "execution_count": 28,
   "metadata": {},
   "outputs": [
    {
     "data": {
      "image/png": "[encoded data removed]",
      "text/plain": [
       "<Figure size 576x360 with 1 Axes>"
      ]
     },
     "metadata": {
      "needs_background": "light"
     },
     "output_type": "display_data"
    },
    {
     "name": "stdout",
     "output_type": "stream",
     "text": [
      "count    99990.000000\n",
      "mean        92.499684\n",
      "std         44.288304\n",
      "min          0.000000\n",
      "25%         56.497069\n",
      "50%         91.847928\n",
      "75%        128.563699\n",
      "max        185.364347\n",
      "Name: product, dtype: float64\n",
      "\n",
      "El IQR de product es 72.06662996121355\n",
      "\n",
      "EL limite inferior de nuestro boxplot es -15.569561344697895\n",
      "\n",
      "La cantidad de valores iguales o menores a -15.569561344697895 es 0\n",
      "\n",
      "El porcentaje de valores iguales o menores a -15.569561344697895 es 0.00%\n",
      "\n",
      "EL limite superior es de nuestro boxplot es 200.63032853894276\n",
      "\n",
      "La cantidad de volores iguales o superiores a 200.63032853894276 es 0\n",
      "\n",
      "Elporcentaje de valores iguales o superiores a 200.63032853894276 es 0.00%\n"
     ]
    }
   ],
   "source": [
    "# Outliers de la primera región columna product\n",
    "\n",
    "outliers(region_1,'product')"
   ]
  },
  {
   "cell_type": "markdown",
   "metadata": {},
   "source": [
    "**Conclusiones**\n",
    "\n",
    "En nuestro primer conjunto podemos ver que la mayoría de nuestras columnas tiene cantidad mínima o nula de outliers excepto por la columna `f2`. A pesar de eso, no tenemos suficiente información en cuanto al significado de estos valores. Por ende, no haremos nada al respecto. \n",
    "\n",
    "**Outliers data_2**"
   ]
  },
  {
   "cell_type": "code",
   "execution_count": 29,
   "metadata": {},
   "outputs": [
    {
     "data": {
      "image/png": "[encoded data removed]",
      "text/plain": [
       "<Figure size 576x360 with 1 Axes>"
      ]
     },
     "metadata": {
      "needs_background": "light"
     },
     "output_type": "display_data"
    },
    {
     "name": "stdout",
     "output_type": "stream",
     "text": [
      "count    99996.000000\n",
      "mean         1.141209\n",
      "std          8.965815\n",
      "min        -31.609576\n",
      "25%         -6.298551\n",
      "50%          1.153055\n",
      "75%          8.620964\n",
      "max         29.421755\n",
      "Name: f0, dtype: float64\n",
      "\n",
      "El IQR de f0 es 14.919514699277846\n",
      "\n",
      "EL limite inferior de nuestro boxplot es -21.218065854455343\n",
      "\n",
      "La cantidad de valores iguales o menores a -21.218065854455343 es 67\n",
      "\n",
      "El porcentaje de valores iguales o menores a -21.218065854455343 es 0.07%\n",
      "\n",
      "EL limite superior es de nuestro boxplot es 23.540478243378196\n",
      "\n",
      "La cantidad de volores iguales o superiores a 23.540478243378196 es 75\n",
      "\n",
      "Elporcentaje de valores iguales o superiores a 23.540478243378196 es 0.08%\n"
     ]
    }
   ],
   "source": [
    "# Outliers region dos columna f0\n",
    "\n",
    "outliers(region_2,'f0')"
   ]
  },
  {
   "cell_type": "code",
   "execution_count": 30,
   "metadata": {},
   "outputs": [
    {
     "data": {
      "image/png": "[encoded data removed]",
      "text/plain": [
       "<Figure size 576x360 with 1 Axes>"
      ]
     },
     "metadata": {
      "needs_background": "light"
     },
     "output_type": "display_data"
    },
    {
     "name": "stdout",
     "output_type": "stream",
     "text": [
      "count    99996.000000\n",
      "mean        -4.796608\n",
      "std          5.119906\n",
      "min        -26.358598\n",
      "25%         -8.267985\n",
      "50%         -4.813172\n",
      "75%         -1.332816\n",
      "max         18.734063\n",
      "Name: f1, dtype: float64\n",
      "\n",
      "El IQR de f1 es 6.935168823275486\n",
      "\n",
      "EL limite inferior de nuestro boxplot es -15.203153657944636\n",
      "\n",
      "La cantidad de valores iguales o menores a -15.203153657944636 es 2067\n",
      "\n",
      "El porcentaje de valores iguales o menores a -15.203153657944636 es 2.07%\n",
      "\n",
      "EL limite superior es de nuestro boxplot es 5.602352811881822\n",
      "\n",
      "La cantidad de volores iguales o superiores a 5.602352811881822 es 2125\n",
      "\n",
      "Elporcentaje de valores iguales o superiores a 5.602352811881822 es 2.13%\n"
     ]
    }
   ],
   "source": [
    "# Outliers region dos columna f1\n",
    "\n",
    "outliers(region_2,'f1')"
   ]
  },
  {
   "cell_type": "code",
   "execution_count": 31,
   "metadata": {},
   "outputs": [
    {
     "data": {
      "image/png": "[encoded data removed]",
      "text/plain": [
       "<Figure size 576x360 with 1 Axes>"
      ]
     },
     "metadata": {
      "needs_background": "light"
     },
     "output_type": "display_data"
    },
    {
     "name": "stdout",
     "output_type": "stream",
     "text": [
      "count    99996.000000\n",
      "mean         2.494501\n",
      "std          1.703579\n",
      "min         -0.018144\n",
      "25%          1.000021\n",
      "50%          2.011475\n",
      "75%          3.999904\n",
      "max          5.019721\n",
      "Name: f2, dtype: float64\n",
      "\n",
      "El IQR de f2 es 2.9998833869181905\n",
      "\n",
      "EL limite inferior de nuestro boxplot es -1.9998627073186148\n",
      "\n",
      "La cantidad de valores iguales o menores a -1.9998627073186148 es 0\n",
      "\n",
      "El porcentaje de valores iguales o menores a -1.9998627073186148 es 0.00%\n",
      "\n",
      "EL limite superior es de nuestro boxplot es 6.999787453435957\n",
      "\n",
      "La cantidad de volores iguales o superiores a 6.999787453435957 es 0\n",
      "\n",
      "Elporcentaje de valores iguales o superiores a 6.999787453435957 es 0.00%\n"
     ]
    }
   ],
   "source": [
    "# Outliers region dos columna f2\n",
    "\n",
    "outliers(region_2,'f2')"
   ]
  },
  {
   "cell_type": "code",
   "execution_count": 32,
   "metadata": {},
   "outputs": [
    {
     "data": {
      "image/png": "[encoded data removed]",
      "text/plain": [
       "<Figure size 576x360 with 1 Axes>"
      ]
     },
     "metadata": {
      "needs_background": "light"
     },
     "output_type": "display_data"
    },
    {
     "name": "stdout",
     "output_type": "stream",
     "text": [
      "count    99996.000000\n",
      "mean        68.823916\n",
      "std         45.944663\n",
      "min          0.000000\n",
      "25%         26.953261\n",
      "50%         57.085625\n",
      "75%        107.813044\n",
      "max        137.945408\n",
      "Name: product, dtype: float64\n",
      "\n",
      "El IQR de product es 80.85978309461908\n",
      "\n",
      "EL limite inferior de nuestro boxplot es -53.906522063079386\n",
      "\n",
      "La cantidad de valores iguales o menores a -53.906522063079386 es 0\n",
      "\n",
      "El porcentaje de valores iguales o menores a -53.906522063079386 es 0.00%\n",
      "\n",
      "EL limite superior es de nuestro boxplot es 188.67282722077783\n",
      "\n",
      "La cantidad de volores iguales o superiores a 188.67282722077783 es 0\n",
      "\n",
      "Elporcentaje de valores iguales o superiores a 188.67282722077783 es 0.00%\n"
     ]
    }
   ],
   "source": [
    "# Outliers region dos columna product\n",
    "\n",
    "outliers(region_2,'product')"
   ]
  },
  {
   "cell_type": "markdown",
   "metadata": {},
   "source": [
    "**Conclusiones**\n",
    "\n",
    "En este conjunto de datos tenemos de igual manera casi todas las columnas sin outliers o como un porcentaje de outliers bastante bajo, excepto por la columna `f0`. De igual manera no haremos nada al respecto de los outliers encontrados ya que necesita todos los datos para entrenar nuestro modelo.  \n",
    "\n",
    "**Outliers data_3**"
   ]
  },
  {
   "cell_type": "code",
   "execution_count": 33,
   "metadata": {},
   "outputs": [
    {
     "data": {
      "image/png": "[encoded data removed]",
      "text/plain": [
       "<Figure size 576x360 with 1 Axes>"
      ]
     },
     "metadata": {
      "needs_background": "light"
     },
     "output_type": "display_data"
    },
    {
     "name": "stdout",
     "output_type": "stream",
     "text": [
      "count    99996.000000\n",
      "mean         0.002002\n",
      "std          1.732052\n",
      "min         -8.760004\n",
      "25%         -1.162328\n",
      "50%          0.009424\n",
      "75%          1.158477\n",
      "max          7.238262\n",
      "Name: f0, dtype: float64\n",
      "\n",
      "El IQR de f0 es 2.3208050886187266\n",
      "\n",
      "EL limite inferior de nuestro boxplot es -3.483132771407444\n",
      "\n",
      "La cantidad de valores iguales o menores a -3.483132771407444 es 2203\n",
      "\n",
      "El porcentaje de valores iguales o menores a -3.483132771407444 es 2.20%\n",
      "\n",
      "EL limite superior es de nuestro boxplot es 3.4792824944487357\n",
      "\n",
      "La cantidad de volores iguales o superiores a 3.4792824944487357 es 2301\n",
      "\n",
      "Elporcentaje de valores iguales o superiores a 3.4792824944487357 es 2.30%\n"
     ]
    }
   ],
   "source": [
    "# Outliers región tres columna f0\n",
    "\n",
    "outliers(region_3,'f0')"
   ]
  },
  {
   "cell_type": "code",
   "execution_count": 34,
   "metadata": {},
   "outputs": [
    {
     "data": {
      "image/png": "[encoded data removed]",
      "text/plain": [
       "<Figure size 576x360 with 1 Axes>"
      ]
     },
     "metadata": {
      "needs_background": "light"
     },
     "output_type": "display_data"
    },
    {
     "name": "stdout",
     "output_type": "stream",
     "text": [
      "count    99996.000000\n",
      "mean        -0.002159\n",
      "std          1.730397\n",
      "min         -7.084020\n",
      "25%         -1.174841\n",
      "50%         -0.009661\n",
      "75%          1.163523\n",
      "max          7.844801\n",
      "Name: f1, dtype: float64\n",
      "\n",
      "El IQR de f1 es 2.3383633749506085\n",
      "\n",
      "EL limite inferior de nuestro boxplot es -3.513204053491714\n",
      "\n",
      "La cantidad de valores iguales o menores a -3.513204053491714 es 2092\n",
      "\n",
      "El porcentaje de valores iguales o menores a -3.513204053491714 es 2.09%\n",
      "\n",
      "EL limite superior es de nuestro boxplot es 3.501886071360111\n",
      "\n",
      "La cantidad de volores iguales o superiores a 3.501886071360111 es 2209\n",
      "\n",
      "Elporcentaje de valores iguales o superiores a 3.501886071360111 es 2.21%\n"
     ]
    }
   ],
   "source": [
    "# Outliers región tres columna f1\n",
    "\n",
    "outliers(region_3,'f1')"
   ]
  },
  {
   "cell_type": "code",
   "execution_count": 35,
   "metadata": {},
   "outputs": [
    {
     "data": {
      "image/png": "[encoded data removed]",
      "text/plain": [
       "<Figure size 576x360 with 1 Axes>"
      ]
     },
     "metadata": {
      "needs_background": "light"
     },
     "output_type": "display_data"
    },
    {
     "name": "stdout",
     "output_type": "stream",
     "text": [
      "count    99996.000000\n",
      "mean         2.495084\n",
      "std          3.473482\n",
      "min        -11.970335\n",
      "25%          0.130269\n",
      "50%          2.484236\n",
      "75%          4.858720\n",
      "max         16.739402\n",
      "Name: f2, dtype: float64\n",
      "\n",
      "El IQR de f2 es 4.728450978495317\n",
      "\n",
      "EL limite inferior de nuestro boxplot es -4.598182087413645\n",
      "\n",
      "La cantidad de valores iguales o menores a -4.598182087413645 es 2019\n",
      "\n",
      "El porcentaje de valores iguales o menores a -4.598182087413645 es 2.02%\n",
      "\n",
      "EL limite superior es de nuestro boxplot es 9.587170848072308\n",
      "\n",
      "La cantidad de volores iguales o superiores a 9.587170848072308 es 2013\n",
      "\n",
      "Elporcentaje de valores iguales o superiores a 9.587170848072308 es 2.01%\n"
     ]
    }
   ],
   "source": [
    "# Outliers región tres columna f2\n",
    "\n",
    "outliers(region_3,'f2')"
   ]
  },
  {
   "cell_type": "code",
   "execution_count": 36,
   "metadata": {},
   "outputs": [
    {
     "data": {
      "image/png": "[encoded data removed]",
      "text/plain": [
       "<Figure size 576x360 with 1 Axes>"
      ]
     },
     "metadata": {
      "needs_background": "light"
     },
     "output_type": "display_data"
    },
    {
     "name": "stdout",
     "output_type": "stream",
     "text": [
      "count    99996.000000\n",
      "mean        94.998342\n",
      "std         44.749573\n",
      "min          0.000000\n",
      "25%         59.450028\n",
      "50%         94.925026\n",
      "75%        130.586815\n",
      "max        190.029838\n",
      "Name: product, dtype: float64\n",
      "\n",
      "El IQR de product es 71.13678684086165\n",
      "\n",
      "EL limite inferior de nuestro boxplot es -11.686758529076648\n",
      "\n",
      "La cantidad de valores iguales o menores a -11.686758529076648 es 0\n",
      "\n",
      "El porcentaje de valores iguales o menores a -11.686758529076648 es 0.00%\n",
      "\n",
      "EL limite superior es de nuestro boxplot es 201.72360199350828\n",
      "\n",
      "La cantidad de volores iguales o superiores a 201.72360199350828 es 0\n",
      "\n",
      "Elporcentaje de valores iguales o superiores a 201.72360199350828 es 0.00%\n"
     ]
    }
   ],
   "source": [
    "# Outliers región tres columna product\n",
    "\n",
    "outliers(region_3,'product')"
   ]
  },
  {
   "cell_type": "markdown",
   "metadata": {},
   "source": [
    "**Conclusiones**\n",
    "\n",
    "En esta columna, la mayoría de las columnas tiene outliers excepto por la columna `product`. De igual manera no haremos nada al respecto. \n",
    "\n",
    "## Creación del Modelos\n",
    "\n",
    "Haremos lo siguiente:\n",
    "\n",
    "- Crearemos un modelo de regresión lineal para cada región\n",
    "- Dividiremos nuestros datasets en conjuntos de características y objetivos.\n",
    "- Dividiremos nuestros conjuntos de características y objetivos en conjuntos de entrenamiento y validación. Los conjuntos de validación serán un 25% de los conjuntos de entrenamiento ya que necesitamos la mayor cantidad de datos para poder entrenar a cada uno de nuestros modelos. \n",
    "\n",
    "\n",
    "### Region 1"
   ]
  },
  {
   "cell_type": "code",
   "execution_count": 37,
   "metadata": {},
   "outputs": [],
   "source": [
    "# Dividimos nuestro conjunto de datos en características y objetivo. \n",
    "\n",
    "features_1 = region_1.drop(['id','product'],axis=1)\n",
    "target_1 = region_1['product'] \n",
    "\n",
    "# Creamos conjuntos de entrenamiento y validación \n",
    "\n",
    "features_train, features_valid, target_train, target_valid_1 = train_test_split(\n",
    "    features_1, target_1, test_size=0.25, random_state=12345)"
   ]
  },
  {
   "cell_type": "code",
   "execution_count": 38,
   "metadata": {},
   "outputs": [
    {
     "name": "stdout",
     "output_type": "stream",
     "text": [
      "1432.8895312377324\n",
      "37.853527328872964\n",
      "92.78915638280621\n"
     ]
    }
   ],
   "source": [
    "# Entrenamos nuestro modelo de regresión logística\n",
    "\n",
    "scaler = StandardScaler()\n",
    "scaler.fit(features_train)\n",
    "features_train = scaler.transform(features_train)\n",
    "features_valid = scaler.transform(features_valid)\n",
    "\n",
    "model = LinearRegression()\n",
    "model.fit(features_train, target_train)\n",
    "predictions_1 = model.predict(features_valid)\n",
    "mse = mean_squared_error(target_valid_1, predictions_1)\n",
    "rmse_1 = mse**0.5\n",
    "print(mse)\n",
    "print(rmse_1)\n",
    "print(predictions_1.mean())"
   ]
  },
  {
   "cell_type": "markdown",
   "metadata": {},
   "source": [
    "### Region 2"
   ]
  },
  {
   "cell_type": "code",
   "execution_count": 39,
   "metadata": {},
   "outputs": [],
   "source": [
    "# Dividimos nuestro conjunto de datos en características y objetivo. \n",
    "\n",
    "features_2 = region_2.drop(['id','product'],axis=1)\n",
    "target_2 = region_2['product'] \n",
    "\n",
    "# Creamos conjuntos de entrenamiento y validación \n",
    "\n",
    "features_train, features_valid, target_train, target_valid_2 = train_test_split(\n",
    "    features_2, target_2, test_size=0.25, random_state=12345)"
   ]
  },
  {
   "cell_type": "code",
   "execution_count": 40,
   "metadata": {},
   "outputs": [
    {
     "name": "stdout",
     "output_type": "stream",
     "text": [
      "0.7957697318650319\n",
      "0.8920592647717033\n",
      "69.1783195703043\n"
     ]
    }
   ],
   "source": [
    "# Entrenamos nuestro modelo de regresión logística\n",
    "\n",
    "scaler = StandardScaler()\n",
    "scaler.fit(features_train)\n",
    "features_train = scaler.transform(features_train)\n",
    "features_valid = scaler.transform(features_valid)\n",
    "\n",
    "model = LinearRegression()\n",
    "model.fit(features_train, target_train)\n",
    "predictions_2 = model.predict(features_valid)\n",
    "mse = mean_squared_error(target_valid_2, predictions_2)\n",
    "rmse_2 = mse**0.5\n",
    "print(mse)\n",
    "print(rmse_2)\n",
    "print(predictions_2.mean())"
   ]
  },
  {
   "cell_type": "markdown",
   "metadata": {},
   "source": [
    "### Region 3"
   ]
  },
  {
   "cell_type": "code",
   "execution_count": 41,
   "metadata": {},
   "outputs": [],
   "source": [
    "# Dividimos nuestro conjunto de datos en características y objetivo. \n",
    "\n",
    "features_3 = region_3.drop(['id','product'],axis=1)\n",
    "target_3 = region_3['product'] \n",
    "\n",
    "# Creamos conjuntos de entrenamiento y validación \n",
    "\n",
    "features_train, features_valid, target_train, target_valid_3 = train_test_split(\n",
    "    features_3, target_3, test_size=0.25, random_state=12345)"
   ]
  },
  {
   "cell_type": "code",
   "execution_count": 42,
   "metadata": {},
   "outputs": [
    {
     "name": "stdout",
     "output_type": "stream",
     "text": [
      "1606.0738119304278\n",
      "40.07585073246016\n",
      "94.86572480562035\n"
     ]
    }
   ],
   "source": [
    "# Entrenamos nuestro modelo de regresión logística\n",
    "\n",
    "scaler = StandardScaler()\n",
    "scaler.fit(features_train)\n",
    "features_train = scaler.transform(features_train)\n",
    "features_valid = scaler.transform(features_valid)\n",
    "model = LinearRegression()\n",
    "model.fit(features_train, target_train)\n",
    "predictions_3 = model.predict(features_valid)\n",
    "mse = mean_squared_error(target_valid_3, predictions_3)\n",
    "rmse_3 = mse**0.5\n",
    "print(mse)\n",
    "print(rmse_3)\n",
    "print(predictions_3.mean())"
   ]
  },
  {
   "cell_type": "code",
   "execution_count": 43,
   "metadata": {},
   "outputs": [
    {
     "name": "stdout",
     "output_type": "stream",
     "text": [
      "92.78915638280621\n",
      "69.1783195703043\n",
      "94.86572480562035\n"
     ]
    }
   ],
   "source": [
    "print(predictions_1.mean())\n",
    "print(predictions_2.mean())\n",
    "print(predictions_3.mean())\n"
   ]
  },
  {
   "cell_type": "code",
   "execution_count": 44,
   "metadata": {},
   "outputs": [
    {
     "name": "stdout",
     "output_type": "stream",
     "text": [
      "92.15820490940044\n",
      "69.18604400957675\n",
      "94.7851093536914\n"
     ]
    }
   ],
   "source": [
    "print(target_valid_1.mean())\n",
    "print(target_valid_2.mean())\n",
    "print(target_valid_3.mean())"
   ]
  },
  {
   "cell_type": "markdown",
   "metadata": {},
   "source": [
    "**Conclusiones**\n",
    "\n",
    "- El modelo con RECM más bajo es el modelo de regresión logística de la región dos. \n",
    "- El mejor promedio del volumnen de las reservas de petróleo por pozo es el de la reserva tres con un promedio de 94.79. Después le sigue la reserva número uno y al último tenemos la reserva número dos. \n",
    "- Imprimimos los promedios de reservas de cada región tanto las predicciones y los valores reales y podemos ver que cada valor se acerca bastante al real. \n",
    "\n",
    "\n",
    "## Preparación para el cálculo de ganancias\n",
    "\n",
    "Necesitamos averiguar cuál es la mejor región para poder establecer un nuevo pozo para la empresa. Para esto vamos averiguar el volumen de reservas de petróleo que necesitamos para no tener pérdidas. También crearemos una función que nos ayudara a calcular el beneficio obtenido en cada región y así poder encontrar la región con mayor porcentaje de ganancia.  "
   ]
  },
  {
   "cell_type": "code",
   "execution_count": 45,
   "metadata": {},
   "outputs": [
    {
     "data": {
      "text/plain": [
       "111.11111111111111"
      ]
     },
     "execution_count": 45,
     "metadata": {},
     "output_type": "execute_result"
    }
   ],
   "source": [
    "# Averiguamos la cantidad de reservas de petróleo por pozo que necesitamos para no tener pérdidas. \n",
    "\n",
    "oil_wells_needed = 200\n",
    "budget = 100000000\n",
    "earnings_per_product = 4500\n",
    "oil_barrels_break_even = budget / (oil_wells_needed * earnings_per_product)\n",
    "oil_barrels_break_even"
   ]
  },
  {
   "cell_type": "markdown",
   "metadata": {},
   "source": [
    "**Conclusiones**\n",
    "\n",
    "Podemos ver que necesitamos que cada pozo tenga al menos 111 en volumen de reservas para poder llegar al punto de recuperar toda la inversión de los 100 mil dólares. Si comparamos este volumen de reservas con los volúmenes promedio de cada región, vemos que ningún volumen promedio de ninguna región llega al valor necesitado. El que más se acerca es el de la tres uno con un volumen promedio de 94. Sin embargo, este es solo el valor promedio. En nuestro siguiente análisis podremos ver exactamente cuál región genera más posos con mayor volumen que nos ayudara a obtener la mayor cantidad de ganancias. \n",
    "\n",
    "**Ganancias por Region**"
   ]
  },
  {
   "cell_type": "code",
   "execution_count": 46,
   "metadata": {},
   "outputs": [],
   "source": [
    "def profit(predictions, price, budget,count):\n",
    "    predictions_sorted = np.sort(predictions)[::-1][:count]\n",
    "    result = (predictions_sorted.sum() * price) - budget\n",
    "    return result"
   ]
  },
  {
   "cell_type": "code",
   "execution_count": 47,
   "metadata": {},
   "outputs": [
    {
     "name": "stdout",
     "output_type": "stream",
     "text": [
      "Profit Region 1 $40482848.45853189\n",
      "Profit Region 2 $25483307.266412303\n",
      "Profit Region 3 $34271108.1928581\n"
     ]
    }
   ],
   "source": [
    "print(f'Profit Region 1 ${profit(predictions_1, earnings_per_product, budget,201)}')\n",
    "print(f'Profit Region 2 ${profit(predictions_2, earnings_per_product, budget,201)}')\n",
    "print(f'Profit Region 3 ${profit(predictions_3, earnings_per_product, budget,201)}')"
   ]
  },
  {
   "cell_type": "markdown",
   "metadata": {},
   "source": [
    "**Conclusiones**\n",
    "\n",
    "Al tomar los 200 valores más altos de cada una de nuestras regiones y aplicarles nuestra función de ganancias, podemos ver que todas las regiones están generando ganancias. Esto quiere decir que los volúmenes de reservas de cada pozo en cada región son suficiente para generar ganancias. Sin embargo, podemos ver claramente que es la región uno la que está generando mayores ganancias según las predicciones de nuestro modelo. \n",
    "\n",
    "## Riesgos y Ganacias por Region\n",
    "\n",
    "Vamos a analizar las posibles ganancias que podríamos obtener de acuerdo a cada región que hemos analizado. Para esto vamos a utilizar la técnica de bootstraping utilizando mil muestras. Vamos a encontrar el beneficio promedio, el intervalo de confianza de 95%, y el riesgo de pérdida de cada región. \n",
    "\n",
    "### Region 1"
   ]
  },
  {
   "cell_type": "code",
   "execution_count": 48,
   "metadata": {},
   "outputs": [
    {
     "name": "stdout",
     "output_type": "stream",
     "text": [
      "Ingresos promedio: 4259844.868432617\n",
      "Cuantil del 2.5 %: 2030717.7430345155\n",
      "Cuantil del 97.5 %: 6541709.536444148\n",
      "Riesgo de perdida: 0.0\n"
     ]
    }
   ],
   "source": [
    "state = np.random.RandomState(12345)\n",
    "    \n",
    "values = []\n",
    "\n",
    "losses_count = 0\n",
    "\n",
    "predictions_1 = pd.Series(predictions_1)\n",
    "\n",
    "for i in range(1000):\n",
    "    probs_subsample_1 = predictions_1.sample(n=500, replace=True, random_state=state)\n",
    "    \n",
    "    profit_value = profit(probs_subsample_1, earnings_per_product, budget, 201)\n",
    "\n",
    "    values.append(profit_value)\n",
    "    \n",
    "    if profit_value < 0:\n",
    "        losses_count += 1\n",
    "    \n",
    "values = pd.Series(values)\n",
    "lower = values.quantile(0.025)\n",
    "upper = values.quantile(0.975)\n",
    "\n",
    "mean = values.mean()\n",
    "print(\"Ingresos promedio:\", mean)\n",
    "print(\"Cuantil del 2.5 %:\", lower)\n",
    "print(\"Cuantil del 97.5 %:\", upper)\n",
    "print(\"Riesgo de perdida:\", losses_count/1000)"
   ]
  },
  {
   "cell_type": "markdown",
   "metadata": {},
   "source": [
    "### Region 2"
   ]
  },
  {
   "cell_type": "code",
   "execution_count": 49,
   "metadata": {},
   "outputs": [
    {
     "name": "stdout",
     "output_type": "stream",
     "text": [
      "Ingresos promedio: 5124092.438007004\n",
      "Cuantil del 2.5 %: 1242104.2021179376\n",
      "Cuantil del 97.5 %: 9048408.25514625\n",
      "Riesgo de perdida: 0.008\n"
     ]
    }
   ],
   "source": [
    "state = np.random.RandomState(12345)\n",
    "    \n",
    "values = []\n",
    "\n",
    "losses_count = 0\n",
    "\n",
    "predictions_2 = pd.Series(predictions_2)\n",
    "\n",
    "for i in range(1000):\n",
    "    probs_subsample_2 = predictions_2.sample(n=500, replace=True, random_state=state)\n",
    "    \n",
    "    profit_value = profit(probs_subsample_2, earnings_per_product, budget, 201)\n",
    "\n",
    "    values.append(profit_value)\n",
    "    \n",
    "    if profit_value < 0:\n",
    "        losses_count += 1\n",
    "    \n",
    "values = pd.Series(values)\n",
    "lower = values.quantile(0.025)\n",
    "upper = values.quantile(0.975)\n",
    "\n",
    "mean = values.mean()\n",
    "print(\"Ingresos promedio:\", mean)\n",
    "print(\"Cuantil del 2.5 %:\", lower)\n",
    "print(\"Cuantil del 97.5 %:\", upper)\n",
    "print(\"Riesgo de perdida:\", losses_count/1000)"
   ]
  },
  {
   "cell_type": "markdown",
   "metadata": {},
   "source": [
    "### Region 3"
   ]
  },
  {
   "cell_type": "code",
   "execution_count": 50,
   "metadata": {},
   "outputs": [
    {
     "name": "stdout",
     "output_type": "stream",
     "text": [
      "Ingresos promedio: 3446770.5792718227\n",
      "Cuantil del 2.5 %: 1483787.3507156507\n",
      "Cuantil del 97.5 %: 5439694.915130092\n",
      "Riesgo de perdida: 0.0\n"
     ]
    }
   ],
   "source": [
    "state = np.random.RandomState(12345)\n",
    "    \n",
    "values = []\n",
    "losses_count = 0\n",
    "\n",
    "predictions_3 = pd.Series(predictions_3)\n",
    "\n",
    "for i in range(1000):\n",
    "    probs_subsample_3 = predictions_3.sample(n=500, replace=True, random_state=state)\n",
    "    \n",
    "    profit_value = profit(probs_subsample_3, earnings_per_product, budget, 201)\n",
    "\n",
    "    values.append(profit_value)\n",
    "    \n",
    "    if profit_value < 0:\n",
    "        losses_count += 1\n",
    "        \n",
    "values = pd.Series(values)\n",
    "lower = values.quantile(0.025)\n",
    "upper = values.quantile(0.975)\n",
    "\n",
    "mean = values.mean()\n",
    "print(\"Ingresos promedio:\", mean)\n",
    "print(\"Cuantil del 2.5 %:\", lower)\n",
    "print(\"Cuantil del 97.5 %:\", upper)\n",
    "print(\"Riesgo de perdida:\", losses_count/1000)"
   ]
  },
  {
   "cell_type": "markdown",
   "metadata": {},
   "source": [
    "**Conclusiones**\n",
    "\n",
    "- Todas las regiones generan ingresos\n",
    "- Ninguna región genera pérdidas. \n",
    "- La región con mayores ganancias tras la implementación de la técnica de bootstrapping fue a región dos. Con un promedio de ganancias de 5,124,092, un intervalo de confianza del 95% (1,242,104-9,048,408), y un riesgo de pérdidas de 0.008%. \n",
    "- Sería recomendable hacer el pozo en la región dos ya que tiene mayores posibilidades de generar mayores ingresos que las otras dos regiones.\n",
    "\n",
    "\n",
    "## Conclusiones Generales\n",
    "\n",
    "**Exploración de datos**\n",
    "\n",
    "- Tenemos datasets para tres regiones diferentes.\n",
    "- Todos los datasets tiene las mismas columnas y la misma cantidad de filas.\n",
    "- Tenemos una columna de id en cada dataset para identificar pozos de reservas únicos.\n",
    "- Tenemos características que nos ayudaran a entrenar nuestros modelos. Estas son las columnas f0, f1, y f2. Y tenemos nuestra columna llamada producto que nos indica la cantidad de reservas de petróleo en este pozo.\n",
    "- No tenemos valores ausentes en ninguna de nuestras columnas.\n",
    "\n",
    "**Duplicados**\n",
    "\n",
    "- Encontramos duplicados en cada conjunto de datos y los eliminamos. \n",
    "\n",
    "**Outliers**\n",
    "\n",
    "- Encontramos diferentes patrones de outliers en cada conjunto de datos. No todas las columnas tenían outliers. \n",
    "- No hicimos nada con respecto a los outliers ya que necesitábamos todos los datos para entrenar nuestros modelos. \n",
    "\n",
    "**Creación de Modelos**\n",
    "\n",
    "- El modelo con RECM más bajo es el modelo de regresión logística de la región dos.\n",
    "- El mejor promedio del volumnen de las reservas de petróleo por pozo es el de la reserva tres con un promedio de 94.79. Después le sigue la reserva número uno y al último tenemos la reserva número dos.\n",
    "\n",
    "**Riesgos y Ganancias por Región**\n",
    "\n",
    "- Todas las regiones generan ingresos\n",
    "- Ninguna región genera pérdidas. \n",
    "- La región con mayores ganancias tras la implementación de la técnica de bootstrapping fue a región dos. Con un promedio de ganancias de 5,124,092, un intervalo de confianza del 95% (1,242,104-9,048,408), y un riesgo de pérdidas de 0.008%. \n",
    "- Sería recomendable hacer el pozo en la región dos ya que tiene mayores posibilidades de generar mayores ingresos que las otras dos regiones.\n"
   ]
  }
 ],
 "metadata": {
  "kernelspec": {
   "display_name": "Python 3 (ipykernel)",
   "language": "python",
   "name": "python3"
  },
  "language_info": {
   "codemirror_mode": {
    "name": "ipython",
    "version": 3
   },
   "file_extension": ".py",
   "mimetype": "text/x-python",
   "name": "python",
   "nbconvert_exporter": "python",
   "pygments_lexer": "ipython3",
   "version": "3.9.5"
  },
  "toc": {
   "base_numbering": 1,
   "nav_menu": {},
   "number_sections": true,
   "sideBar": true,
   "skip_h1_title": true,
   "title_cell": "Table of Contents",
   "title_sidebar": "Contents",
   "toc_cell": false,
   "toc_position": {},
   "toc_section_display": true,
   "toc_window_display": true
  }
 },
 "nbformat": 4,
 "nbformat_minor": 2
}
