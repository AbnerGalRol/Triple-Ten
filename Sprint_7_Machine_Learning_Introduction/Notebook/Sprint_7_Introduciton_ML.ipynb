{
 "cells": [
  {
   "cell_type": "code",
   "execution_count": 7,
   "metadata": {},
   "outputs": [],
   "source": [
    "# Importamos las librerías que vamos a necesitar\n",
    "\n",
    "import pandas as pd\n",
    "from sklearn.tree import DecisionTreeClassifier\n",
    "from sklearn.ensemble import RandomForestClassifier\n",
    "from sklearn.linear_model import LogisticRegression\n",
    "from sklearn.model_selection import train_test_split, GridSearchCV\n",
    "from sklearn.metrics import roc_curve, roc_auc_score\n",
    "import matplotlib.pyplot as plt"
   ]
  },
  {
   "cell_type": "code",
   "execution_count": 8,
   "metadata": {},
   "outputs": [
    {
     "data": {
      "text/html": [
       "<div>\n",
       "<style scoped>\n",
       "    .dataframe tbody tr th:only-of-type {\n",
       "        vertical-align: middle;\n",
       "    }\n",
       "\n",
       "    .dataframe tbody tr th {\n",
       "        vertical-align: top;\n",
       "    }\n",
       "\n",
       "    .dataframe thead th {\n",
       "        text-align: right;\n",
       "    }\n",
       "</style>\n",
       "<table border=\"1\" class=\"dataframe\">\n",
       "  <thead>\n",
       "    <tr style=\"text-align: right;\">\n",
       "      <th></th>\n",
       "      <th>calls</th>\n",
       "      <th>minutes</th>\n",
       "      <th>messages</th>\n",
       "      <th>mb_used</th>\n",
       "      <th>is_ultra</th>\n",
       "    </tr>\n",
       "  </thead>\n",
       "  <tbody>\n",
       "    <tr>\n",
       "      <th>0</th>\n",
       "      <td>40.0</td>\n",
       "      <td>311.90</td>\n",
       "      <td>83.0</td>\n",
       "      <td>19915.42</td>\n",
       "      <td>0</td>\n",
       "    </tr>\n",
       "    <tr>\n",
       "      <th>1</th>\n",
       "      <td>85.0</td>\n",
       "      <td>516.75</td>\n",
       "      <td>56.0</td>\n",
       "      <td>22696.96</td>\n",
       "      <td>0</td>\n",
       "    </tr>\n",
       "    <tr>\n",
       "      <th>2</th>\n",
       "      <td>77.0</td>\n",
       "      <td>467.66</td>\n",
       "      <td>86.0</td>\n",
       "      <td>21060.45</td>\n",
       "      <td>0</td>\n",
       "    </tr>\n",
       "    <tr>\n",
       "      <th>3</th>\n",
       "      <td>106.0</td>\n",
       "      <td>745.53</td>\n",
       "      <td>81.0</td>\n",
       "      <td>8437.39</td>\n",
       "      <td>1</td>\n",
       "    </tr>\n",
       "    <tr>\n",
       "      <th>4</th>\n",
       "      <td>66.0</td>\n",
       "      <td>418.74</td>\n",
       "      <td>1.0</td>\n",
       "      <td>14502.75</td>\n",
       "      <td>0</td>\n",
       "    </tr>\n",
       "  </tbody>\n",
       "</table>\n",
       "</div>"
      ],
      "text/plain": [
       "   calls  minutes  messages   mb_used  is_ultra\n",
       "0   40.0   311.90      83.0  19915.42         0\n",
       "1   85.0   516.75      56.0  22696.96         0\n",
       "2   77.0   467.66      86.0  21060.45         0\n",
       "3  106.0   745.53      81.0   8437.39         1\n",
       "4   66.0   418.74       1.0  14502.75         0"
      ]
     },
     "execution_count": 8,
     "metadata": {},
     "output_type": "execute_result"
    }
   ],
   "source": [
    "# Importamos el dataset\n",
    "\n",
    "users_behavior = pd.read_csv('/datasets/users_behavior.csv')\n",
    "users_behavior.head()"
   ]
  },
  {
   "cell_type": "code",
   "execution_count": 9,
   "metadata": {},
   "outputs": [
    {
     "name": "stdout",
     "output_type": "stream",
     "text": [
      "<class 'pandas.core.frame.DataFrame'>\n",
      "RangeIndex: 3214 entries, 0 to 3213\n",
      "Data columns (total 5 columns):\n",
      " #   Column    Non-Null Count  Dtype  \n",
      "---  ------    --------------  -----  \n",
      " 0   calls     3214 non-null   float64\n",
      " 1   minutes   3214 non-null   float64\n",
      " 2   messages  3214 non-null   float64\n",
      " 3   mb_used   3214 non-null   float64\n",
      " 4   is_ultra  3214 non-null   int64  \n",
      "dtypes: float64(4), int64(1)\n",
      "memory usage: 125.7 KB\n"
     ]
    }
   ],
   "source": [
    "# Usamos el método info\n",
    "\n",
    "users_behavior.info()"
   ]
  },
  {
   "cell_type": "code",
   "execution_count": 10,
   "metadata": {
    "scrolled": true
   },
   "outputs": [
    {
     "data": {
      "text/html": [
       "<div>\n",
       "<style scoped>\n",
       "    .dataframe tbody tr th:only-of-type {\n",
       "        vertical-align: middle;\n",
       "    }\n",
       "\n",
       "    .dataframe tbody tr th {\n",
       "        vertical-align: top;\n",
       "    }\n",
       "\n",
       "    .dataframe thead th {\n",
       "        text-align: right;\n",
       "    }\n",
       "</style>\n",
       "<table border=\"1\" class=\"dataframe\">\n",
       "  <thead>\n",
       "    <tr style=\"text-align: right;\">\n",
       "      <th></th>\n",
       "      <th>calls</th>\n",
       "      <th>minutes</th>\n",
       "      <th>messages</th>\n",
       "      <th>mb_used</th>\n",
       "      <th>is_ultra</th>\n",
       "    </tr>\n",
       "  </thead>\n",
       "  <tbody>\n",
       "    <tr>\n",
       "      <th>count</th>\n",
       "      <td>3214.000000</td>\n",
       "      <td>3214.000000</td>\n",
       "      <td>3214.000000</td>\n",
       "      <td>3214.000000</td>\n",
       "      <td>3214.000000</td>\n",
       "    </tr>\n",
       "    <tr>\n",
       "      <th>mean</th>\n",
       "      <td>63.038892</td>\n",
       "      <td>438.208787</td>\n",
       "      <td>38.281269</td>\n",
       "      <td>17207.673836</td>\n",
       "      <td>0.306472</td>\n",
       "    </tr>\n",
       "    <tr>\n",
       "      <th>std</th>\n",
       "      <td>33.236368</td>\n",
       "      <td>234.569872</td>\n",
       "      <td>36.148326</td>\n",
       "      <td>7570.968246</td>\n",
       "      <td>0.461100</td>\n",
       "    </tr>\n",
       "    <tr>\n",
       "      <th>min</th>\n",
       "      <td>0.000000</td>\n",
       "      <td>0.000000</td>\n",
       "      <td>0.000000</td>\n",
       "      <td>0.000000</td>\n",
       "      <td>0.000000</td>\n",
       "    </tr>\n",
       "    <tr>\n",
       "      <th>25%</th>\n",
       "      <td>40.000000</td>\n",
       "      <td>274.575000</td>\n",
       "      <td>9.000000</td>\n",
       "      <td>12491.902500</td>\n",
       "      <td>0.000000</td>\n",
       "    </tr>\n",
       "    <tr>\n",
       "      <th>50%</th>\n",
       "      <td>62.000000</td>\n",
       "      <td>430.600000</td>\n",
       "      <td>30.000000</td>\n",
       "      <td>16943.235000</td>\n",
       "      <td>0.000000</td>\n",
       "    </tr>\n",
       "    <tr>\n",
       "      <th>75%</th>\n",
       "      <td>82.000000</td>\n",
       "      <td>571.927500</td>\n",
       "      <td>57.000000</td>\n",
       "      <td>21424.700000</td>\n",
       "      <td>1.000000</td>\n",
       "    </tr>\n",
       "    <tr>\n",
       "      <th>max</th>\n",
       "      <td>244.000000</td>\n",
       "      <td>1632.060000</td>\n",
       "      <td>224.000000</td>\n",
       "      <td>49745.730000</td>\n",
       "      <td>1.000000</td>\n",
       "    </tr>\n",
       "  </tbody>\n",
       "</table>\n",
       "</div>"
      ],
      "text/plain": [
       "             calls      minutes     messages       mb_used     is_ultra\n",
       "count  3214.000000  3214.000000  3214.000000   3214.000000  3214.000000\n",
       "mean     63.038892   438.208787    38.281269  17207.673836     0.306472\n",
       "std      33.236368   234.569872    36.148326   7570.968246     0.461100\n",
       "min       0.000000     0.000000     0.000000      0.000000     0.000000\n",
       "25%      40.000000   274.575000     9.000000  12491.902500     0.000000\n",
       "50%      62.000000   430.600000    30.000000  16943.235000     0.000000\n",
       "75%      82.000000   571.927500    57.000000  21424.700000     1.000000\n",
       "max     244.000000  1632.060000   224.000000  49745.730000     1.000000"
      ]
     },
     "execution_count": 10,
     "metadata": {},
     "output_type": "execute_result"
    }
   ],
   "source": [
    "# Utilizamos el método describe\n",
    "\n",
    "users_behavior.describe()"
   ]
  },
  {
   "cell_type": "markdown",
   "metadata": {},
   "source": [
    "**Observaciones Iniciales**\n",
    "\n",
    "Ya que nuestro dataset ha sido trabajado previamente, podemos observar que no tenemos valores ausentes en ninguna de las columnas. Y como ya ha sido pre procesado no necesitamos hacerle ningún cambio. \n",
    "Vemos que tenemos 5 columnas con las cuales trabajaremos para realizar nuestros distintos modelos y poder escoger el que más nos sirva.  Cada columna, exceptuando la de `is_ultra`, tiene datos que nos ayudaran a que el modelo entienda el comportamiento de los clientes y así poder predecir el tipo de plan que le conviene a cada cliente según la cantidad de mensajes, llamadas, minutos, y megas que utilicen. \n",
    "\n",
    "\n",
    "## Modelos\n",
    "\n",
    "Antes de realizar nuestros distintos modelos vamos a:\n",
    "- Crear nuestros datasets de características y de objetivo\n",
    "- Vamos a dividir nuestros datasets de características y objetivo en datasets de entrenamiento, validación, y prueba. \n",
    "\n",
    "Después crearemos y analizaremos tres diferentes tipos de modelos\n",
    "- Árbol de decisión\n",
    "- Bosque Aleatorio\n",
    "- Regresión Logística\n",
    "\n",
    "Y decidiremos cual es el mejor basadnos en la métrica de exactitud y el roc curve"
   ]
  },
  {
   "cell_type": "code",
   "execution_count": 11,
   "metadata": {},
   "outputs": [],
   "source": [
    "# Creamos una fórmula que nos ayudara en la comprobación de nuestros modelos.\n",
    "\n",
    "def get_roc_plot_data(y, predictions):\n",
    "    fpr, tpr, _ = roc_curve(y,\n",
    "                            predictions,\n",
    "                            pos_label=None,\n",
    "                            drop_intermediate=True)\n",
    "    auc = round(roc_auc_score(y, predictions), 5)\n",
    "\n",
    "    return fpr, tpr, auc\n",
    "\n",
    "\n",
    "def plot_roc(custom_axis, y, predictions):\n",
    "\n",
    "    multiple_curves = isinstance(y, dict)\n",
    "\n",
    "    custom_axis.axis([-0.01,1.01,0,1.01])\n",
    "    custom_axis.set(xlabel=\"False Positive Rate\", ylabel=\"Recall\")\n",
    "    custom_axis.set_title(\"ROC Curve\")\n",
    "\n",
    "    if not multiple_curves:\n",
    "        fpr, tpr, auc = get_roc_plot_data(y, predictions)\n",
    "\n",
    "        custom_axis.plot(fpr, tpr)\n",
    "        custom_axis.text(0.65, 0.02, 'AUC: ' + str(auc), fontsize=12)\n",
    "    else:\n",
    "        for i in range(len(y)):\n",
    "            model = list(y.keys())[i]\n",
    "            fpr, tpr, auc = get_roc_plot_data(y[model], predictions[model])\n",
    "\n",
    "            custom_axis.plot(fpr, tpr, label=model)\n",
    "            custom_axis.legend(bbox_to_anchor=(1.05, 1), loc='upper left', borderaxespad=0.)\n",
    "            custom_axis.text(0.50, 0.02 + i*0.1, f\"{model} AUC: {str(auc)}\", fontsize=12)\n",
    "\n",
    "    custom_axis.plot([0,1],[0,1])\n",
    "\n",
    "    return []"
   ]
  },
  {
   "cell_type": "code",
   "execution_count": 12,
   "metadata": {},
   "outputs": [],
   "source": [
    "# Dividimos nuestro dataset en dataset de entrenamiento y dataset de prueba. \n",
    "\n",
    "features = users_behavior.drop(['is_ultra'], axis=1)\n",
    "target = users_behavior['is_ultra']\n",
    "\n",
    "features_train, features_test, target_train, target_test = train_test_split(\n",
    "    features, target, test_size=0.25, random_state=12345)"
   ]
  },
  {
   "cell_type": "markdown",
   "metadata": {},
   "source": [
    "Ya que necesitamos la mayor cantidad de datos para entrenar a nuestros modelos vamos a hacer una división de 0.75:0.25. Esto quiere decir que tendremos el 75% de nuestros datos para poder entrenar a nuestro modelo y utilizaremos el otro 25% para probar nuestros modelos y encontrar el mejor. "
   ]
  },
  {
   "cell_type": "markdown",
   "metadata": {},
   "source": [
    "### Árbol de decisión"
   ]
  },
  {
   "cell_type": "code",
   "execution_count": 13,
   "metadata": {},
   "outputs": [
    {
     "name": "stdout",
     "output_type": "stream",
     "text": [
      "DecisionTreeClassifier(criterion='entropy', max_depth=7, random_state=54321)\n",
      "0.8049792531120332\n"
     ]
    }
   ],
   "source": [
    "param_grid = {\n",
    "    'random_state':[12345,54321],\n",
    "    'criterion':['gini','entropy'],\n",
    "    'max_depth':[1,2,3,4,5,6,7,8,9,10,11],\n",
    "    'min_samples_split':[2,3,4,5,6]\n",
    "}\n",
    "\n",
    "grid_search = GridSearchCV(\n",
    "    estimator=DecisionTreeClassifier(), param_grid=param_grid, cv=5, scoring='accuracy')\n",
    "\n",
    "grid_search.fit(features_train, target_train)\n",
    "\n",
    "best_params = grid_search.best_params_\n",
    "best_score = grid_search.best_score_\n",
    "\n",
    "best_model = grid_search.best_estimator_\n",
    "predict_tree = best_model.predict(features_test)\n",
    "\n",
    "print(best_model)\n",
    "print(best_score)"
   ]
  },
  {
   "cell_type": "code",
   "execution_count": 14,
   "metadata": {},
   "outputs": [
    {
     "data": {
      "image/png": "[encoded data removed]",
      "text/plain": [
       "<Figure size 432x360 with 1 Axes>"
      ]
     },
     "metadata": {
      "needs_background": "light"
     },
     "output_type": "display_data"
    }
   ],
   "source": [
    "# Utilizamos nuestra función para crear el grafico plot_roc\n",
    "\n",
    "fig, ax = plt.subplots(figsize=(6, 5))\n",
    "\n",
    "plot_roc(\n",
    "    custom_axis= ax,\n",
    "    y= target_test,\n",
    "    predictions= predict_tree\n",
    ")\n",
    "\n",
    "fig.tight_layout(pad=3.0)"
   ]
  },
  {
   "cell_type": "markdown",
   "metadata": {},
   "source": [
    "**Conclusion**\n",
    "\n",
    "Hemos utilizado el método GridSearchCV de la librería Sklearn para poder encontrar el mejor modelo de Árbol de Decisión. \n",
    "\n",
    "Podemos ver que para nuestro conjunto de prueba la profundidad con mayor eficacia es de 7, el mejor criterion es \"entropy\", y random_state es 54321. Dando exactitud de 0.804. \n",
    "\n",
    "También podemos observar nuestra grafica con la curva ROC. Usando nuestro dataset de prueba obtenemos un AUC de 0.681. \n",
    "\n",
    "\n",
    "### Bosque Aleatorio"
   ]
  },
  {
   "cell_type": "code",
   "execution_count": 15,
   "metadata": {},
   "outputs": [
    {
     "name": "stdout",
     "output_type": "stream",
     "text": [
      "RandomForestClassifier(max_depth=9, min_samples_split=4, n_estimators=15,\n",
      "                       random_state=12345)\n",
      "0.8145228215767635\n"
     ]
    }
   ],
   "source": [
    "param_grid = {\n",
    "    'random_state':[12345,54321],\n",
    "    'n_estimators':[1,2,3,4,5,6,7,8,9,10,11,12,13,14,15,16],\n",
    "    'max_depth':[1,2,3,4,5,6,7,8,9,10,11],\n",
    "    'min_samples_split': [2, 3, 4]\n",
    "}\n",
    "\n",
    "grid_search = GridSearchCV(\n",
    "    estimator=RandomForestClassifier(), param_grid=param_grid, cv=5, scoring='accuracy')\n",
    "\n",
    "grid_search.fit(features_train, target_train)\n",
    "\n",
    "best_params = grid_search.best_params_\n",
    "best_score = grid_search.best_score_\n",
    "\n",
    "best_model = grid_search.best_estimator_\n",
    "predict_forest = best_model.predict(features_test)\n",
    "\n",
    "print(best_model)\n",
    "print(best_score)"
   ]
  },
  {
   "cell_type": "code",
   "execution_count": 16,
   "metadata": {},
   "outputs": [
    {
     "data": {
      "image/png": "[encoded data removed]",
      "text/plain": [
       "<Figure size 432x360 with 1 Axes>"
      ]
     },
     "metadata": {
      "needs_background": "light"
     },
     "output_type": "display_data"
    }
   ],
   "source": [
    "# Utilizamos nuestra función para crear el grafico plot_roc\n",
    "\n",
    "fig, ax = plt.subplots(figsize=(6, 5))\n",
    "\n",
    "plot_roc(\n",
    "    custom_axis= ax,\n",
    "    y= target_test,\n",
    "    predictions= predict_forest\n",
    ")\n",
    "\n",
    "fig.tight_layout(pad=3.0)"
   ]
  },
  {
   "cell_type": "markdown",
   "metadata": {},
   "source": [
    "**Conclusiones**\n",
    "\n",
    "Al igual que en nuestro modelo anterior, hemos el método GridSearchCV de la librería Sklearn para probar distintos iperparametros.  \n",
    "\n",
    "Podemos ver que al usar nuestro dataset de prueba los mejores iperparametros son los siguientes: max_depth=9, min_samples_split=4, n_estimators=15, random_state=12345. Dando una exactitud de 0.814. Siendo esta mejor que nuestro modelo anterior.  \n",
    "\n",
    "También podemos ver nuestra curva ROC de este modelo con un AUC de 0.719.Tambien sindo mejor que nuestro modelo anterior. \n",
    "\n",
    "\n",
    "### Regresión Logística"
   ]
  },
  {
   "cell_type": "code",
   "execution_count": 17,
   "metadata": {},
   "outputs": [
    {
     "name": "stdout",
     "output_type": "stream",
     "text": [
      "LogisticRegression(C=10, max_iter=500, penalty='l1', solver='liblinear')\n",
      "0.7419087136929461\n"
     ]
    }
   ],
   "source": [
    "param_grid = {\n",
    "    'penalty': ['l1', 'l2'],\n",
    "    'C': [0.1, 1, 10],\n",
    "    'solver': ['liblinear'],\n",
    "    'max_iter': [100, 500, 1000]\n",
    "}\n",
    "\n",
    "grid_search = GridSearchCV(\n",
    "    estimator=LogisticRegression(), param_grid=param_grid, cv=5, scoring='accuracy')\n",
    "\n",
    "grid_search.fit(features_train, target_train)\n",
    "\n",
    "best_params = grid_search.best_params_\n",
    "best_score = grid_search.best_score_\n",
    "\n",
    "best_model = grid_search.best_estimator_\n",
    "predict_lr = best_model.predict(features_test)\n",
    "\n",
    "print(best_model)\n",
    "print(best_score)"
   ]
  },
  {
   "cell_type": "code",
   "execution_count": 18,
   "metadata": {},
   "outputs": [
    {
     "data": {
      "image/png": "[encoded data removed]",
      "text/plain": [
       "<Figure size 432x360 with 1 Axes>"
      ]
     },
     "metadata": {
      "needs_background": "light"
     },
     "output_type": "display_data"
    }
   ],
   "source": [
    "# Utilizamos nuestra función para crear el grafico plot_roc\n",
    "\n",
    "fig, ax = plt.subplots(figsize=(6, 5))\n",
    "\n",
    "plot_roc(\n",
    "    custom_axis= ax,\n",
    "    y= target_test,\n",
    "    predictions= predict_lr\n",
    ")\n",
    "\n",
    "fig.tight_layout(pad=3.0)"
   ]
  },
  {
   "cell_type": "markdown",
   "metadata": {},
   "source": [
    "**Conclusiones**\n",
    "\n",
    "Al igual que en nuestro modelo anterior, hemos el método GridSearchCV de la librería Sklearn para probar distintos iperparametros.  \n",
    "\n",
    "Podemos ver que al usar nuestro dataset de prueba los mejores iperparametros son los siguientes: C=10, max_iter=500, penalty='l1', solver='liblinear'). Con una exactitud de 0.75. \n",
    "\n",
    "Nuestro AUC de la gráfica de ROC curve es de 0.607. \n",
    "\n",
    "Todas las métricas de este modelo resultaron ser más bajas que las de los dos modelos previos. "
   ]
  },
  {
   "cell_type": "markdown",
   "metadata": {},
   "source": [
    "## Conclusiones Generales\n",
    "\n",
    "Analizamos nuestro dataset que ya ha sido pre-procesado y hemos visto que tenemos 4 columnas con características para nuestro modelo y nuestra columna objetivo que es `is_ultra`. \n",
    "\n",
    "Vimos que no tenemos valores duplicados y cada columna tiene su correcto D-type. \n",
    "\n",
    "No tuvimos que hacer mayores cambios al dataset ya que había sido previamente procesado. \n",
    "\n",
    "Dividimos nuestro dataset en dataset de entrenamiento y dataset de prueba. Dejamos el 75% de nuestros dataos para entrenar los modelos y el 25% para hacer las pruebas. \n",
    "\n",
    "Utilizamos el método GridSearchCV de la librería Sklearn para poder encontrar los mejores modelos.\n",
    "En nuestro modelo de árbol de cisión, los mejores parámetros fueron los siguientes: criterion='entropy', max_depth=7, y random_state= 54321. Y obtuvimos una exactitud de 0.804.\n",
    "\n",
    "En nuestro modelo de bosque aleatorio, los mejores parámetros fueron los siguientes: max_depth= 9, n_estimators= 4, random_state=12345). Dando una exactitud de 0.814. Siendo esta mejor que nuestro modelo anterior.  \n",
    "\n",
    "En nuestro modelo de regresión logistica, los mejores parámetros fueron los siguientes: C=10, max_iter=500, penalty='l1', solver='liblinear'). Con una exactitud de 0.75.\n",
    "\n",
    "El modelo con la exactitud y AUC con mejor puntaje es nuestro modelo de árbol de decisión. Sin, embargo este modelo se demora un tiempo considerable en dar sus predicciones. Como segunda opción tenemos a el árbol de decisión también con una buena métrica y un tiempo de espera más razonable. \n"
   ]
  }
 ],
 "metadata": {
  "kernelspec": {
   "display_name": "Python 3 (ipykernel)",
   "language": "python",
   "name": "python3"
  },
  "language_info": {
   "codemirror_mode": {
    "name": "ipython",
    "version": 3
   },
   "file_extension": ".py",
   "mimetype": "text/x-python",
   "name": "python",
   "nbconvert_exporter": "python",
   "pygments_lexer": "ipython3",
   "version": "3.9.5"
  },
  "toc": {
   "base_numbering": 1,
   "nav_menu": {},
   "number_sections": true,
   "sideBar": true,
   "skip_h1_title": true,
   "title_cell": "Table of Contents",
   "title_sidebar": "Contents",
   "toc_cell": false,
   "toc_position": {},
   "toc_section_display": true,
   "toc_window_display": true
  }
 },
 "nbformat": 4,
 "nbformat_minor": 2
}
