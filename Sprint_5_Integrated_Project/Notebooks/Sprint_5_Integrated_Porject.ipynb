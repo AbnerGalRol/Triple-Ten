{
 "cells": [
  {
   "cell_type": "markdown",
   "metadata": {},
   "source": [
    "## Inicialización\n",
    "\n",
    "Primero cargamos las todas las librerías que vamos a necesitar en el proyecto."
   ]
  },
  {
   "cell_type": "code",
   "execution_count": 1,
   "metadata": {},
   "outputs": [],
   "source": [
    "# Cargamos todas las librerías\n",
    "import numpy as np\n",
    "import pandas as pd\n",
    "import matplotlib.pyplot as plt\n",
    "from math import factorial\n",
    "from scipy import stats as st \n",
    "from scipy.stats import levene"
   ]
  },
  {
   "cell_type": "markdown",
   "metadata": {},
   "source": [
    "## Cargar datos\n",
    "\n",
    "Cargamos nuestro DataFrame para hacer el primer análisis."
   ]
  },
  {
   "cell_type": "code",
   "execution_count": 2,
   "metadata": {},
   "outputs": [],
   "source": [
    "# Cargamos los datos\n",
    "games = pd.read_csv('/datasets/games.csv')"
   ]
  },
  {
   "cell_type": "markdown",
   "metadata": {},
   "source": [
    "## Exploracion de datos iniciales\n",
    "\n",
    "El dataset contiene los siguientes campos:\n",
    "\n",
    "- Name - (Nombre)\n",
    "- Platform - (Plataforma)\n",
    "- Year_of_Release - (Año de lanzamiento)\n",
    "- Genre - (Género)\n",
    "- NA_sales - (ventas en Norteamérica en millones de dólares estadounidenses)\n",
    "- EU_sales - (ventas en Europa en millones de dólares estadounidenses)\n",
    "- JP_sales - (ventas en Japón en millones de dólares estadounidenses)\n",
    "- Other_sales - (ventas en otros países en millones de dólares estadounidenses)\n",
    "- Critic_Score - (máximo de 100)\n",
    "- User_Score - (máximo de 10)\n",
    "- Clasificación - (ESRB)\n",
    "\n",
    "Vamos a iniciar con un análisis general de la tabla para poder tener una idea de los datos con los que estamos trabajando. "
   ]
  },
  {
   "cell_type": "code",
   "execution_count": 3,
   "metadata": {},
   "outputs": [
    {
     "name": "stdout",
     "output_type": "stream",
     "text": [
      "<class 'pandas.core.frame.DataFrame'>\n",
      "RangeIndex: 16715 entries, 0 to 16714\n",
      "Data columns (total 11 columns):\n",
      " #   Column           Non-Null Count  Dtype  \n",
      "---  ------           --------------  -----  \n",
      " 0   Name             16713 non-null  object \n",
      " 1   Platform         16715 non-null  object \n",
      " 2   Year_of_Release  16446 non-null  float64\n",
      " 3   Genre            16713 non-null  object \n",
      " 4   NA_sales         16715 non-null  float64\n",
      " 5   EU_sales         16715 non-null  float64\n",
      " 6   JP_sales         16715 non-null  float64\n",
      " 7   Other_sales      16715 non-null  float64\n",
      " 8   Critic_Score     8137 non-null   float64\n",
      " 9   User_Score       10014 non-null  object \n",
      " 10  Rating           9949 non-null   object \n",
      "dtypes: float64(6), object(5)\n",
      "memory usage: 1.4+ MB\n"
     ]
    }
   ],
   "source": [
    "# Imprimimos la información general de la tabla\n",
    "games.info()"
   ]
  },
  {
   "cell_type": "code",
   "execution_count": 4,
   "metadata": {},
   "outputs": [
    {
     "data": {
      "text/html": [
       "<div>\n",
       "<style scoped>\n",
       "    .dataframe tbody tr th:only-of-type {\n",
       "        vertical-align: middle;\n",
       "    }\n",
       "\n",
       "    .dataframe tbody tr th {\n",
       "        vertical-align: top;\n",
       "    }\n",
       "\n",
       "    .dataframe thead th {\n",
       "        text-align: right;\n",
       "    }\n",
       "</style>\n",
       "<table border=\"1\" class=\"dataframe\">\n",
       "  <thead>\n",
       "    <tr style=\"text-align: right;\">\n",
       "      <th></th>\n",
       "      <th>Year_of_Release</th>\n",
       "      <th>NA_sales</th>\n",
       "      <th>EU_sales</th>\n",
       "      <th>JP_sales</th>\n",
       "      <th>Other_sales</th>\n",
       "      <th>Critic_Score</th>\n",
       "    </tr>\n",
       "  </thead>\n",
       "  <tbody>\n",
       "    <tr>\n",
       "      <th>count</th>\n",
       "      <td>16446.000000</td>\n",
       "      <td>16715.000000</td>\n",
       "      <td>16715.000000</td>\n",
       "      <td>16715.000000</td>\n",
       "      <td>16715.000000</td>\n",
       "      <td>8137.000000</td>\n",
       "    </tr>\n",
       "    <tr>\n",
       "      <th>mean</th>\n",
       "      <td>2006.484616</td>\n",
       "      <td>0.263377</td>\n",
       "      <td>0.145060</td>\n",
       "      <td>0.077617</td>\n",
       "      <td>0.047342</td>\n",
       "      <td>68.967679</td>\n",
       "    </tr>\n",
       "    <tr>\n",
       "      <th>std</th>\n",
       "      <td>5.877050</td>\n",
       "      <td>0.813604</td>\n",
       "      <td>0.503339</td>\n",
       "      <td>0.308853</td>\n",
       "      <td>0.186731</td>\n",
       "      <td>13.938165</td>\n",
       "    </tr>\n",
       "    <tr>\n",
       "      <th>min</th>\n",
       "      <td>1980.000000</td>\n",
       "      <td>0.000000</td>\n",
       "      <td>0.000000</td>\n",
       "      <td>0.000000</td>\n",
       "      <td>0.000000</td>\n",
       "      <td>13.000000</td>\n",
       "    </tr>\n",
       "    <tr>\n",
       "      <th>25%</th>\n",
       "      <td>2003.000000</td>\n",
       "      <td>0.000000</td>\n",
       "      <td>0.000000</td>\n",
       "      <td>0.000000</td>\n",
       "      <td>0.000000</td>\n",
       "      <td>60.000000</td>\n",
       "    </tr>\n",
       "    <tr>\n",
       "      <th>50%</th>\n",
       "      <td>2007.000000</td>\n",
       "      <td>0.080000</td>\n",
       "      <td>0.020000</td>\n",
       "      <td>0.000000</td>\n",
       "      <td>0.010000</td>\n",
       "      <td>71.000000</td>\n",
       "    </tr>\n",
       "    <tr>\n",
       "      <th>75%</th>\n",
       "      <td>2010.000000</td>\n",
       "      <td>0.240000</td>\n",
       "      <td>0.110000</td>\n",
       "      <td>0.040000</td>\n",
       "      <td>0.030000</td>\n",
       "      <td>79.000000</td>\n",
       "    </tr>\n",
       "    <tr>\n",
       "      <th>max</th>\n",
       "      <td>2016.000000</td>\n",
       "      <td>41.360000</td>\n",
       "      <td>28.960000</td>\n",
       "      <td>10.220000</td>\n",
       "      <td>10.570000</td>\n",
       "      <td>98.000000</td>\n",
       "    </tr>\n",
       "  </tbody>\n",
       "</table>\n",
       "</div>"
      ],
      "text/plain": [
       "       Year_of_Release      NA_sales      EU_sales      JP_sales  \\\n",
       "count     16446.000000  16715.000000  16715.000000  16715.000000   \n",
       "mean       2006.484616      0.263377      0.145060      0.077617   \n",
       "std           5.877050      0.813604      0.503339      0.308853   \n",
       "min        1980.000000      0.000000      0.000000      0.000000   \n",
       "25%        2003.000000      0.000000      0.000000      0.000000   \n",
       "50%        2007.000000      0.080000      0.020000      0.000000   \n",
       "75%        2010.000000      0.240000      0.110000      0.040000   \n",
       "max        2016.000000     41.360000     28.960000     10.220000   \n",
       "\n",
       "        Other_sales  Critic_Score  \n",
       "count  16715.000000   8137.000000  \n",
       "mean       0.047342     68.967679  \n",
       "std        0.186731     13.938165  \n",
       "min        0.000000     13.000000  \n",
       "25%        0.000000     60.000000  \n",
       "50%        0.010000     71.000000  \n",
       "75%        0.030000     79.000000  \n",
       "max       10.570000     98.000000  "
      ]
     },
     "execution_count": 4,
     "metadata": {},
     "output_type": "execute_result"
    }
   ],
   "source": [
    "# Imprimimos un .describe()\n",
    "games.describe()"
   ]
  },
  {
   "cell_type": "code",
   "execution_count": 5,
   "metadata": {},
   "outputs": [
    {
     "data": {
      "text/plain": [
       "0"
      ]
     },
     "execution_count": 5,
     "metadata": {},
     "output_type": "execute_result"
    }
   ],
   "source": [
    "# Tenemos valores duplicados en la tabla?\n",
    "games.duplicated().sum()"
   ]
  },
  {
   "cell_type": "code",
   "execution_count": 6,
   "metadata": {},
   "outputs": [
    {
     "data": {
      "text/html": [
       "<div>\n",
       "<style scoped>\n",
       "    .dataframe tbody tr th:only-of-type {\n",
       "        vertical-align: middle;\n",
       "    }\n",
       "\n",
       "    .dataframe tbody tr th {\n",
       "        vertical-align: top;\n",
       "    }\n",
       "\n",
       "    .dataframe thead th {\n",
       "        text-align: right;\n",
       "    }\n",
       "</style>\n",
       "<table border=\"1\" class=\"dataframe\">\n",
       "  <thead>\n",
       "    <tr style=\"text-align: right;\">\n",
       "      <th></th>\n",
       "      <th>Name</th>\n",
       "      <th>Platform</th>\n",
       "      <th>Year_of_Release</th>\n",
       "      <th>Genre</th>\n",
       "      <th>NA_sales</th>\n",
       "      <th>EU_sales</th>\n",
       "      <th>JP_sales</th>\n",
       "      <th>Other_sales</th>\n",
       "      <th>Critic_Score</th>\n",
       "      <th>User_Score</th>\n",
       "      <th>Rating</th>\n",
       "    </tr>\n",
       "  </thead>\n",
       "  <tbody>\n",
       "    <tr>\n",
       "      <th>0</th>\n",
       "      <td>Wii Sports</td>\n",
       "      <td>Wii</td>\n",
       "      <td>2006.0</td>\n",
       "      <td>Sports</td>\n",
       "      <td>41.36</td>\n",
       "      <td>28.96</td>\n",
       "      <td>3.77</td>\n",
       "      <td>8.45</td>\n",
       "      <td>76.0</td>\n",
       "      <td>8</td>\n",
       "      <td>E</td>\n",
       "    </tr>\n",
       "    <tr>\n",
       "      <th>1</th>\n",
       "      <td>Super Mario Bros.</td>\n",
       "      <td>NES</td>\n",
       "      <td>1985.0</td>\n",
       "      <td>Platform</td>\n",
       "      <td>29.08</td>\n",
       "      <td>3.58</td>\n",
       "      <td>6.81</td>\n",
       "      <td>0.77</td>\n",
       "      <td>NaN</td>\n",
       "      <td>NaN</td>\n",
       "      <td>NaN</td>\n",
       "    </tr>\n",
       "    <tr>\n",
       "      <th>2</th>\n",
       "      <td>Mario Kart Wii</td>\n",
       "      <td>Wii</td>\n",
       "      <td>2008.0</td>\n",
       "      <td>Racing</td>\n",
       "      <td>15.68</td>\n",
       "      <td>12.76</td>\n",
       "      <td>3.79</td>\n",
       "      <td>3.29</td>\n",
       "      <td>82.0</td>\n",
       "      <td>8.3</td>\n",
       "      <td>E</td>\n",
       "    </tr>\n",
       "    <tr>\n",
       "      <th>3</th>\n",
       "      <td>Wii Sports Resort</td>\n",
       "      <td>Wii</td>\n",
       "      <td>2009.0</td>\n",
       "      <td>Sports</td>\n",
       "      <td>15.61</td>\n",
       "      <td>10.93</td>\n",
       "      <td>3.28</td>\n",
       "      <td>2.95</td>\n",
       "      <td>80.0</td>\n",
       "      <td>8</td>\n",
       "      <td>E</td>\n",
       "    </tr>\n",
       "    <tr>\n",
       "      <th>4</th>\n",
       "      <td>Pokemon Red/Pokemon Blue</td>\n",
       "      <td>GB</td>\n",
       "      <td>1996.0</td>\n",
       "      <td>Role-Playing</td>\n",
       "      <td>11.27</td>\n",
       "      <td>8.89</td>\n",
       "      <td>10.22</td>\n",
       "      <td>1.00</td>\n",
       "      <td>NaN</td>\n",
       "      <td>NaN</td>\n",
       "      <td>NaN</td>\n",
       "    </tr>\n",
       "  </tbody>\n",
       "</table>\n",
       "</div>"
      ],
      "text/plain": [
       "                       Name Platform  Year_of_Release         Genre  NA_sales  \\\n",
       "0                Wii Sports      Wii           2006.0        Sports     41.36   \n",
       "1         Super Mario Bros.      NES           1985.0      Platform     29.08   \n",
       "2            Mario Kart Wii      Wii           2008.0        Racing     15.68   \n",
       "3         Wii Sports Resort      Wii           2009.0        Sports     15.61   \n",
       "4  Pokemon Red/Pokemon Blue       GB           1996.0  Role-Playing     11.27   \n",
       "\n",
       "   EU_sales  JP_sales  Other_sales  Critic_Score User_Score Rating  \n",
       "0     28.96      3.77         8.45          76.0          8      E  \n",
       "1      3.58      6.81         0.77           NaN        NaN    NaN  \n",
       "2     12.76      3.79         3.29          82.0        8.3      E  \n",
       "3     10.93      3.28         2.95          80.0          8      E  \n",
       "4      8.89     10.22         1.00           NaN        NaN    NaN  "
      ]
     },
     "execution_count": 6,
     "metadata": {},
     "output_type": "execute_result"
    }
   ],
   "source": [
    "# Imprimimos una muestra de los datos\n",
    "games.head()"
   ]
  },
  {
   "cell_type": "markdown",
   "metadata": {},
   "source": [
    "**Observaciones Iniciales**\n",
    "\n",
    "En nuestra revisión general de los datos de nuestra tabla podemos observar lo siguiente:\n",
    "\n",
    "- Todos los nombres de nuestras columnas están en mayúsculas. Vamos a cambiar los nombres a minúsculas. \n",
    "- Tenemos valores ausentes en las columnas `name`, `year_of_release`, `genre`, `critic_score`, `user_score`, y `rating`.\n",
    "- El Dtype de la columna `year_of_release` es float y podríamos cambiarla a datetime. \n",
    "- El Dtype de la columna `user_core ` es object y podríamos cambiarla a float ya que es un número. \n",
    "- En la columna `year_of_release` tenemos datos desde el ao 1980 hasta el 2016.\n",
    "- En la columna `na_sales` tenemos valores desde 0 hasta 41.36 millones de dólares. \n",
    "- En la columna `eu_sales ` tenemos valores desde 0 hasta 28.96 millones de dólares. \n",
    "- En la columna `jp_sales` tenemos valores desde 0 hasta 10.22 millones de dólares. \n",
    "- En la columna `other_sales` tenemos valores desde 0 hasta 10.57 millones de dólares. \n",
    "- En la columna `critic_score ` tenemos valores desde 13 hasta 98. \n",
    "- No tenemos valores duplicados en la tabla en general\n"
   ]
  },
  {
   "cell_type": "markdown",
   "metadata": {},
   "source": [
    "## Preparar los datos\n",
    "\n",
    "En esta sección vamos a preparar nuestros datos antes de realizar el análisis. Vamos a tomar cada columna y analizar la razón de valores ausentes, valores atípicos, valores duplicados, y tomar dediciones para dejar nuestros datos listos para el análisis. "
   ]
  },
  {
   "cell_type": "code",
   "execution_count": 7,
   "metadata": {},
   "outputs": [
    {
     "data": {
      "text/html": [
       "<div>\n",
       "<style scoped>\n",
       "    .dataframe tbody tr th:only-of-type {\n",
       "        vertical-align: middle;\n",
       "    }\n",
       "\n",
       "    .dataframe tbody tr th {\n",
       "        vertical-align: top;\n",
       "    }\n",
       "\n",
       "    .dataframe thead th {\n",
       "        text-align: right;\n",
       "    }\n",
       "</style>\n",
       "<table border=\"1\" class=\"dataframe\">\n",
       "  <thead>\n",
       "    <tr style=\"text-align: right;\">\n",
       "      <th></th>\n",
       "      <th>name</th>\n",
       "      <th>platform</th>\n",
       "      <th>year_of_release</th>\n",
       "      <th>genre</th>\n",
       "      <th>na_sales</th>\n",
       "      <th>eu_sales</th>\n",
       "      <th>jp_sales</th>\n",
       "      <th>other_sales</th>\n",
       "      <th>critic_score</th>\n",
       "      <th>user_score</th>\n",
       "      <th>rating</th>\n",
       "    </tr>\n",
       "  </thead>\n",
       "  <tbody>\n",
       "    <tr>\n",
       "      <th>0</th>\n",
       "      <td>Wii Sports</td>\n",
       "      <td>Wii</td>\n",
       "      <td>2006.0</td>\n",
       "      <td>Sports</td>\n",
       "      <td>41.36</td>\n",
       "      <td>28.96</td>\n",
       "      <td>3.77</td>\n",
       "      <td>8.45</td>\n",
       "      <td>76.0</td>\n",
       "      <td>8</td>\n",
       "      <td>E</td>\n",
       "    </tr>\n",
       "    <tr>\n",
       "      <th>1</th>\n",
       "      <td>Super Mario Bros.</td>\n",
       "      <td>NES</td>\n",
       "      <td>1985.0</td>\n",
       "      <td>Platform</td>\n",
       "      <td>29.08</td>\n",
       "      <td>3.58</td>\n",
       "      <td>6.81</td>\n",
       "      <td>0.77</td>\n",
       "      <td>NaN</td>\n",
       "      <td>NaN</td>\n",
       "      <td>NaN</td>\n",
       "    </tr>\n",
       "    <tr>\n",
       "      <th>2</th>\n",
       "      <td>Mario Kart Wii</td>\n",
       "      <td>Wii</td>\n",
       "      <td>2008.0</td>\n",
       "      <td>Racing</td>\n",
       "      <td>15.68</td>\n",
       "      <td>12.76</td>\n",
       "      <td>3.79</td>\n",
       "      <td>3.29</td>\n",
       "      <td>82.0</td>\n",
       "      <td>8.3</td>\n",
       "      <td>E</td>\n",
       "    </tr>\n",
       "    <tr>\n",
       "      <th>3</th>\n",
       "      <td>Wii Sports Resort</td>\n",
       "      <td>Wii</td>\n",
       "      <td>2009.0</td>\n",
       "      <td>Sports</td>\n",
       "      <td>15.61</td>\n",
       "      <td>10.93</td>\n",
       "      <td>3.28</td>\n",
       "      <td>2.95</td>\n",
       "      <td>80.0</td>\n",
       "      <td>8</td>\n",
       "      <td>E</td>\n",
       "    </tr>\n",
       "    <tr>\n",
       "      <th>4</th>\n",
       "      <td>Pokemon Red/Pokemon Blue</td>\n",
       "      <td>GB</td>\n",
       "      <td>1996.0</td>\n",
       "      <td>Role-Playing</td>\n",
       "      <td>11.27</td>\n",
       "      <td>8.89</td>\n",
       "      <td>10.22</td>\n",
       "      <td>1.00</td>\n",
       "      <td>NaN</td>\n",
       "      <td>NaN</td>\n",
       "      <td>NaN</td>\n",
       "    </tr>\n",
       "  </tbody>\n",
       "</table>\n",
       "</div>"
      ],
      "text/plain": [
       "                       name platform  year_of_release         genre  na_sales  \\\n",
       "0                Wii Sports      Wii           2006.0        Sports     41.36   \n",
       "1         Super Mario Bros.      NES           1985.0      Platform     29.08   \n",
       "2            Mario Kart Wii      Wii           2008.0        Racing     15.68   \n",
       "3         Wii Sports Resort      Wii           2009.0        Sports     15.61   \n",
       "4  Pokemon Red/Pokemon Blue       GB           1996.0  Role-Playing     11.27   \n",
       "\n",
       "   eu_sales  jp_sales  other_sales  critic_score user_score rating  \n",
       "0     28.96      3.77         8.45          76.0          8      E  \n",
       "1      3.58      6.81         0.77           NaN        NaN    NaN  \n",
       "2     12.76      3.79         3.29          82.0        8.3      E  \n",
       "3     10.93      3.28         2.95          80.0          8      E  \n",
       "4      8.89     10.22         1.00           NaN        NaN    NaN  "
      ]
     },
     "execution_count": 7,
     "metadata": {},
     "output_type": "execute_result"
    }
   ],
   "source": [
    "# Primero cambamos los nombres de nuestra tabla a minúsculas. \n",
    "games.columns = games.columns.str.lower()\n",
    "\n",
    "# Comprobamos\n",
    "games.head()"
   ]
  },
  {
   "cell_type": "markdown",
   "metadata": {},
   "source": [
    "### `name`\n",
    "\n",
    "Vamos a iniciar analizando nuestra columna `name`. En nuestro análisis general vimos que tenemos valores ausentes en esta columna. Vamos ver estas columnas e intentar decidir cómo resolver este problema. Además, analizaremos posibles datos duplicados y qué hacer con ellos. \n",
    "\n",
    "#### Valores Ausentes"
   ]
  },
  {
   "cell_type": "code",
   "execution_count": 8,
   "metadata": {},
   "outputs": [
    {
     "data": {
      "text/html": [
       "<div>\n",
       "<style scoped>\n",
       "    .dataframe tbody tr th:only-of-type {\n",
       "        vertical-align: middle;\n",
       "    }\n",
       "\n",
       "    .dataframe tbody tr th {\n",
       "        vertical-align: top;\n",
       "    }\n",
       "\n",
       "    .dataframe thead th {\n",
       "        text-align: right;\n",
       "    }\n",
       "</style>\n",
       "<table border=\"1\" class=\"dataframe\">\n",
       "  <thead>\n",
       "    <tr style=\"text-align: right;\">\n",
       "      <th></th>\n",
       "      <th>name</th>\n",
       "      <th>platform</th>\n",
       "      <th>year_of_release</th>\n",
       "      <th>genre</th>\n",
       "      <th>na_sales</th>\n",
       "      <th>eu_sales</th>\n",
       "      <th>jp_sales</th>\n",
       "      <th>other_sales</th>\n",
       "      <th>critic_score</th>\n",
       "      <th>user_score</th>\n",
       "      <th>rating</th>\n",
       "    </tr>\n",
       "  </thead>\n",
       "  <tbody>\n",
       "    <tr>\n",
       "      <th>659</th>\n",
       "      <td>NaN</td>\n",
       "      <td>GEN</td>\n",
       "      <td>1993.0</td>\n",
       "      <td>NaN</td>\n",
       "      <td>1.78</td>\n",
       "      <td>0.53</td>\n",
       "      <td>0.00</td>\n",
       "      <td>0.08</td>\n",
       "      <td>NaN</td>\n",
       "      <td>NaN</td>\n",
       "      <td>NaN</td>\n",
       "    </tr>\n",
       "    <tr>\n",
       "      <th>14244</th>\n",
       "      <td>NaN</td>\n",
       "      <td>GEN</td>\n",
       "      <td>1993.0</td>\n",
       "      <td>NaN</td>\n",
       "      <td>0.00</td>\n",
       "      <td>0.00</td>\n",
       "      <td>0.03</td>\n",
       "      <td>0.00</td>\n",
       "      <td>NaN</td>\n",
       "      <td>NaN</td>\n",
       "      <td>NaN</td>\n",
       "    </tr>\n",
       "  </tbody>\n",
       "</table>\n",
       "</div>"
      ],
      "text/plain": [
       "      name platform  year_of_release genre  na_sales  eu_sales  jp_sales  \\\n",
       "659    NaN      GEN           1993.0   NaN      1.78      0.53      0.00   \n",
       "14244  NaN      GEN           1993.0   NaN      0.00      0.00      0.03   \n",
       "\n",
       "       other_sales  critic_score user_score rating  \n",
       "659           0.08           NaN        NaN    NaN  \n",
       "14244         0.00           NaN        NaN    NaN  "
      ]
     },
     "execution_count": 8,
     "metadata": {},
     "output_type": "execute_result"
    }
   ],
   "source": [
    "# Imprimimos las columnas con los valores ausentes\n",
    "\n",
    "games[games['name'].isna()]"
   ]
  },
  {
   "cell_type": "code",
   "execution_count": 9,
   "metadata": {},
   "outputs": [
    {
     "data": {
      "text/plain": [
       "'0.01%'"
      ]
     },
     "execution_count": 9,
     "metadata": {},
     "output_type": "execute_result"
    }
   ],
   "source": [
    "# Porcentage de valores ausentes en la columna name\n",
    "\n",
    "'{:.2%}'.format(len(games[games['name'].isna()])/len(games))"
   ]
  },
  {
   "cell_type": "code",
   "execution_count": 10,
   "metadata": {},
   "outputs": [
    {
     "data": {
      "text/html": [
       "<div>\n",
       "<style scoped>\n",
       "    .dataframe tbody tr th:only-of-type {\n",
       "        vertical-align: middle;\n",
       "    }\n",
       "\n",
       "    .dataframe tbody tr th {\n",
       "        vertical-align: top;\n",
       "    }\n",
       "\n",
       "    .dataframe thead th {\n",
       "        text-align: right;\n",
       "    }\n",
       "</style>\n",
       "<table border=\"1\" class=\"dataframe\">\n",
       "  <thead>\n",
       "    <tr style=\"text-align: right;\">\n",
       "      <th></th>\n",
       "      <th>name</th>\n",
       "      <th>platform</th>\n",
       "      <th>year_of_release</th>\n",
       "      <th>genre</th>\n",
       "      <th>na_sales</th>\n",
       "      <th>eu_sales</th>\n",
       "      <th>jp_sales</th>\n",
       "      <th>other_sales</th>\n",
       "      <th>critic_score</th>\n",
       "      <th>user_score</th>\n",
       "      <th>rating</th>\n",
       "    </tr>\n",
       "  </thead>\n",
       "  <tbody>\n",
       "    <tr>\n",
       "      <th>659</th>\n",
       "      <td>NaN</td>\n",
       "      <td>GEN</td>\n",
       "      <td>1993.0</td>\n",
       "      <td>NaN</td>\n",
       "      <td>1.78</td>\n",
       "      <td>0.53</td>\n",
       "      <td>0.00</td>\n",
       "      <td>0.08</td>\n",
       "      <td>NaN</td>\n",
       "      <td>NaN</td>\n",
       "      <td>NaN</td>\n",
       "    </tr>\n",
       "    <tr>\n",
       "      <th>7885</th>\n",
       "      <td>Shining Force II</td>\n",
       "      <td>GEN</td>\n",
       "      <td>1993.0</td>\n",
       "      <td>Strategy</td>\n",
       "      <td>0.00</td>\n",
       "      <td>0.00</td>\n",
       "      <td>0.19</td>\n",
       "      <td>0.00</td>\n",
       "      <td>NaN</td>\n",
       "      <td>NaN</td>\n",
       "      <td>NaN</td>\n",
       "    </tr>\n",
       "    <tr>\n",
       "      <th>8893</th>\n",
       "      <td>Super Street Fighter II</td>\n",
       "      <td>GEN</td>\n",
       "      <td>1993.0</td>\n",
       "      <td>Fighting</td>\n",
       "      <td>0.00</td>\n",
       "      <td>0.00</td>\n",
       "      <td>0.15</td>\n",
       "      <td>0.00</td>\n",
       "      <td>NaN</td>\n",
       "      <td>NaN</td>\n",
       "      <td>NaN</td>\n",
       "    </tr>\n",
       "    <tr>\n",
       "      <th>11986</th>\n",
       "      <td>Ecco: The Tides of Time</td>\n",
       "      <td>GEN</td>\n",
       "      <td>1993.0</td>\n",
       "      <td>Adventure</td>\n",
       "      <td>0.00</td>\n",
       "      <td>0.00</td>\n",
       "      <td>0.07</td>\n",
       "      <td>0.00</td>\n",
       "      <td>NaN</td>\n",
       "      <td>NaN</td>\n",
       "      <td>NaN</td>\n",
       "    </tr>\n",
       "    <tr>\n",
       "      <th>12098</th>\n",
       "      <td>Street Fighter II': Special Champion Edition (...</td>\n",
       "      <td>GEN</td>\n",
       "      <td>1993.0</td>\n",
       "      <td>Action</td>\n",
       "      <td>0.00</td>\n",
       "      <td>0.00</td>\n",
       "      <td>0.07</td>\n",
       "      <td>0.00</td>\n",
       "      <td>NaN</td>\n",
       "      <td>NaN</td>\n",
       "      <td>NaN</td>\n",
       "    </tr>\n",
       "    <tr>\n",
       "      <th>12264</th>\n",
       "      <td>Streets of Rage 3</td>\n",
       "      <td>GEN</td>\n",
       "      <td>1993.0</td>\n",
       "      <td>Action</td>\n",
       "      <td>0.00</td>\n",
       "      <td>0.00</td>\n",
       "      <td>0.07</td>\n",
       "      <td>0.00</td>\n",
       "      <td>NaN</td>\n",
       "      <td>NaN</td>\n",
       "      <td>NaN</td>\n",
       "    </tr>\n",
       "    <tr>\n",
       "      <th>12984</th>\n",
       "      <td>Dynamite Headdy</td>\n",
       "      <td>GEN</td>\n",
       "      <td>1993.0</td>\n",
       "      <td>Platform</td>\n",
       "      <td>0.00</td>\n",
       "      <td>0.00</td>\n",
       "      <td>0.05</td>\n",
       "      <td>0.00</td>\n",
       "      <td>NaN</td>\n",
       "      <td>NaN</td>\n",
       "      <td>NaN</td>\n",
       "    </tr>\n",
       "    <tr>\n",
       "      <th>13343</th>\n",
       "      <td>Beyond Oasis</td>\n",
       "      <td>GEN</td>\n",
       "      <td>1993.0</td>\n",
       "      <td>Role-Playing</td>\n",
       "      <td>0.00</td>\n",
       "      <td>0.00</td>\n",
       "      <td>0.05</td>\n",
       "      <td>0.00</td>\n",
       "      <td>NaN</td>\n",
       "      <td>NaN</td>\n",
       "      <td>NaN</td>\n",
       "    </tr>\n",
       "    <tr>\n",
       "      <th>14244</th>\n",
       "      <td>NaN</td>\n",
       "      <td>GEN</td>\n",
       "      <td>1993.0</td>\n",
       "      <td>NaN</td>\n",
       "      <td>0.00</td>\n",
       "      <td>0.00</td>\n",
       "      <td>0.03</td>\n",
       "      <td>0.00</td>\n",
       "      <td>NaN</td>\n",
       "      <td>NaN</td>\n",
       "      <td>NaN</td>\n",
       "    </tr>\n",
       "  </tbody>\n",
       "</table>\n",
       "</div>"
      ],
      "text/plain": [
       "                                                    name platform  \\\n",
       "659                                                  NaN      GEN   \n",
       "7885                                    Shining Force II      GEN   \n",
       "8893                             Super Street Fighter II      GEN   \n",
       "11986                            Ecco: The Tides of Time      GEN   \n",
       "12098  Street Fighter II': Special Champion Edition (...      GEN   \n",
       "12264                                  Streets of Rage 3      GEN   \n",
       "12984                                    Dynamite Headdy      GEN   \n",
       "13343                                       Beyond Oasis      GEN   \n",
       "14244                                                NaN      GEN   \n",
       "\n",
       "       year_of_release         genre  na_sales  eu_sales  jp_sales  \\\n",
       "659             1993.0           NaN      1.78      0.53      0.00   \n",
       "7885            1993.0      Strategy      0.00      0.00      0.19   \n",
       "8893            1993.0      Fighting      0.00      0.00      0.15   \n",
       "11986           1993.0     Adventure      0.00      0.00      0.07   \n",
       "12098           1993.0        Action      0.00      0.00      0.07   \n",
       "12264           1993.0        Action      0.00      0.00      0.07   \n",
       "12984           1993.0      Platform      0.00      0.00      0.05   \n",
       "13343           1993.0  Role-Playing      0.00      0.00      0.05   \n",
       "14244           1993.0           NaN      0.00      0.00      0.03   \n",
       "\n",
       "       other_sales  critic_score user_score rating  \n",
       "659           0.08           NaN        NaN    NaN  \n",
       "7885          0.00           NaN        NaN    NaN  \n",
       "8893          0.00           NaN        NaN    NaN  \n",
       "11986         0.00           NaN        NaN    NaN  \n",
       "12098         0.00           NaN        NaN    NaN  \n",
       "12264         0.00           NaN        NaN    NaN  \n",
       "12984         0.00           NaN        NaN    NaN  \n",
       "13343         0.00           NaN        NaN    NaN  \n",
       "14244         0.00           NaN        NaN    NaN  "
      ]
     },
     "execution_count": 10,
     "metadata": {},
     "output_type": "execute_result"
    }
   ],
   "source": [
    "# Uso el género y año de lanzamiento para filtrar una tabla\n",
    "\n",
    "games[(games['year_of_release'] == 1993) & (games['platform'] == 'GEN')]"
   ]
  },
  {
   "cell_type": "code",
   "execution_count": 11,
   "metadata": {},
   "outputs": [
    {
     "name": "stdout",
     "output_type": "stream",
     "text": [
      "<class 'pandas.core.frame.DataFrame'>\n",
      "Int64Index: 16713 entries, 0 to 16714\n",
      "Data columns (total 11 columns):\n",
      " #   Column           Non-Null Count  Dtype  \n",
      "---  ------           --------------  -----  \n",
      " 0   name             16713 non-null  object \n",
      " 1   platform         16713 non-null  object \n",
      " 2   year_of_release  16444 non-null  float64\n",
      " 3   genre            16713 non-null  object \n",
      " 4   na_sales         16713 non-null  float64\n",
      " 5   eu_sales         16713 non-null  float64\n",
      " 6   jp_sales         16713 non-null  float64\n",
      " 7   other_sales      16713 non-null  float64\n",
      " 8   critic_score     8137 non-null   float64\n",
      " 9   user_score       10014 non-null  object \n",
      " 10  rating           9949 non-null   object \n",
      "dtypes: float64(6), object(5)\n",
      "memory usage: 1.5+ MB\n"
     ]
    }
   ],
   "source": [
    "# Eliminaos las filas con valores nulos\n",
    "games.dropna(subset=['name'],inplace=True)\n",
    "\n",
    "# Comprobamos\n",
    "games.info()"
   ]
  },
  {
   "cell_type": "markdown",
   "metadata": {},
   "source": [
    "**Conclusiones**\n",
    "\n",
    "Vimos que solo tenemos dos filas con valores ausentes en esta columna. El porcentaje de estos era de un 1%, lo cual es poco. Vimos que en estas dos columnas no solo faltaban los nombres si no también información del género, rating, y score. Utilizamos la información de `platform` y `year_of_release` para segmentar una tabla con información que pudiésemos utilizar. Sin embargo, no obtuvimos ningún resultado. Ya que faltaban algunos datos en estas filas y no podríamos simplemente agregar datos al azar, decimos deshacernos de estas dos filas. "
   ]
  },
  {
   "cell_type": "markdown",
   "metadata": {},
   "source": [
    "#### Duplicados"
   ]
  },
  {
   "cell_type": "code",
   "execution_count": 12,
   "metadata": {},
   "outputs": [
    {
     "data": {
      "text/plain": [
       "5154"
      ]
     },
     "execution_count": 12,
     "metadata": {},
     "output_type": "execute_result"
    }
   ],
   "source": [
    "# Buscamos valores ausentes \n",
    "\n",
    "games['name'].duplicated().sum()"
   ]
  },
  {
   "cell_type": "code",
   "execution_count": 13,
   "metadata": {},
   "outputs": [
    {
     "data": {
      "text/plain": [
       "'30.84%'"
      ]
     },
     "execution_count": 13,
     "metadata": {},
     "output_type": "execute_result"
    }
   ],
   "source": [
    "# Porcentaje de valores duplicados \n",
    "\n",
    "'{:.2%}'.format(games['name'].duplicated().sum()/len(games))"
   ]
  },
  {
   "cell_type": "code",
   "execution_count": 14,
   "metadata": {},
   "outputs": [
    {
     "data": {
      "text/plain": [
       "11559"
      ]
     },
     "execution_count": 14,
     "metadata": {},
     "output_type": "execute_result"
    }
   ],
   "source": [
    "# Cuantos valores únicos tenemos? \n",
    "\n",
    "len(games['name'].unique())"
   ]
  },
  {
   "cell_type": "code",
   "execution_count": 15,
   "metadata": {},
   "outputs": [
    {
     "data": {
      "text/plain": [
       "11559"
      ]
     },
     "execution_count": 15,
     "metadata": {},
     "output_type": "execute_result"
    }
   ],
   "source": [
    "# Tratamos corregir los valores ausentes al cambiar todo a minúsculas\n",
    "\n",
    "games['name'] = games['name'].str.lower()\n",
    "\n",
    "# Comprobamos si logramos reducir el número\n",
    "\n",
    "len(games['name'].unique())"
   ]
  },
  {
   "cell_type": "code",
   "execution_count": 16,
   "metadata": {},
   "outputs": [
    {
     "data": {
      "text/html": [
       "<div>\n",
       "<style scoped>\n",
       "    .dataframe tbody tr th:only-of-type {\n",
       "        vertical-align: middle;\n",
       "    }\n",
       "\n",
       "    .dataframe tbody tr th {\n",
       "        vertical-align: top;\n",
       "    }\n",
       "\n",
       "    .dataframe thead th {\n",
       "        text-align: right;\n",
       "    }\n",
       "</style>\n",
       "<table border=\"1\" class=\"dataframe\">\n",
       "  <thead>\n",
       "    <tr style=\"text-align: right;\">\n",
       "      <th></th>\n",
       "      <th>name</th>\n",
       "      <th>platform</th>\n",
       "      <th>year_of_release</th>\n",
       "      <th>genre</th>\n",
       "      <th>na_sales</th>\n",
       "      <th>eu_sales</th>\n",
       "      <th>jp_sales</th>\n",
       "      <th>other_sales</th>\n",
       "      <th>critic_score</th>\n",
       "      <th>user_score</th>\n",
       "      <th>rating</th>\n",
       "    </tr>\n",
       "  </thead>\n",
       "  <tbody>\n",
       "    <tr>\n",
       "      <th>23</th>\n",
       "      <td>grand theft auto v</td>\n",
       "      <td>X360</td>\n",
       "      <td>2013.0</td>\n",
       "      <td>Action</td>\n",
       "      <td>9.66</td>\n",
       "      <td>5.14</td>\n",
       "      <td>0.06</td>\n",
       "      <td>1.41</td>\n",
       "      <td>97.0</td>\n",
       "      <td>8.1</td>\n",
       "      <td>M</td>\n",
       "    </tr>\n",
       "    <tr>\n",
       "      <th>35</th>\n",
       "      <td>call of duty: black ops ii</td>\n",
       "      <td>X360</td>\n",
       "      <td>2012.0</td>\n",
       "      <td>Shooter</td>\n",
       "      <td>8.25</td>\n",
       "      <td>4.24</td>\n",
       "      <td>0.07</td>\n",
       "      <td>1.12</td>\n",
       "      <td>83.0</td>\n",
       "      <td>4.8</td>\n",
       "      <td>M</td>\n",
       "    </tr>\n",
       "    <tr>\n",
       "      <th>37</th>\n",
       "      <td>call of duty: modern warfare 3</td>\n",
       "      <td>PS3</td>\n",
       "      <td>2011.0</td>\n",
       "      <td>Shooter</td>\n",
       "      <td>5.54</td>\n",
       "      <td>5.73</td>\n",
       "      <td>0.49</td>\n",
       "      <td>1.57</td>\n",
       "      <td>88.0</td>\n",
       "      <td>3.2</td>\n",
       "      <td>M</td>\n",
       "    </tr>\n",
       "    <tr>\n",
       "      <th>41</th>\n",
       "      <td>call of duty: black ops</td>\n",
       "      <td>PS3</td>\n",
       "      <td>2010.0</td>\n",
       "      <td>Shooter</td>\n",
       "      <td>5.99</td>\n",
       "      <td>4.37</td>\n",
       "      <td>0.48</td>\n",
       "      <td>1.79</td>\n",
       "      <td>88.0</td>\n",
       "      <td>6.4</td>\n",
       "      <td>M</td>\n",
       "    </tr>\n",
       "    <tr>\n",
       "      <th>42</th>\n",
       "      <td>grand theft auto v</td>\n",
       "      <td>PS4</td>\n",
       "      <td>2014.0</td>\n",
       "      <td>Action</td>\n",
       "      <td>3.96</td>\n",
       "      <td>6.31</td>\n",
       "      <td>0.38</td>\n",
       "      <td>1.97</td>\n",
       "      <td>97.0</td>\n",
       "      <td>8.3</td>\n",
       "      <td>M</td>\n",
       "    </tr>\n",
       "    <tr>\n",
       "      <th>55</th>\n",
       "      <td>call of duty: modern warfare 2</td>\n",
       "      <td>PS3</td>\n",
       "      <td>2009.0</td>\n",
       "      <td>Shooter</td>\n",
       "      <td>4.99</td>\n",
       "      <td>3.64</td>\n",
       "      <td>0.38</td>\n",
       "      <td>1.60</td>\n",
       "      <td>94.0</td>\n",
       "      <td>6.3</td>\n",
       "      <td>M</td>\n",
       "    </tr>\n",
       "    <tr>\n",
       "      <th>57</th>\n",
       "      <td>grand theft auto iv</td>\n",
       "      <td>PS3</td>\n",
       "      <td>2008.0</td>\n",
       "      <td>Action</td>\n",
       "      <td>4.76</td>\n",
       "      <td>3.69</td>\n",
       "      <td>0.44</td>\n",
       "      <td>1.61</td>\n",
       "      <td>98.0</td>\n",
       "      <td>7.5</td>\n",
       "      <td>M</td>\n",
       "    </tr>\n",
       "    <tr>\n",
       "      <th>59</th>\n",
       "      <td>super mario 64</td>\n",
       "      <td>DS</td>\n",
       "      <td>2004.0</td>\n",
       "      <td>Platform</td>\n",
       "      <td>5.01</td>\n",
       "      <td>3.07</td>\n",
       "      <td>1.25</td>\n",
       "      <td>0.97</td>\n",
       "      <td>NaN</td>\n",
       "      <td>NaN</td>\n",
       "      <td>NaN</td>\n",
       "    </tr>\n",
       "    <tr>\n",
       "      <th>69</th>\n",
       "      <td>call of duty: ghosts</td>\n",
       "      <td>PS3</td>\n",
       "      <td>2013.0</td>\n",
       "      <td>Shooter</td>\n",
       "      <td>4.10</td>\n",
       "      <td>3.63</td>\n",
       "      <td>0.38</td>\n",
       "      <td>1.25</td>\n",
       "      <td>71.0</td>\n",
       "      <td>2.6</td>\n",
       "      <td>M</td>\n",
       "    </tr>\n",
       "    <tr>\n",
       "      <th>99</th>\n",
       "      <td>call of duty: black ops 3</td>\n",
       "      <td>XOne</td>\n",
       "      <td>2015.0</td>\n",
       "      <td>Shooter</td>\n",
       "      <td>4.59</td>\n",
       "      <td>2.11</td>\n",
       "      <td>0.01</td>\n",
       "      <td>0.68</td>\n",
       "      <td>NaN</td>\n",
       "      <td>NaN</td>\n",
       "      <td>NaN</td>\n",
       "    </tr>\n",
       "  </tbody>\n",
       "</table>\n",
       "</div>"
      ],
      "text/plain": [
       "                              name platform  year_of_release     genre  \\\n",
       "23              grand theft auto v     X360           2013.0    Action   \n",
       "35      call of duty: black ops ii     X360           2012.0   Shooter   \n",
       "37  call of duty: modern warfare 3      PS3           2011.0   Shooter   \n",
       "41         call of duty: black ops      PS3           2010.0   Shooter   \n",
       "42              grand theft auto v      PS4           2014.0    Action   \n",
       "55  call of duty: modern warfare 2      PS3           2009.0   Shooter   \n",
       "57             grand theft auto iv      PS3           2008.0    Action   \n",
       "59                  super mario 64       DS           2004.0  Platform   \n",
       "69            call of duty: ghosts      PS3           2013.0   Shooter   \n",
       "99       call of duty: black ops 3     XOne           2015.0   Shooter   \n",
       "\n",
       "    na_sales  eu_sales  jp_sales  other_sales  critic_score user_score rating  \n",
       "23      9.66      5.14      0.06         1.41          97.0        8.1      M  \n",
       "35      8.25      4.24      0.07         1.12          83.0        4.8      M  \n",
       "37      5.54      5.73      0.49         1.57          88.0        3.2      M  \n",
       "41      5.99      4.37      0.48         1.79          88.0        6.4      M  \n",
       "42      3.96      6.31      0.38         1.97          97.0        8.3      M  \n",
       "55      4.99      3.64      0.38         1.60          94.0        6.3      M  \n",
       "57      4.76      3.69      0.44         1.61          98.0        7.5      M  \n",
       "59      5.01      3.07      1.25         0.97           NaN        NaN    NaN  \n",
       "69      4.10      3.63      0.38         1.25          71.0        2.6      M  \n",
       "99      4.59      2.11      0.01         0.68           NaN        NaN    NaN  "
      ]
     },
     "execution_count": 16,
     "metadata": {},
     "output_type": "execute_result"
    }
   ],
   "source": [
    "# Imprimimos una tabla con los valores duplicados para analizar\n",
    "\n",
    "games[games['name'].duplicated()].head(10)"
   ]
  },
  {
   "cell_type": "code",
   "execution_count": 17,
   "metadata": {},
   "outputs": [
    {
     "data": {
      "text/html": [
       "<div>\n",
       "<style scoped>\n",
       "    .dataframe tbody tr th:only-of-type {\n",
       "        vertical-align: middle;\n",
       "    }\n",
       "\n",
       "    .dataframe tbody tr th {\n",
       "        vertical-align: top;\n",
       "    }\n",
       "\n",
       "    .dataframe thead th {\n",
       "        text-align: right;\n",
       "    }\n",
       "</style>\n",
       "<table border=\"1\" class=\"dataframe\">\n",
       "  <thead>\n",
       "    <tr style=\"text-align: right;\">\n",
       "      <th></th>\n",
       "      <th>name</th>\n",
       "      <th>platform</th>\n",
       "      <th>year_of_release</th>\n",
       "      <th>genre</th>\n",
       "      <th>na_sales</th>\n",
       "      <th>eu_sales</th>\n",
       "      <th>jp_sales</th>\n",
       "      <th>other_sales</th>\n",
       "      <th>critic_score</th>\n",
       "      <th>user_score</th>\n",
       "      <th>rating</th>\n",
       "    </tr>\n",
       "  </thead>\n",
       "  <tbody>\n",
       "    <tr>\n",
       "      <th>16</th>\n",
       "      <td>grand theft auto v</td>\n",
       "      <td>PS3</td>\n",
       "      <td>2013.0</td>\n",
       "      <td>Action</td>\n",
       "      <td>7.02</td>\n",
       "      <td>9.09</td>\n",
       "      <td>0.98</td>\n",
       "      <td>3.96</td>\n",
       "      <td>97.0</td>\n",
       "      <td>8.2</td>\n",
       "      <td>M</td>\n",
       "    </tr>\n",
       "    <tr>\n",
       "      <th>23</th>\n",
       "      <td>grand theft auto v</td>\n",
       "      <td>X360</td>\n",
       "      <td>2013.0</td>\n",
       "      <td>Action</td>\n",
       "      <td>9.66</td>\n",
       "      <td>5.14</td>\n",
       "      <td>0.06</td>\n",
       "      <td>1.41</td>\n",
       "      <td>97.0</td>\n",
       "      <td>8.1</td>\n",
       "      <td>M</td>\n",
       "    </tr>\n",
       "    <tr>\n",
       "      <th>42</th>\n",
       "      <td>grand theft auto v</td>\n",
       "      <td>PS4</td>\n",
       "      <td>2014.0</td>\n",
       "      <td>Action</td>\n",
       "      <td>3.96</td>\n",
       "      <td>6.31</td>\n",
       "      <td>0.38</td>\n",
       "      <td>1.97</td>\n",
       "      <td>97.0</td>\n",
       "      <td>8.3</td>\n",
       "      <td>M</td>\n",
       "    </tr>\n",
       "    <tr>\n",
       "      <th>165</th>\n",
       "      <td>grand theft auto v</td>\n",
       "      <td>XOne</td>\n",
       "      <td>2014.0</td>\n",
       "      <td>Action</td>\n",
       "      <td>2.81</td>\n",
       "      <td>2.19</td>\n",
       "      <td>0.00</td>\n",
       "      <td>0.47</td>\n",
       "      <td>97.0</td>\n",
       "      <td>7.9</td>\n",
       "      <td>M</td>\n",
       "    </tr>\n",
       "    <tr>\n",
       "      <th>1730</th>\n",
       "      <td>grand theft auto v</td>\n",
       "      <td>PC</td>\n",
       "      <td>2015.0</td>\n",
       "      <td>Action</td>\n",
       "      <td>0.39</td>\n",
       "      <td>0.69</td>\n",
       "      <td>0.00</td>\n",
       "      <td>0.09</td>\n",
       "      <td>96.0</td>\n",
       "      <td>7.9</td>\n",
       "      <td>M</td>\n",
       "    </tr>\n",
       "  </tbody>\n",
       "</table>\n",
       "</div>"
      ],
      "text/plain": [
       "                    name platform  year_of_release   genre  na_sales  \\\n",
       "16    grand theft auto v      PS3           2013.0  Action      7.02   \n",
       "23    grand theft auto v     X360           2013.0  Action      9.66   \n",
       "42    grand theft auto v      PS4           2014.0  Action      3.96   \n",
       "165   grand theft auto v     XOne           2014.0  Action      2.81   \n",
       "1730  grand theft auto v       PC           2015.0  Action      0.39   \n",
       "\n",
       "      eu_sales  jp_sales  other_sales  critic_score user_score rating  \n",
       "16        9.09      0.98         3.96          97.0        8.2      M  \n",
       "23        5.14      0.06         1.41          97.0        8.1      M  \n",
       "42        6.31      0.38         1.97          97.0        8.3      M  \n",
       "165       2.19      0.00         0.47          97.0        7.9      M  \n",
       "1730      0.69      0.00         0.09          96.0        7.9      M  "
      ]
     },
     "execution_count": 17,
     "metadata": {},
     "output_type": "execute_result"
    }
   ],
   "source": [
    "# Filtramos una tabla para uno de los valores duplicados \n",
    "\n",
    "games[games['name'] == 'grand theft auto v']"
   ]
  },
  {
   "cell_type": "markdown",
   "metadata": {},
   "source": [
    "**Conclusiones**\n",
    "\n",
    "En efecto, tenemos valores duplicados en esta columna. El porcentaje total de valores duplicados nos dio un total de 30.84% lo cual es un valor alto. Intentamos convertir todos los valores a minúscula en caso de que este sea un problema de tener tantos duplicados. Sin embargo, esto no logro disminuir en nada los valores duplicados. \n",
    "\n",
    "Imprimimos una tabla de valores duplicados y nos dimos cuenta que la razón de los duplicados en esta columna se debe a que cada nombre de juego está relacionado con una plataforma diferente. En si es el mismo juego, pero con los resultados obtenidos de esa plataforma. Esto quiere decir que a pesar de ser el mismo juego tenemos cantidad de ventas diferentes y esto nos servirá para nuestro análisis. Por esta razón no eliminaremos valores duplicados. Lo dejaremos tal como está. \n"
   ]
  },
  {
   "cell_type": "markdown",
   "metadata": {},
   "source": [
    "### `platform`\n",
    "\n",
    "De nuestro análisis general vimos que en esta columna no tenemos valores ausentes. Por esto, solo buscaremos valores duplicados y en el caso de encontrarlos decidiremos como trabajarlos. \n",
    "\n",
    "#### Duplicados"
   ]
  },
  {
   "cell_type": "code",
   "execution_count": 18,
   "metadata": {},
   "outputs": [
    {
     "data": {
      "text/plain": [
       "16682"
      ]
     },
     "execution_count": 18,
     "metadata": {},
     "output_type": "execute_result"
    }
   ],
   "source": [
    "# Vemos si tenemos valores duplicados\n",
    "\n",
    "games['platform'].duplicated().sum()"
   ]
  },
  {
   "cell_type": "code",
   "execution_count": 19,
   "metadata": {},
   "outputs": [
    {
     "data": {
      "text/plain": [
       "array(['Wii', 'NES', 'GB', 'DS', 'X360', 'PS3', 'PS2', 'SNES', 'GBA',\n",
       "       'PS4', '3DS', 'N64', 'PS', 'XB', 'PC', '2600', 'PSP', 'XOne',\n",
       "       'WiiU', 'GC', 'GEN', 'DC', 'PSV', 'SAT', 'SCD', 'WS', 'NG', 'TG16',\n",
       "       '3DO', 'GG', 'PCFX'], dtype=object)"
      ]
     },
     "execution_count": 19,
     "metadata": {},
     "output_type": "execute_result"
    }
   ],
   "source": [
    "# Imprimimos un .unique()\n",
    "\n",
    "games['platform'].unique()"
   ]
  },
  {
   "cell_type": "code",
   "execution_count": 20,
   "metadata": {},
   "outputs": [
    {
     "data": {
      "text/plain": [
       "31"
      ]
     },
     "execution_count": 20,
     "metadata": {},
     "output_type": "execute_result"
    }
   ],
   "source": [
    "len(games['platform'].unique())"
   ]
  },
  {
   "cell_type": "markdown",
   "metadata": {},
   "source": [
    "**Conclusiones**\n",
    "\n",
    "Vemos que al buscar duplicados el resultado es positivo. Sin embargo, los valores duplicados en esta columna son iguales que los valores duplicados en `name`. El nombre de cada consola se va a repetir varias veces ya que va a ver varios juegos que se usen en esa consola. Por lo tanto, no vamos a hacer nada con estos valores. De hecho, al ver nuestro unique podemos ver que el nombre de cada consola no se llega a repetir. "
   ]
  },
  {
   "cell_type": "markdown",
   "metadata": {},
   "source": [
    "### `year_of_release`\n",
    "\n",
    "En nuestro análisis general ya vimos que tenemos valores ausentes en esta columna. Ahora vamos a investigar un poco la razón de estos valores y tomar decisiones. También buscaremos valores atípicos, valores duplicado, y buscaremos como corregirlos. \n",
    "\n",
    "#### Valores Ausentes"
   ]
  },
  {
   "cell_type": "code",
   "execution_count": 21,
   "metadata": {},
   "outputs": [
    {
     "data": {
      "text/html": [
       "<div>\n",
       "<style scoped>\n",
       "    .dataframe tbody tr th:only-of-type {\n",
       "        vertical-align: middle;\n",
       "    }\n",
       "\n",
       "    .dataframe tbody tr th {\n",
       "        vertical-align: top;\n",
       "    }\n",
       "\n",
       "    .dataframe thead th {\n",
       "        text-align: right;\n",
       "    }\n",
       "</style>\n",
       "<table border=\"1\" class=\"dataframe\">\n",
       "  <thead>\n",
       "    <tr style=\"text-align: right;\">\n",
       "      <th></th>\n",
       "      <th>name</th>\n",
       "      <th>platform</th>\n",
       "      <th>year_of_release</th>\n",
       "      <th>genre</th>\n",
       "      <th>na_sales</th>\n",
       "      <th>eu_sales</th>\n",
       "      <th>jp_sales</th>\n",
       "      <th>other_sales</th>\n",
       "      <th>critic_score</th>\n",
       "      <th>user_score</th>\n",
       "      <th>rating</th>\n",
       "    </tr>\n",
       "  </thead>\n",
       "  <tbody>\n",
       "    <tr>\n",
       "      <th>183</th>\n",
       "      <td>madden nfl 2004</td>\n",
       "      <td>PS2</td>\n",
       "      <td>NaN</td>\n",
       "      <td>Sports</td>\n",
       "      <td>4.26</td>\n",
       "      <td>0.26</td>\n",
       "      <td>0.01</td>\n",
       "      <td>0.71</td>\n",
       "      <td>94.0</td>\n",
       "      <td>8.5</td>\n",
       "      <td>E</td>\n",
       "    </tr>\n",
       "    <tr>\n",
       "      <th>377</th>\n",
       "      <td>fifa soccer 2004</td>\n",
       "      <td>PS2</td>\n",
       "      <td>NaN</td>\n",
       "      <td>Sports</td>\n",
       "      <td>0.59</td>\n",
       "      <td>2.36</td>\n",
       "      <td>0.04</td>\n",
       "      <td>0.51</td>\n",
       "      <td>84.0</td>\n",
       "      <td>6.4</td>\n",
       "      <td>E</td>\n",
       "    </tr>\n",
       "    <tr>\n",
       "      <th>456</th>\n",
       "      <td>lego batman: the videogame</td>\n",
       "      <td>Wii</td>\n",
       "      <td>NaN</td>\n",
       "      <td>Action</td>\n",
       "      <td>1.80</td>\n",
       "      <td>0.97</td>\n",
       "      <td>0.00</td>\n",
       "      <td>0.29</td>\n",
       "      <td>74.0</td>\n",
       "      <td>7.9</td>\n",
       "      <td>E10+</td>\n",
       "    </tr>\n",
       "    <tr>\n",
       "      <th>475</th>\n",
       "      <td>wwe smackdown vs. raw 2006</td>\n",
       "      <td>PS2</td>\n",
       "      <td>NaN</td>\n",
       "      <td>Fighting</td>\n",
       "      <td>1.57</td>\n",
       "      <td>1.02</td>\n",
       "      <td>0.00</td>\n",
       "      <td>0.41</td>\n",
       "      <td>NaN</td>\n",
       "      <td>NaN</td>\n",
       "      <td>NaN</td>\n",
       "    </tr>\n",
       "    <tr>\n",
       "      <th>609</th>\n",
       "      <td>space invaders</td>\n",
       "      <td>2600</td>\n",
       "      <td>NaN</td>\n",
       "      <td>Shooter</td>\n",
       "      <td>2.36</td>\n",
       "      <td>0.14</td>\n",
       "      <td>0.00</td>\n",
       "      <td>0.03</td>\n",
       "      <td>NaN</td>\n",
       "      <td>NaN</td>\n",
       "      <td>NaN</td>\n",
       "    </tr>\n",
       "  </tbody>\n",
       "</table>\n",
       "</div>"
      ],
      "text/plain": [
       "                           name platform  year_of_release     genre  na_sales  \\\n",
       "183             madden nfl 2004      PS2              NaN    Sports      4.26   \n",
       "377            fifa soccer 2004      PS2              NaN    Sports      0.59   \n",
       "456  lego batman: the videogame      Wii              NaN    Action      1.80   \n",
       "475  wwe smackdown vs. raw 2006      PS2              NaN  Fighting      1.57   \n",
       "609              space invaders     2600              NaN   Shooter      2.36   \n",
       "\n",
       "     eu_sales  jp_sales  other_sales  critic_score user_score rating  \n",
       "183      0.26      0.01         0.71          94.0        8.5      E  \n",
       "377      2.36      0.04         0.51          84.0        6.4      E  \n",
       "456      0.97      0.00         0.29          74.0        7.9   E10+  \n",
       "475      1.02      0.00         0.41           NaN        NaN    NaN  \n",
       "609      0.14      0.00         0.03           NaN        NaN    NaN  "
      ]
     },
     "execution_count": 21,
     "metadata": {},
     "output_type": "execute_result"
    }
   ],
   "source": [
    "# Imprimimos una tabla con valores ausentes\n",
    "\n",
    "games[games['year_of_release'].isna()].head()"
   ]
  },
  {
   "cell_type": "code",
   "execution_count": 22,
   "metadata": {},
   "outputs": [
    {
     "data": {
      "text/plain": [
       "269"
      ]
     },
     "execution_count": 22,
     "metadata": {},
     "output_type": "execute_result"
    }
   ],
   "source": [
    "# Averiguamos la cantidad de valores ausentes que tenemos\n",
    "\n",
    "len(games[games['year_of_release'].isna()])"
   ]
  },
  {
   "cell_type": "code",
   "execution_count": 23,
   "metadata": {},
   "outputs": [
    {
     "data": {
      "text/plain": [
       "'1.61%'"
      ]
     },
     "execution_count": 23,
     "metadata": {},
     "output_type": "execute_result"
    }
   ],
   "source": [
    "# Averiguamos el porcentaje de valores ausentes\n",
    "\n",
    "'{:.2%}'.format(len(games[games['year_of_release'].isna()])/len(games))"
   ]
  },
  {
   "cell_type": "code",
   "execution_count": 24,
   "metadata": {},
   "outputs": [
    {
     "data": {
      "text/html": [
       "<div>\n",
       "<style scoped>\n",
       "    .dataframe tbody tr th:only-of-type {\n",
       "        vertical-align: middle;\n",
       "    }\n",
       "\n",
       "    .dataframe tbody tr th {\n",
       "        vertical-align: top;\n",
       "    }\n",
       "\n",
       "    .dataframe thead th {\n",
       "        text-align: right;\n",
       "    }\n",
       "</style>\n",
       "<table border=\"1\" class=\"dataframe\">\n",
       "  <thead>\n",
       "    <tr style=\"text-align: right;\">\n",
       "      <th></th>\n",
       "      <th>name</th>\n",
       "      <th>platform</th>\n",
       "      <th>year_of_release</th>\n",
       "      <th>genre</th>\n",
       "      <th>na_sales</th>\n",
       "      <th>eu_sales</th>\n",
       "      <th>jp_sales</th>\n",
       "      <th>other_sales</th>\n",
       "      <th>critic_score</th>\n",
       "      <th>user_score</th>\n",
       "      <th>rating</th>\n",
       "    </tr>\n",
       "  </thead>\n",
       "  <tbody>\n",
       "    <tr>\n",
       "      <th>183</th>\n",
       "      <td>madden nfl 2004</td>\n",
       "      <td>PS2</td>\n",
       "      <td>NaN</td>\n",
       "      <td>Sports</td>\n",
       "      <td>4.26</td>\n",
       "      <td>0.26</td>\n",
       "      <td>0.01</td>\n",
       "      <td>0.71</td>\n",
       "      <td>94.0</td>\n",
       "      <td>8.5</td>\n",
       "      <td>E</td>\n",
       "    </tr>\n",
       "    <tr>\n",
       "      <th>1881</th>\n",
       "      <td>madden nfl 2004</td>\n",
       "      <td>XB</td>\n",
       "      <td>2003.0</td>\n",
       "      <td>Sports</td>\n",
       "      <td>1.02</td>\n",
       "      <td>0.02</td>\n",
       "      <td>0.00</td>\n",
       "      <td>0.05</td>\n",
       "      <td>92.0</td>\n",
       "      <td>8.3</td>\n",
       "      <td>E</td>\n",
       "    </tr>\n",
       "    <tr>\n",
       "      <th>3889</th>\n",
       "      <td>madden nfl 2004</td>\n",
       "      <td>GC</td>\n",
       "      <td>2003.0</td>\n",
       "      <td>Sports</td>\n",
       "      <td>0.40</td>\n",
       "      <td>0.10</td>\n",
       "      <td>0.00</td>\n",
       "      <td>0.01</td>\n",
       "      <td>94.0</td>\n",
       "      <td>7.7</td>\n",
       "      <td>E</td>\n",
       "    </tr>\n",
       "    <tr>\n",
       "      <th>5708</th>\n",
       "      <td>madden nfl 2004</td>\n",
       "      <td>GBA</td>\n",
       "      <td>2003.0</td>\n",
       "      <td>Sports</td>\n",
       "      <td>0.22</td>\n",
       "      <td>0.08</td>\n",
       "      <td>0.00</td>\n",
       "      <td>0.01</td>\n",
       "      <td>70.0</td>\n",
       "      <td>6.6</td>\n",
       "      <td>E</td>\n",
       "    </tr>\n",
       "  </tbody>\n",
       "</table>\n",
       "</div>"
      ],
      "text/plain": [
       "                 name platform  year_of_release   genre  na_sales  eu_sales  \\\n",
       "183   madden nfl 2004      PS2              NaN  Sports      4.26      0.26   \n",
       "1881  madden nfl 2004       XB           2003.0  Sports      1.02      0.02   \n",
       "3889  madden nfl 2004       GC           2003.0  Sports      0.40      0.10   \n",
       "5708  madden nfl 2004      GBA           2003.0  Sports      0.22      0.08   \n",
       "\n",
       "      jp_sales  other_sales  critic_score user_score rating  \n",
       "183       0.01         0.71          94.0        8.5      E  \n",
       "1881      0.00         0.05          92.0        8.3      E  \n",
       "3889      0.00         0.01          94.0        7.7      E  \n",
       "5708      0.00         0.01          70.0        6.6      E  "
      ]
     },
     "execution_count": 24,
     "metadata": {},
     "output_type": "execute_result"
    }
   ],
   "source": [
    "# Analizamos nuestros valores ausentes\n",
    "\n",
    "games[games['name'] == 'madden nfl 2004']"
   ]
  },
  {
   "cell_type": "code",
   "execution_count": 25,
   "metadata": {},
   "outputs": [
    {
     "data": {
      "text/html": [
       "<div>\n",
       "<style scoped>\n",
       "    .dataframe tbody tr th:only-of-type {\n",
       "        vertical-align: middle;\n",
       "    }\n",
       "\n",
       "    .dataframe tbody tr th {\n",
       "        vertical-align: top;\n",
       "    }\n",
       "\n",
       "    .dataframe thead th {\n",
       "        text-align: right;\n",
       "    }\n",
       "</style>\n",
       "<table border=\"1\" class=\"dataframe\">\n",
       "  <thead>\n",
       "    <tr style=\"text-align: right;\">\n",
       "      <th></th>\n",
       "      <th>name</th>\n",
       "      <th>platform</th>\n",
       "      <th>year_of_release</th>\n",
       "      <th>genre</th>\n",
       "      <th>na_sales</th>\n",
       "      <th>eu_sales</th>\n",
       "      <th>jp_sales</th>\n",
       "      <th>other_sales</th>\n",
       "      <th>critic_score</th>\n",
       "      <th>user_score</th>\n",
       "      <th>rating</th>\n",
       "    </tr>\n",
       "  </thead>\n",
       "  <tbody>\n",
       "    <tr>\n",
       "      <th>397</th>\n",
       "      <td>lego batman: the videogame</td>\n",
       "      <td>X360</td>\n",
       "      <td>2008.0</td>\n",
       "      <td>Action</td>\n",
       "      <td>2.04</td>\n",
       "      <td>1.02</td>\n",
       "      <td>0.0</td>\n",
       "      <td>0.32</td>\n",
       "      <td>76.0</td>\n",
       "      <td>7.9</td>\n",
       "      <td>E10+</td>\n",
       "    </tr>\n",
       "    <tr>\n",
       "      <th>456</th>\n",
       "      <td>lego batman: the videogame</td>\n",
       "      <td>Wii</td>\n",
       "      <td>NaN</td>\n",
       "      <td>Action</td>\n",
       "      <td>1.80</td>\n",
       "      <td>0.97</td>\n",
       "      <td>0.0</td>\n",
       "      <td>0.29</td>\n",
       "      <td>74.0</td>\n",
       "      <td>7.9</td>\n",
       "      <td>E10+</td>\n",
       "    </tr>\n",
       "    <tr>\n",
       "      <th>460</th>\n",
       "      <td>lego batman: the videogame</td>\n",
       "      <td>DS</td>\n",
       "      <td>2008.0</td>\n",
       "      <td>Action</td>\n",
       "      <td>1.75</td>\n",
       "      <td>1.01</td>\n",
       "      <td>0.0</td>\n",
       "      <td>0.29</td>\n",
       "      <td>72.0</td>\n",
       "      <td>8</td>\n",
       "      <td>E10+</td>\n",
       "    </tr>\n",
       "    <tr>\n",
       "      <th>1519</th>\n",
       "      <td>lego batman: the videogame</td>\n",
       "      <td>PS3</td>\n",
       "      <td>2008.0</td>\n",
       "      <td>Action</td>\n",
       "      <td>0.72</td>\n",
       "      <td>0.39</td>\n",
       "      <td>0.0</td>\n",
       "      <td>0.19</td>\n",
       "      <td>75.0</td>\n",
       "      <td>7.7</td>\n",
       "      <td>E10+</td>\n",
       "    </tr>\n",
       "    <tr>\n",
       "      <th>1538</th>\n",
       "      <td>lego batman: the videogame</td>\n",
       "      <td>PSP</td>\n",
       "      <td>NaN</td>\n",
       "      <td>Action</td>\n",
       "      <td>0.57</td>\n",
       "      <td>0.44</td>\n",
       "      <td>0.0</td>\n",
       "      <td>0.27</td>\n",
       "      <td>73.0</td>\n",
       "      <td>7.4</td>\n",
       "      <td>E10+</td>\n",
       "    </tr>\n",
       "    <tr>\n",
       "      <th>1553</th>\n",
       "      <td>lego batman: the videogame</td>\n",
       "      <td>PS2</td>\n",
       "      <td>2008.0</td>\n",
       "      <td>Action</td>\n",
       "      <td>0.72</td>\n",
       "      <td>0.03</td>\n",
       "      <td>0.0</td>\n",
       "      <td>0.52</td>\n",
       "      <td>77.0</td>\n",
       "      <td>8.9</td>\n",
       "      <td>E10+</td>\n",
       "    </tr>\n",
       "    <tr>\n",
       "      <th>12465</th>\n",
       "      <td>lego batman: the videogame</td>\n",
       "      <td>PC</td>\n",
       "      <td>2008.0</td>\n",
       "      <td>Action</td>\n",
       "      <td>0.02</td>\n",
       "      <td>0.03</td>\n",
       "      <td>0.0</td>\n",
       "      <td>0.01</td>\n",
       "      <td>80.0</td>\n",
       "      <td>7.8</td>\n",
       "      <td>E10+</td>\n",
       "    </tr>\n",
       "  </tbody>\n",
       "</table>\n",
       "</div>"
      ],
      "text/plain": [
       "                             name platform  year_of_release   genre  na_sales  \\\n",
       "397    lego batman: the videogame     X360           2008.0  Action      2.04   \n",
       "456    lego batman: the videogame      Wii              NaN  Action      1.80   \n",
       "460    lego batman: the videogame       DS           2008.0  Action      1.75   \n",
       "1519   lego batman: the videogame      PS3           2008.0  Action      0.72   \n",
       "1538   lego batman: the videogame      PSP              NaN  Action      0.57   \n",
       "1553   lego batman: the videogame      PS2           2008.0  Action      0.72   \n",
       "12465  lego batman: the videogame       PC           2008.0  Action      0.02   \n",
       "\n",
       "       eu_sales  jp_sales  other_sales  critic_score user_score rating  \n",
       "397        1.02       0.0         0.32          76.0        7.9   E10+  \n",
       "456        0.97       0.0         0.29          74.0        7.9   E10+  \n",
       "460        1.01       0.0         0.29          72.0          8   E10+  \n",
       "1519       0.39       0.0         0.19          75.0        7.7   E10+  \n",
       "1538       0.44       0.0         0.27          73.0        7.4   E10+  \n",
       "1553       0.03       0.0         0.52          77.0        8.9   E10+  \n",
       "12465      0.03       0.0         0.01          80.0        7.8   E10+  "
      ]
     },
     "execution_count": 25,
     "metadata": {},
     "output_type": "execute_result"
    }
   ],
   "source": [
    "games[games['name'] == 'lego batman: the videogame']"
   ]
  },
  {
   "cell_type": "markdown",
   "metadata": {},
   "source": [
    "**Conclusiones intermedias**\n",
    "\n",
    "Podemos ver que el porcentaje de valores ausentes no es tan elevado. Tenemos un 1.61% de valores ausentes en esta columna. De la tabla de valores ausentes he tomado los nombres de dos video juegos y he filtrado tablas para cada uno de ellos y podemos ver que los juegos si tienen su año de lanzamiento en otras plataformas. \n",
    "\n",
    "Tomando esto podríamos agrupar nuestros datos por nombre y obtener la mediana de año de lanzamiento y así con una función poder agregar a los valores ausentes de esta columna.  \n"
   ]
  },
  {
   "cell_type": "code",
   "execution_count": 26,
   "metadata": {},
   "outputs": [
    {
     "data": {
      "text/html": [
       "<div>\n",
       "<style scoped>\n",
       "    .dataframe tbody tr th:only-of-type {\n",
       "        vertical-align: middle;\n",
       "    }\n",
       "\n",
       "    .dataframe tbody tr th {\n",
       "        vertical-align: top;\n",
       "    }\n",
       "\n",
       "    .dataframe thead th {\n",
       "        text-align: right;\n",
       "    }\n",
       "</style>\n",
       "<table border=\"1\" class=\"dataframe\">\n",
       "  <thead>\n",
       "    <tr style=\"text-align: right;\">\n",
       "      <th></th>\n",
       "      <th>year_of_release</th>\n",
       "    </tr>\n",
       "    <tr>\n",
       "      <th>name</th>\n",
       "      <th></th>\n",
       "    </tr>\n",
       "  </thead>\n",
       "  <tbody>\n",
       "    <tr>\n",
       "      <th>beyblade burst</th>\n",
       "      <td>2016.0</td>\n",
       "    </tr>\n",
       "    <tr>\n",
       "      <th>fire emblem fates</th>\n",
       "      <td>2015.0</td>\n",
       "    </tr>\n",
       "    <tr>\n",
       "      <th>frozen: olaf's quest</th>\n",
       "      <td>2013.0</td>\n",
       "    </tr>\n",
       "    <tr>\n",
       "      <th>haikyu!! cross team match!</th>\n",
       "      <td>2016.0</td>\n",
       "    </tr>\n",
       "    <tr>\n",
       "      <th>tales of xillia 2</th>\n",
       "      <td>2012.0</td>\n",
       "    </tr>\n",
       "    <tr>\n",
       "      <th>...</th>\n",
       "      <td>...</td>\n",
       "    </tr>\n",
       "    <tr>\n",
       "      <th>zumba fitness rush</th>\n",
       "      <td>2012.0</td>\n",
       "    </tr>\n",
       "    <tr>\n",
       "      <th>zumba fitness: world party</th>\n",
       "      <td>2013.0</td>\n",
       "    </tr>\n",
       "    <tr>\n",
       "      <th>zwei!!</th>\n",
       "      <td>2008.0</td>\n",
       "    </tr>\n",
       "    <tr>\n",
       "      <th>zyuden sentai kyoryuger: game de gaburincho!!</th>\n",
       "      <td>2013.0</td>\n",
       "    </tr>\n",
       "    <tr>\n",
       "      <th>¡shin chan flipa en colores!</th>\n",
       "      <td>2007.0</td>\n",
       "    </tr>\n",
       "  </tbody>\n",
       "</table>\n",
       "<p>11426 rows × 1 columns</p>\n",
       "</div>"
      ],
      "text/plain": [
       "                                               year_of_release\n",
       "name                                                          \n",
       " beyblade burst                                         2016.0\n",
       " fire emblem fates                                      2015.0\n",
       " frozen: olaf's quest                                   2013.0\n",
       " haikyu!! cross team match!                             2016.0\n",
       " tales of xillia 2                                      2012.0\n",
       "...                                                        ...\n",
       "zumba fitness rush                                      2012.0\n",
       "zumba fitness: world party                              2013.0\n",
       "zwei!!                                                  2008.0\n",
       "zyuden sentai kyoryuger: game de gaburincho!!           2013.0\n",
       "¡shin chan flipa en colores!                            2007.0\n",
       "\n",
       "[11426 rows x 1 columns]"
      ]
     },
     "execution_count": 26,
     "metadata": {},
     "output_type": "execute_result"
    }
   ],
   "source": [
    "# Creamos una tabla con la informacion que necesitamos\n",
    "\n",
    "year_mode = games.pivot_table(index='name',values='year_of_release',aggfunc='median')\n",
    "year_mode"
   ]
  },
  {
   "cell_type": "code",
   "execution_count": 27,
   "metadata": {},
   "outputs": [],
   "source": [
    "# Creamos una funcion que nos ayudara mas adelante a replazar valores\n",
    "\n",
    "def replace(row,column_1,column_2,new_df, column_3 = None):\n",
    "    missing = row[column_1]\n",
    "    new_value = row[column_2]\n",
    "\n",
    "    if column_3 != None:\n",
    "        addtional = row[column_3]\n",
    "        if pd.isna(missing):\n",
    "            try:\n",
    "                return new_df[column_1][addtional][new_value]\n",
    "            except:\n",
    "                return None\n",
    "        else:\n",
    "            return missing\n",
    "\n",
    "    else:\n",
    "        if pd.isna(missing):\n",
    "            try:\n",
    "                return new_df[column_1][new_value]\n",
    "            except:\n",
    "                return None\n",
    "        else:\n",
    "            return missing"
   ]
  },
  {
   "cell_type": "code",
   "execution_count": 28,
   "metadata": {},
   "outputs": [
    {
     "name": "stdout",
     "output_type": "stream",
     "text": [
      "2003.0\n",
      "2008.0\n",
      "1999.0\n"
     ]
    }
   ],
   "source": [
    "# Probamos la funcion\n",
    "\n",
    "print(replace(games.iloc[183],'year_of_release','name',year_mode))\n",
    "print(replace(games.iloc[456],'year_of_release','name',year_mode))\n",
    "print(replace(games.iloc[609],'year_of_release','name',year_mode))\n"
   ]
  },
  {
   "cell_type": "code",
   "execution_count": 29,
   "metadata": {},
   "outputs": [
    {
     "data": {
      "text/plain": [
       "146"
      ]
     },
     "execution_count": 29,
     "metadata": {},
     "output_type": "execute_result"
    }
   ],
   "source": [
    "# Aplicamos la funcion a nuestra tabla\n",
    "\n",
    "games['year_of_release'] = games.apply(replace,args=('year_of_release','name',year_mode),axis=1)\n",
    "\n",
    "# Comprobamos\n",
    "\n",
    "len(games[games['year_of_release'].isna()])"
   ]
  },
  {
   "cell_type": "code",
   "execution_count": 30,
   "metadata": {},
   "outputs": [
    {
     "data": {
      "text/plain": [
       "'0.87%'"
      ]
     },
     "execution_count": 30,
     "metadata": {},
     "output_type": "execute_result"
    }
   ],
   "source": [
    "# Porcentaje nuevo de valores ausentes\n",
    "\n",
    "'{:.2%}'.format(len(games[games['year_of_release'].isna()])/len(games))"
   ]
  },
  {
   "cell_type": "code",
   "execution_count": 31,
   "metadata": {},
   "outputs": [
    {
     "data": {
      "text/html": [
       "<div>\n",
       "<style scoped>\n",
       "    .dataframe tbody tr th:only-of-type {\n",
       "        vertical-align: middle;\n",
       "    }\n",
       "\n",
       "    .dataframe tbody tr th {\n",
       "        vertical-align: top;\n",
       "    }\n",
       "\n",
       "    .dataframe thead th {\n",
       "        text-align: right;\n",
       "    }\n",
       "</style>\n",
       "<table border=\"1\" class=\"dataframe\">\n",
       "  <thead>\n",
       "    <tr style=\"text-align: right;\">\n",
       "      <th></th>\n",
       "      <th>name</th>\n",
       "      <th>platform</th>\n",
       "      <th>year_of_release</th>\n",
       "      <th>genre</th>\n",
       "      <th>na_sales</th>\n",
       "      <th>eu_sales</th>\n",
       "      <th>jp_sales</th>\n",
       "      <th>other_sales</th>\n",
       "      <th>critic_score</th>\n",
       "      <th>user_score</th>\n",
       "      <th>rating</th>\n",
       "    </tr>\n",
       "  </thead>\n",
       "  <tbody>\n",
       "    <tr>\n",
       "      <th>475</th>\n",
       "      <td>wwe smackdown vs. raw 2006</td>\n",
       "      <td>PS2</td>\n",
       "      <td>NaN</td>\n",
       "      <td>Fighting</td>\n",
       "      <td>1.57</td>\n",
       "      <td>1.02</td>\n",
       "      <td>0.00</td>\n",
       "      <td>0.41</td>\n",
       "      <td>NaN</td>\n",
       "      <td>NaN</td>\n",
       "      <td>NaN</td>\n",
       "    </tr>\n",
       "    <tr>\n",
       "      <th>627</th>\n",
       "      <td>rock band</td>\n",
       "      <td>X360</td>\n",
       "      <td>NaN</td>\n",
       "      <td>Misc</td>\n",
       "      <td>1.93</td>\n",
       "      <td>0.33</td>\n",
       "      <td>0.00</td>\n",
       "      <td>0.21</td>\n",
       "      <td>92.0</td>\n",
       "      <td>8.2</td>\n",
       "      <td>T</td>\n",
       "    </tr>\n",
       "    <tr>\n",
       "      <th>657</th>\n",
       "      <td>frogger's adventures: temple of the frog</td>\n",
       "      <td>GBA</td>\n",
       "      <td>NaN</td>\n",
       "      <td>Adventure</td>\n",
       "      <td>2.15</td>\n",
       "      <td>0.18</td>\n",
       "      <td>0.00</td>\n",
       "      <td>0.07</td>\n",
       "      <td>73.0</td>\n",
       "      <td>tbd</td>\n",
       "      <td>E</td>\n",
       "    </tr>\n",
       "    <tr>\n",
       "      <th>805</th>\n",
       "      <td>rock band</td>\n",
       "      <td>Wii</td>\n",
       "      <td>NaN</td>\n",
       "      <td>Misc</td>\n",
       "      <td>1.33</td>\n",
       "      <td>0.56</td>\n",
       "      <td>0.00</td>\n",
       "      <td>0.20</td>\n",
       "      <td>80.0</td>\n",
       "      <td>6.3</td>\n",
       "      <td>T</td>\n",
       "    </tr>\n",
       "    <tr>\n",
       "      <th>1142</th>\n",
       "      <td>rock band</td>\n",
       "      <td>PS3</td>\n",
       "      <td>NaN</td>\n",
       "      <td>Misc</td>\n",
       "      <td>0.99</td>\n",
       "      <td>0.41</td>\n",
       "      <td>0.00</td>\n",
       "      <td>0.22</td>\n",
       "      <td>92.0</td>\n",
       "      <td>8.4</td>\n",
       "      <td>T</td>\n",
       "    </tr>\n",
       "    <tr>\n",
       "      <th>...</th>\n",
       "      <td>...</td>\n",
       "      <td>...</td>\n",
       "      <td>...</td>\n",
       "      <td>...</td>\n",
       "      <td>...</td>\n",
       "      <td>...</td>\n",
       "      <td>...</td>\n",
       "      <td>...</td>\n",
       "      <td>...</td>\n",
       "      <td>...</td>\n",
       "      <td>...</td>\n",
       "    </tr>\n",
       "    <tr>\n",
       "      <th>16277</th>\n",
       "      <td>homeworld remastered collection</td>\n",
       "      <td>PC</td>\n",
       "      <td>NaN</td>\n",
       "      <td>Strategy</td>\n",
       "      <td>0.00</td>\n",
       "      <td>0.01</td>\n",
       "      <td>0.00</td>\n",
       "      <td>0.00</td>\n",
       "      <td>86.0</td>\n",
       "      <td>8.2</td>\n",
       "      <td>E10+</td>\n",
       "    </tr>\n",
       "    <tr>\n",
       "      <th>16288</th>\n",
       "      <td>shorts</td>\n",
       "      <td>DS</td>\n",
       "      <td>NaN</td>\n",
       "      <td>Platform</td>\n",
       "      <td>0.01</td>\n",
       "      <td>0.00</td>\n",
       "      <td>0.00</td>\n",
       "      <td>0.00</td>\n",
       "      <td>NaN</td>\n",
       "      <td>tbd</td>\n",
       "      <td>E10+</td>\n",
       "    </tr>\n",
       "    <tr>\n",
       "      <th>16348</th>\n",
       "      <td>agarest senki: re-appearance</td>\n",
       "      <td>PS3</td>\n",
       "      <td>NaN</td>\n",
       "      <td>Role-Playing</td>\n",
       "      <td>0.00</td>\n",
       "      <td>0.00</td>\n",
       "      <td>0.01</td>\n",
       "      <td>0.00</td>\n",
       "      <td>NaN</td>\n",
       "      <td>NaN</td>\n",
       "      <td>NaN</td>\n",
       "    </tr>\n",
       "    <tr>\n",
       "      <th>16458</th>\n",
       "      <td>hakuouki: shinsengumi kitan</td>\n",
       "      <td>PS3</td>\n",
       "      <td>NaN</td>\n",
       "      <td>Adventure</td>\n",
       "      <td>0.01</td>\n",
       "      <td>0.00</td>\n",
       "      <td>0.00</td>\n",
       "      <td>0.00</td>\n",
       "      <td>NaN</td>\n",
       "      <td>NaN</td>\n",
       "      <td>NaN</td>\n",
       "    </tr>\n",
       "    <tr>\n",
       "      <th>16522</th>\n",
       "      <td>virtua quest</td>\n",
       "      <td>GC</td>\n",
       "      <td>NaN</td>\n",
       "      <td>Role-Playing</td>\n",
       "      <td>0.01</td>\n",
       "      <td>0.00</td>\n",
       "      <td>0.00</td>\n",
       "      <td>0.00</td>\n",
       "      <td>55.0</td>\n",
       "      <td>5.5</td>\n",
       "      <td>T</td>\n",
       "    </tr>\n",
       "  </tbody>\n",
       "</table>\n",
       "<p>146 rows × 11 columns</p>\n",
       "</div>"
      ],
      "text/plain": [
       "                                           name platform  year_of_release  \\\n",
       "475                  wwe smackdown vs. raw 2006      PS2              NaN   \n",
       "627                                   rock band     X360              NaN   \n",
       "657    frogger's adventures: temple of the frog      GBA              NaN   \n",
       "805                                   rock band      Wii              NaN   \n",
       "1142                                  rock band      PS3              NaN   \n",
       "...                                         ...      ...              ...   \n",
       "16277           homeworld remastered collection       PC              NaN   \n",
       "16288                                    shorts       DS              NaN   \n",
       "16348              agarest senki: re-appearance      PS3              NaN   \n",
       "16458               hakuouki: shinsengumi kitan      PS3              NaN   \n",
       "16522                              virtua quest       GC              NaN   \n",
       "\n",
       "              genre  na_sales  eu_sales  jp_sales  other_sales  critic_score  \\\n",
       "475        Fighting      1.57      1.02      0.00         0.41           NaN   \n",
       "627            Misc      1.93      0.33      0.00         0.21          92.0   \n",
       "657       Adventure      2.15      0.18      0.00         0.07          73.0   \n",
       "805            Misc      1.33      0.56      0.00         0.20          80.0   \n",
       "1142           Misc      0.99      0.41      0.00         0.22          92.0   \n",
       "...             ...       ...       ...       ...          ...           ...   \n",
       "16277      Strategy      0.00      0.01      0.00         0.00          86.0   \n",
       "16288      Platform      0.01      0.00      0.00         0.00           NaN   \n",
       "16348  Role-Playing      0.00      0.00      0.01         0.00           NaN   \n",
       "16458     Adventure      0.01      0.00      0.00         0.00           NaN   \n",
       "16522  Role-Playing      0.01      0.00      0.00         0.00          55.0   \n",
       "\n",
       "      user_score rating  \n",
       "475          NaN    NaN  \n",
       "627          8.2      T  \n",
       "657          tbd      E  \n",
       "805          6.3      T  \n",
       "1142         8.4      T  \n",
       "...          ...    ...  \n",
       "16277        8.2   E10+  \n",
       "16288        tbd   E10+  \n",
       "16348        NaN    NaN  \n",
       "16458        NaN    NaN  \n",
       "16522        5.5      T  \n",
       "\n",
       "[146 rows x 11 columns]"
      ]
     },
     "execution_count": 31,
     "metadata": {},
     "output_type": "execute_result"
    }
   ],
   "source": [
    "# Nueva tabla de valores ausentes en esta columna\n",
    "\n",
    "games[games['year_of_release'].isna()]"
   ]
  },
  {
   "cell_type": "code",
   "execution_count": 32,
   "metadata": {},
   "outputs": [
    {
     "data": {
      "text/html": [
       "<div>\n",
       "<style scoped>\n",
       "    .dataframe tbody tr th:only-of-type {\n",
       "        vertical-align: middle;\n",
       "    }\n",
       "\n",
       "    .dataframe tbody tr th {\n",
       "        vertical-align: top;\n",
       "    }\n",
       "\n",
       "    .dataframe thead th {\n",
       "        text-align: right;\n",
       "    }\n",
       "</style>\n",
       "<table border=\"1\" class=\"dataframe\">\n",
       "  <thead>\n",
       "    <tr style=\"text-align: right;\">\n",
       "      <th></th>\n",
       "      <th>name</th>\n",
       "      <th>platform</th>\n",
       "      <th>year_of_release</th>\n",
       "      <th>genre</th>\n",
       "      <th>na_sales</th>\n",
       "      <th>eu_sales</th>\n",
       "      <th>jp_sales</th>\n",
       "      <th>other_sales</th>\n",
       "      <th>critic_score</th>\n",
       "      <th>user_score</th>\n",
       "      <th>rating</th>\n",
       "    </tr>\n",
       "  </thead>\n",
       "  <tbody>\n",
       "    <tr>\n",
       "      <th>15754</th>\n",
       "      <td>virtua quest</td>\n",
       "      <td>PS2</td>\n",
       "      <td>NaN</td>\n",
       "      <td>Role-Playing</td>\n",
       "      <td>0.01</td>\n",
       "      <td>0.01</td>\n",
       "      <td>0.0</td>\n",
       "      <td>0.0</td>\n",
       "      <td>53.0</td>\n",
       "      <td>7.6</td>\n",
       "      <td>T</td>\n",
       "    </tr>\n",
       "    <tr>\n",
       "      <th>16522</th>\n",
       "      <td>virtua quest</td>\n",
       "      <td>GC</td>\n",
       "      <td>NaN</td>\n",
       "      <td>Role-Playing</td>\n",
       "      <td>0.01</td>\n",
       "      <td>0.00</td>\n",
       "      <td>0.0</td>\n",
       "      <td>0.0</td>\n",
       "      <td>55.0</td>\n",
       "      <td>5.5</td>\n",
       "      <td>T</td>\n",
       "    </tr>\n",
       "  </tbody>\n",
       "</table>\n",
       "</div>"
      ],
      "text/plain": [
       "               name platform  year_of_release         genre  na_sales  \\\n",
       "15754  virtua quest      PS2              NaN  Role-Playing      0.01   \n",
       "16522  virtua quest       GC              NaN  Role-Playing      0.01   \n",
       "\n",
       "       eu_sales  jp_sales  other_sales  critic_score user_score rating  \n",
       "15754      0.01       0.0          0.0          53.0        7.6      T  \n",
       "16522      0.00       0.0          0.0          55.0        5.5      T  "
      ]
     },
     "execution_count": 32,
     "metadata": {},
     "output_type": "execute_result"
    }
   ],
   "source": [
    "games[games['name'] == 'virtua quest']"
   ]
  },
  {
   "cell_type": "markdown",
   "metadata": {},
   "source": [
    "**Conclusiones**\n",
    "\n",
    "A pesar de haber logrado disminuir nuestro número de valores ausentes en esta columna aún nos quedan unos cuantos. La razón es que estos juegos no tienen su año de lanzamiento en ninguna consola y por eso nuestra función para remplazar valores no funciona. Ahora nuestro porcentaje de valores ausentes en esta columna es solo de 0.87%. Este valor es bastante bajo y podríamos simplemente eliminar estos valores. Sin embargo, no lo haremos ya que el resto de datos de estas columnas si nos pueden ser útiles en el análisis posterior. \n",
    "\n",
    "#### Valores Atípicos"
   ]
  },
  {
   "cell_type": "code",
   "execution_count": 33,
   "metadata": {},
   "outputs": [
    {
     "data": {
      "image/png": "[encoded data removed]",
      "text/plain": [
       "<Figure size 432x288 with 1 Axes>"
      ]
     },
     "metadata": {
      "needs_background": "light"
     },
     "output_type": "display_data"
    },
    {
     "data": {
      "text/plain": [
       "count    16567.000000\n",
       "mean      2006.490403\n",
       "std          5.862637\n",
       "min       1980.000000\n",
       "25%       2003.000000\n",
       "50%       2007.000000\n",
       "75%       2010.000000\n",
       "max       2016.000000\n",
       "Name: year_of_release, dtype: float64"
      ]
     },
     "execution_count": 33,
     "metadata": {},
     "output_type": "execute_result"
    }
   ],
   "source": [
    "# Imprimimos un boxplot y un describe para analizar los valores de esta columna\n",
    "\n",
    "games.boxplot('year_of_release')\n",
    "plt.title('Boxplot of year_of_release')\n",
    "plt.ylabel('years')\n",
    "plt.show()\n",
    "games['year_of_release'].describe()\n"
   ]
  },
  {
   "cell_type": "code",
   "execution_count": 34,
   "metadata": {},
   "outputs": [
    {
     "data": {
      "text/plain": [
       "1257"
      ]
     },
     "execution_count": 34,
     "metadata": {},
     "output_type": "execute_result"
    }
   ],
   "source": [
    "# Cantidad de valores menores a 1997\n",
    "\n",
    "len(games[games['year_of_release'] <= 1997])"
   ]
  },
  {
   "cell_type": "code",
   "execution_count": 35,
   "metadata": {},
   "outputs": [
    {
     "data": {
      "text/plain": [
       "'7.52%'"
      ]
     },
     "execution_count": 35,
     "metadata": {},
     "output_type": "execute_result"
    }
   ],
   "source": [
    "# Porcentaje de valores menores a 1997\n",
    "\n",
    "'{:.2%}'.format(len(games[games['year_of_release'] <= 1997])/len(games['year_of_release']))"
   ]
  },
  {
   "cell_type": "markdown",
   "metadata": {},
   "source": [
    "**Conclusiones**\n",
    "\n",
    "Tomando nuestro describe y nuestro diagrama de caja podríamos decir que nuestros datos de `year_of_release` están sesgados hacia la izquierda. Podemos ver que nuestro bigote inferior del diagrama de caja esta alrededor de 1997. Por esto podríamos decir que nuestros valores atípicos se encuentran por debajo de 1997. Hemos sacado un porcentaje de estos valores y vemos que tenemos un 7.52% de valores por debajo de 1997. \n",
    "\n",
    "Más adelante tomaremos una decisión de con que años trabajar para nuestro análisis y en ese momento talvez volvamos a analizar este diagrama y tomar una decisión. \n"
   ]
  },
  {
   "cell_type": "markdown",
   "metadata": {},
   "source": [
    "### `genre`\n",
    "\n",
    "\n",
    "En nuestro análisis general vimos que en esta columna también teníamos valores ausentes. Sin embargo, los valores ausentes fueron eliminados al mismo tiempo que eliminamos los valores ausentes de la columna `name`. Entonces solo vamos a analizar posibles valores duplicados.  \n",
    "\n",
    "\n",
    "#### Duplicados"
   ]
  },
  {
   "cell_type": "code",
   "execution_count": 36,
   "metadata": {},
   "outputs": [
    {
     "data": {
      "text/plain": [
       "array(['Sports', 'Platform', 'Racing', 'Role-Playing', 'Puzzle', 'Misc',\n",
       "       'Shooter', 'Simulation', 'Action', 'Fighting', 'Adventure',\n",
       "       'Strategy'], dtype=object)"
      ]
     },
     "execution_count": 36,
     "metadata": {},
     "output_type": "execute_result"
    }
   ],
   "source": [
    "# Buscamos los valores unicos \n",
    "\n",
    "games['genre'].unique()"
   ]
  },
  {
   "cell_type": "code",
   "execution_count": 37,
   "metadata": {},
   "outputs": [
    {
     "data": {
      "text/plain": [
       "16713"
      ]
     },
     "execution_count": 37,
     "metadata": {},
     "output_type": "execute_result"
    }
   ],
   "source": [
    "# Buscamos valores duplicados\n",
    "\n",
    "len(games['genre'].duplicated())"
   ]
  },
  {
   "cell_type": "markdown",
   "metadata": {},
   "source": [
    "**Conclusiones**\n",
    "\n",
    "Podemos ver que tenemos 12 valores únicos en esta columna y ninguno necesita ser modificado. Tambien vemos que si tenemos valores unicos pero este es el mismo caso que en las otras columnas; entonces no haremos nada al respecto. "
   ]
  },
  {
   "cell_type": "markdown",
   "metadata": {},
   "source": [
    "### `na_sales`\n",
    "\n",
    "En nuestro análisis general vimos que en esta columna no teníamos valores ausentes. Por lo tanto, no tenemos que analizar esto. Sin embargo, vamos analizar la distribución de nuestros datos en esta columna para buscar valores atípicos. \n",
    "\n",
    "#### Valores Atípicos"
   ]
  },
  {
   "cell_type": "code",
   "execution_count": 38,
   "metadata": {},
   "outputs": [],
   "source": [
    "# Creamos una fórmula que nos ayudara en nuestro análisis de valores atípicos en distintas columnas\n",
    "\n",
    "def outliers(df,col,ylabel):\n",
    "    df.boxplot(col,figsize=(8,5))\n",
    "    plt.title('Boxplot of ' + col)\n",
    "    plt.ylabel(ylabel)\n",
    "    plt.show()\n",
    "\n",
    "    min = df[col].min()\n",
    "    values_0 = len(df[df[col] <= 0])\n",
    "    percentage_values_0 = '{:.2%}'.format(len(df[df[col] <= 0])/len(df))\n",
    "\n",
    "    Q1 = df[col].quantile(0.25)\n",
    "    Q3 = df[col].quantile(0.75)\n",
    "    IQR = Q3 - Q1\n",
    "\n",
    "    up_limit = Q3 + IQR\n",
    "    low_limit = Q1 - IQR\n",
    "\n",
    "    values_up_limit = len(df[df[col] >= up_limit])\n",
    "    values_low_limit = len(df[df[col] <= low_limit])\n",
    "\n",
    "    percentage_up_limit = '{:.2%}'.format(len(df[df[col] >= up_limit])/len(df))\n",
    "    percentage_low_limit = '{:.2%}'.format(len(df[df[col] <= low_limit])/len(df))\n",
    "\n",
    "    print(df[col].describe())\n",
    "    print()\n",
    "    print(f'El IQR de {col} es {IQR}')\n",
    "    print()\n",
    "\n",
    "    if low_limit < 0:\n",
    "        print(f'La cantidad de valores iguales o menores a {min} es {values_0}')\n",
    "        print()\n",
    "        print(f'El porcentaje de valores iguales o menores a {min} es {percentage_values_0}')\n",
    "    else:\n",
    "        print(f'La cantidad de valores iguales o menores a {low_limit} es {values_low_limit}')\n",
    "        print()\n",
    "        print(f'El porcentaje de valores iguales o menores a {low_limit} es {percentage_low_limit}')\n",
    "\n",
    "    print()\n",
    "    print(f'EL limite superior es de nuestro boxplot es {up_limit}')\n",
    "    print()\n",
    "    print(f'La cantidad de volores iguales o superiores a {up_limit} es {values_up_limit}')\n",
    "    print()\n",
    "    print(f'Elporcentaje de valores iguales o superiores a {up_limit} es {percentage_up_limit}')"
   ]
  },
  {
   "cell_type": "code",
   "execution_count": 39,
   "metadata": {},
   "outputs": [
    {
     "data": {
      "image/png": "[encoded data removed]",
      "text/plain": [
       "<Figure size 576x360 with 1 Axes>"
      ]
     },
     "metadata": {
      "needs_background": "light"
     },
     "output_type": "display_data"
    },
    {
     "name": "stdout",
     "output_type": "stream",
     "text": [
      "count    16713.000000\n",
      "mean         0.263302\n",
      "std          0.813565\n",
      "min          0.000000\n",
      "25%          0.000000\n",
      "50%          0.080000\n",
      "75%          0.240000\n",
      "max         41.360000\n",
      "Name: na_sales, dtype: float64\n",
      "\n",
      "El IQR de na_sales es 0.24\n",
      "\n",
      "La cantidad de valores iguales o menores a 0.0 es 4507\n",
      "\n",
      "El porcentaje de valores iguales o menores a 0.0 es 26.97%\n",
      "\n",
      "EL limite superior es de nuestro boxplot es 0.48\n",
      "\n",
      "La cantidad de volores iguales o superiores a 0.48 es 2182\n",
      "\n",
      "Elporcentaje de valores iguales o superiores a 0.48 es 13.06%\n"
     ]
    }
   ],
   "source": [
    "# Aplicamos la función a nuestra columna\n",
    "\n",
    "outliers(games,'na_sales','Sales in millions')"
   ]
  },
  {
   "cell_type": "markdown",
   "metadata": {},
   "source": [
    "**Conclusiones**\n",
    "\n",
    "Aquí podemos ver que la gran mayoría de valores se encuentran entre 0 y 0.48 millones. Al ver el grafico de cajas no es tan fácil ver esto y por esta razón buscamos el límite superior de nuestro grafico para poder entenderlo mejor. Y siendo nuestro límite superior 0.48 podemos decir que la mayoría de los datos se encuentran en ese rango. De hecho, podemos ver que la cantidad de valores iguales o superiores a 0.48 son de un 13.06% de todos nuestros datos en esta columna. Podríamos decir que estos son datos atípicos; sin embargo, no los vamos a eliminar ni modificar. Ya que estos valores nos ayudaran en nuestro análisis más tarde. \n",
    "\n",
    "### `eu_sales`\n",
    "\n",
    "Al igual que la columna anterior, sabemos que no tenemos valores nulos. Entonces nos enfocaremos en los valores atípicos. \n",
    "\n",
    "#### Valores Atípicos"
   ]
  },
  {
   "cell_type": "code",
   "execution_count": 40,
   "metadata": {},
   "outputs": [
    {
     "data": {
      "image/png": "[encoded data removed]",
      "text/plain": [
       "<Figure size 576x360 with 1 Axes>"
      ]
     },
     "metadata": {
      "needs_background": "light"
     },
     "output_type": "display_data"
    },
    {
     "name": "stdout",
     "output_type": "stream",
     "text": [
      "count    16713.000000\n",
      "mean         0.145045\n",
      "std          0.503359\n",
      "min          0.000000\n",
      "25%          0.000000\n",
      "50%          0.020000\n",
      "75%          0.110000\n",
      "max         28.960000\n",
      "Name: eu_sales, dtype: float64\n",
      "\n",
      "El IQR de eu_sales es 0.11\n",
      "\n",
      "La cantidad de valores iguales o menores a 0.0 es 5869\n",
      "\n",
      "El porcentaje de valores iguales o menores a 0.0 es 35.12%\n",
      "\n",
      "EL limite superior es de nuestro boxplot es 0.22\n",
      "\n",
      "La cantidad de volores iguales o superiores a 0.22 es 2539\n",
      "\n",
      "Elporcentaje de valores iguales o superiores a 0.22 es 15.19%\n"
     ]
    }
   ],
   "source": [
    "# Aplicamos la función a nuestra columna\n",
    "\n",
    "outliers(games,'eu_sales','sales in millions')"
   ]
  },
  {
   "cell_type": "markdown",
   "metadata": {},
   "source": [
    "**Conclusiones**\n",
    "\n",
    "Al igual que en nuestra columna `na_sales` aquí también vemos que la mayoría de los valores están entre 0 y 0.22 millones. Ya que la mayoría se encuentra entre estos valores, pero aun así tenemos una buena cantidad de valores superiores es que nuestra caja se ve muy aplastada en nuestro gráfico. Podríamos decir que los valores superiores a los 0.22 millones son valores atípicos; sin embargo, tampoco haremos modificaciones en esta columna por ahora. \n",
    "\n",
    "### `jp_sales`\n",
    "\n",
    "En esta columna tampoco tenemos valores ausentes. Continuaremos con el análisis de valores atípicos. \n",
    "\n",
    "#### Valores Atípicos"
   ]
  },
  {
   "cell_type": "code",
   "execution_count": 41,
   "metadata": {},
   "outputs": [
    {
     "data": {
      "image/png": "[encoded data removed]",
      "text/plain": [
       "<Figure size 576x360 with 1 Axes>"
      ]
     },
     "metadata": {
      "needs_background": "light"
     },
     "output_type": "display_data"
    },
    {
     "name": "stdout",
     "output_type": "stream",
     "text": [
      "count    16713.000000\n",
      "mean         0.077625\n",
      "std          0.308871\n",
      "min          0.000000\n",
      "25%          0.000000\n",
      "50%          0.000000\n",
      "75%          0.040000\n",
      "max         10.220000\n",
      "Name: jp_sales, dtype: float64\n",
      "\n",
      "El IQR de jp_sales es 0.04\n",
      "\n",
      "La cantidad de valores iguales o menores a 0.0 es 10513\n",
      "\n",
      "El porcentaje de valores iguales o menores a 0.0 es 62.90%\n",
      "\n",
      "EL limite superior es de nuestro boxplot es 0.08\n",
      "\n",
      "La cantidad de volores iguales o superiores a 0.08 es 2965\n",
      "\n",
      "Elporcentaje de valores iguales o superiores a 0.08 es 17.74%\n"
     ]
    }
   ],
   "source": [
    "# Aplicamos la función a nuestra columna\n",
    "\n",
    "outliers(games,'jp_sales','sales in millions')"
   ]
  },
  {
   "cell_type": "markdown",
   "metadata": {},
   "source": [
    "**Conclusiones**\n",
    "\n",
    "Nuevamente podemos ver un gráfico similar a los que hemos obtenido en las otras regiones de ventas. La mayoría de valores se concentra en un rango tan pequeño y los valores atípicos llegan tan alto que hacen que la figura se vea de esta manera. Algo adicional que podemos notar, es que a medida que hemos analizado cada región, la cantidad de números iguales o menores a 0 ha aumentado. En este caso, nuestro porcentaje de valores iguales o menores a 0 es de 62.90%, más de la mitad de nuestros datos. También vemos que nuestro límite superior es mucho menor al de la columna anterior con 0.08 millones. Igual que en las otras columnas podríamos decir que los valores superiores al límite superior, en este caso 0.08 millones son valores atípicos. Tampoco modificaremos estos valores. \n",
    "\n",
    "### `other_sales`\n",
    "\n",
    "En esta columna tampoco tenemos valores ausentes. Continuaremos con el análisis de valores atípicos. \n",
    "\n",
    "#### Valores Atípicos"
   ]
  },
  {
   "cell_type": "code",
   "execution_count": 42,
   "metadata": {},
   "outputs": [
    {
     "data": {
      "image/png": "[encoded data removed]",
      "text/plain": [
       "<Figure size 576x360 with 1 Axes>"
      ]
     },
     "metadata": {
      "needs_background": "light"
     },
     "output_type": "display_data"
    },
    {
     "name": "stdout",
     "output_type": "stream",
     "text": [
      "count    16713.000000\n",
      "mean         0.047343\n",
      "std          0.186742\n",
      "min          0.000000\n",
      "25%          0.000000\n",
      "50%          0.010000\n",
      "75%          0.030000\n",
      "max         10.570000\n",
      "Name: other_sales, dtype: float64\n",
      "\n",
      "El IQR de other_sales es 0.03\n",
      "\n",
      "La cantidad de valores iguales o menores a 0.0 es 6600\n",
      "\n",
      "El porcentaje de valores iguales o menores a 0.0 es 39.49%\n",
      "\n",
      "EL limite superior es de nuestro boxplot es 0.06\n",
      "\n",
      "La cantidad de volores iguales o superiores a 0.06 es 2974\n",
      "\n",
      "Elporcentaje de valores iguales o superiores a 0.06 es 17.79%\n"
     ]
    }
   ],
   "source": [
    "# Aplicamos la función a nuestra columna\n",
    "\n",
    "outliers(games,'other_sales','sales in millions')"
   ]
  },
  {
   "cell_type": "markdown",
   "metadata": {},
   "source": [
    "**Conclusiones**\n",
    "\n",
    "Una vez más obtenemos una distribución bastante similar al de las otras columnas de ventas. Tenemos la mayoría de nuestros datos entre 0 y 0.06 millones de dólares. El 17.79% de nuestros datos es mayor a nuestro límite superior de 0.06 millones de dólares. No vamos a hacer cambios ni modificaciones por el momento. "
   ]
  },
  {
   "cell_type": "markdown",
   "metadata": {},
   "source": [
    "### `critic_score`\n",
    "\n",
    "De nuestro análisis genera inicial vimos que si tenemos valores ausentes en esta columna. Esto será lo primero que analizaremos y buscaremos maneras de solucionarlo. También buscaremos algún otro posible error que pueda tener la columna e intentaremos arreglarlo para nuestro análisis. \n",
    "\n",
    "#### Valores Ausentes"
   ]
  },
  {
   "cell_type": "code",
   "execution_count": 43,
   "metadata": {},
   "outputs": [
    {
     "data": {
      "text/html": [
       "<div>\n",
       "<style scoped>\n",
       "    .dataframe tbody tr th:only-of-type {\n",
       "        vertical-align: middle;\n",
       "    }\n",
       "\n",
       "    .dataframe tbody tr th {\n",
       "        vertical-align: top;\n",
       "    }\n",
       "\n",
       "    .dataframe thead th {\n",
       "        text-align: right;\n",
       "    }\n",
       "</style>\n",
       "<table border=\"1\" class=\"dataframe\">\n",
       "  <thead>\n",
       "    <tr style=\"text-align: right;\">\n",
       "      <th></th>\n",
       "      <th>name</th>\n",
       "      <th>platform</th>\n",
       "      <th>year_of_release</th>\n",
       "      <th>genre</th>\n",
       "      <th>na_sales</th>\n",
       "      <th>eu_sales</th>\n",
       "      <th>jp_sales</th>\n",
       "      <th>other_sales</th>\n",
       "      <th>critic_score</th>\n",
       "      <th>user_score</th>\n",
       "      <th>rating</th>\n",
       "    </tr>\n",
       "  </thead>\n",
       "  <tbody>\n",
       "    <tr>\n",
       "      <th>1</th>\n",
       "      <td>super mario bros.</td>\n",
       "      <td>NES</td>\n",
       "      <td>1985.0</td>\n",
       "      <td>Platform</td>\n",
       "      <td>29.08</td>\n",
       "      <td>3.58</td>\n",
       "      <td>6.81</td>\n",
       "      <td>0.77</td>\n",
       "      <td>NaN</td>\n",
       "      <td>NaN</td>\n",
       "      <td>NaN</td>\n",
       "    </tr>\n",
       "    <tr>\n",
       "      <th>4</th>\n",
       "      <td>pokemon red/pokemon blue</td>\n",
       "      <td>GB</td>\n",
       "      <td>1996.0</td>\n",
       "      <td>Role-Playing</td>\n",
       "      <td>11.27</td>\n",
       "      <td>8.89</td>\n",
       "      <td>10.22</td>\n",
       "      <td>1.00</td>\n",
       "      <td>NaN</td>\n",
       "      <td>NaN</td>\n",
       "      <td>NaN</td>\n",
       "    </tr>\n",
       "    <tr>\n",
       "      <th>5</th>\n",
       "      <td>tetris</td>\n",
       "      <td>GB</td>\n",
       "      <td>1989.0</td>\n",
       "      <td>Puzzle</td>\n",
       "      <td>23.20</td>\n",
       "      <td>2.26</td>\n",
       "      <td>4.22</td>\n",
       "      <td>0.58</td>\n",
       "      <td>NaN</td>\n",
       "      <td>NaN</td>\n",
       "      <td>NaN</td>\n",
       "    </tr>\n",
       "    <tr>\n",
       "      <th>9</th>\n",
       "      <td>duck hunt</td>\n",
       "      <td>NES</td>\n",
       "      <td>1984.0</td>\n",
       "      <td>Shooter</td>\n",
       "      <td>26.93</td>\n",
       "      <td>0.63</td>\n",
       "      <td>0.28</td>\n",
       "      <td>0.47</td>\n",
       "      <td>NaN</td>\n",
       "      <td>NaN</td>\n",
       "      <td>NaN</td>\n",
       "    </tr>\n",
       "    <tr>\n",
       "      <th>10</th>\n",
       "      <td>nintendogs</td>\n",
       "      <td>DS</td>\n",
       "      <td>2005.0</td>\n",
       "      <td>Simulation</td>\n",
       "      <td>9.05</td>\n",
       "      <td>10.95</td>\n",
       "      <td>1.93</td>\n",
       "      <td>2.74</td>\n",
       "      <td>NaN</td>\n",
       "      <td>NaN</td>\n",
       "      <td>NaN</td>\n",
       "    </tr>\n",
       "    <tr>\n",
       "      <th>...</th>\n",
       "      <td>...</td>\n",
       "      <td>...</td>\n",
       "      <td>...</td>\n",
       "      <td>...</td>\n",
       "      <td>...</td>\n",
       "      <td>...</td>\n",
       "      <td>...</td>\n",
       "      <td>...</td>\n",
       "      <td>...</td>\n",
       "      <td>...</td>\n",
       "      <td>...</td>\n",
       "    </tr>\n",
       "    <tr>\n",
       "      <th>16710</th>\n",
       "      <td>samurai warriors: sanada maru</td>\n",
       "      <td>PS3</td>\n",
       "      <td>2016.0</td>\n",
       "      <td>Action</td>\n",
       "      <td>0.00</td>\n",
       "      <td>0.00</td>\n",
       "      <td>0.01</td>\n",
       "      <td>0.00</td>\n",
       "      <td>NaN</td>\n",
       "      <td>NaN</td>\n",
       "      <td>NaN</td>\n",
       "    </tr>\n",
       "    <tr>\n",
       "      <th>16711</th>\n",
       "      <td>lma manager 2007</td>\n",
       "      <td>X360</td>\n",
       "      <td>2006.0</td>\n",
       "      <td>Sports</td>\n",
       "      <td>0.00</td>\n",
       "      <td>0.01</td>\n",
       "      <td>0.00</td>\n",
       "      <td>0.00</td>\n",
       "      <td>NaN</td>\n",
       "      <td>NaN</td>\n",
       "      <td>NaN</td>\n",
       "    </tr>\n",
       "    <tr>\n",
       "      <th>16712</th>\n",
       "      <td>haitaka no psychedelica</td>\n",
       "      <td>PSV</td>\n",
       "      <td>2016.0</td>\n",
       "      <td>Adventure</td>\n",
       "      <td>0.00</td>\n",
       "      <td>0.00</td>\n",
       "      <td>0.01</td>\n",
       "      <td>0.00</td>\n",
       "      <td>NaN</td>\n",
       "      <td>NaN</td>\n",
       "      <td>NaN</td>\n",
       "    </tr>\n",
       "    <tr>\n",
       "      <th>16713</th>\n",
       "      <td>spirits &amp; spells</td>\n",
       "      <td>GBA</td>\n",
       "      <td>2003.0</td>\n",
       "      <td>Platform</td>\n",
       "      <td>0.01</td>\n",
       "      <td>0.00</td>\n",
       "      <td>0.00</td>\n",
       "      <td>0.00</td>\n",
       "      <td>NaN</td>\n",
       "      <td>NaN</td>\n",
       "      <td>NaN</td>\n",
       "    </tr>\n",
       "    <tr>\n",
       "      <th>16714</th>\n",
       "      <td>winning post 8 2016</td>\n",
       "      <td>PSV</td>\n",
       "      <td>2016.0</td>\n",
       "      <td>Simulation</td>\n",
       "      <td>0.00</td>\n",
       "      <td>0.00</td>\n",
       "      <td>0.01</td>\n",
       "      <td>0.00</td>\n",
       "      <td>NaN</td>\n",
       "      <td>NaN</td>\n",
       "      <td>NaN</td>\n",
       "    </tr>\n",
       "  </tbody>\n",
       "</table>\n",
       "<p>8576 rows × 11 columns</p>\n",
       "</div>"
      ],
      "text/plain": [
       "                                name platform  year_of_release         genre  \\\n",
       "1                  super mario bros.      NES           1985.0      Platform   \n",
       "4           pokemon red/pokemon blue       GB           1996.0  Role-Playing   \n",
       "5                             tetris       GB           1989.0        Puzzle   \n",
       "9                          duck hunt      NES           1984.0       Shooter   \n",
       "10                        nintendogs       DS           2005.0    Simulation   \n",
       "...                              ...      ...              ...           ...   \n",
       "16710  samurai warriors: sanada maru      PS3           2016.0        Action   \n",
       "16711               lma manager 2007     X360           2006.0        Sports   \n",
       "16712        haitaka no psychedelica      PSV           2016.0     Adventure   \n",
       "16713               spirits & spells      GBA           2003.0      Platform   \n",
       "16714            winning post 8 2016      PSV           2016.0    Simulation   \n",
       "\n",
       "       na_sales  eu_sales  jp_sales  other_sales  critic_score user_score  \\\n",
       "1         29.08      3.58      6.81         0.77           NaN        NaN   \n",
       "4         11.27      8.89     10.22         1.00           NaN        NaN   \n",
       "5         23.20      2.26      4.22         0.58           NaN        NaN   \n",
       "9         26.93      0.63      0.28         0.47           NaN        NaN   \n",
       "10         9.05     10.95      1.93         2.74           NaN        NaN   \n",
       "...         ...       ...       ...          ...           ...        ...   \n",
       "16710      0.00      0.00      0.01         0.00           NaN        NaN   \n",
       "16711      0.00      0.01      0.00         0.00           NaN        NaN   \n",
       "16712      0.00      0.00      0.01         0.00           NaN        NaN   \n",
       "16713      0.01      0.00      0.00         0.00           NaN        NaN   \n",
       "16714      0.00      0.00      0.01         0.00           NaN        NaN   \n",
       "\n",
       "      rating  \n",
       "1        NaN  \n",
       "4        NaN  \n",
       "5        NaN  \n",
       "9        NaN  \n",
       "10       NaN  \n",
       "...      ...  \n",
       "16710    NaN  \n",
       "16711    NaN  \n",
       "16712    NaN  \n",
       "16713    NaN  \n",
       "16714    NaN  \n",
       "\n",
       "[8576 rows x 11 columns]"
      ]
     },
     "execution_count": 43,
     "metadata": {},
     "output_type": "execute_result"
    }
   ],
   "source": [
    "# Segmentamos una tabla con los valores ausentes de la columna\n",
    "\n",
    "games[games['critic_score'].isna()]"
   ]
  },
  {
   "cell_type": "code",
   "execution_count": 44,
   "metadata": {},
   "outputs": [
    {
     "data": {
      "text/plain": [
       "8576"
      ]
     },
     "execution_count": 44,
     "metadata": {},
     "output_type": "execute_result"
    }
   ],
   "source": [
    "# Cantidad de valores nulos\n",
    "\n",
    "len(games[games['critic_score'].isna()])"
   ]
  },
  {
   "cell_type": "code",
   "execution_count": 45,
   "metadata": {},
   "outputs": [
    {
     "data": {
      "text/plain": [
       "'51.31%'"
      ]
     },
     "execution_count": 45,
     "metadata": {},
     "output_type": "execute_result"
    }
   ],
   "source": [
    "# Porcentake de valores nulos\n",
    "\n",
    "'{:.2%}'.format(len(games[games['critic_score'].isna()])/len(games))"
   ]
  },
  {
   "cell_type": "markdown",
   "metadata": {},
   "source": [
    "Podemos ver que tenemos una gran cantidad de valores nulos en esta columna. Tenemos un 51.31% de valores ausentes. Esto podría afectar nuestro análisis mas adelante. Por esto vamos a buscar posibles maneras de solucionar el problema. \n",
    "\n",
    "Una manera en que solucionamos valores ausentes anteriormente fue agrupando por nombres de videojuegos. Si tuviéramos las calificaciones de los videojuegos en otras plataformas, podríamos tomar esas calificaciones y asignarlas a las plataformas que nos las tienen. Vamos a ver si esta solución es posible. \n",
    "\n"
   ]
  },
  {
   "cell_type": "code",
   "execution_count": 46,
   "metadata": {},
   "outputs": [
    {
     "data": {
      "text/html": [
       "<div>\n",
       "<style scoped>\n",
       "    .dataframe tbody tr th:only-of-type {\n",
       "        vertical-align: middle;\n",
       "    }\n",
       "\n",
       "    .dataframe tbody tr th {\n",
       "        vertical-align: top;\n",
       "    }\n",
       "\n",
       "    .dataframe thead th {\n",
       "        text-align: right;\n",
       "    }\n",
       "</style>\n",
       "<table border=\"1\" class=\"dataframe\">\n",
       "  <thead>\n",
       "    <tr style=\"text-align: right;\">\n",
       "      <th></th>\n",
       "      <th>name</th>\n",
       "      <th>platform</th>\n",
       "      <th>year_of_release</th>\n",
       "      <th>genre</th>\n",
       "      <th>na_sales</th>\n",
       "      <th>eu_sales</th>\n",
       "      <th>jp_sales</th>\n",
       "      <th>other_sales</th>\n",
       "      <th>critic_score</th>\n",
       "      <th>user_score</th>\n",
       "      <th>rating</th>\n",
       "    </tr>\n",
       "  </thead>\n",
       "  <tbody>\n",
       "    <tr>\n",
       "      <th>15771</th>\n",
       "      <td>spirits &amp; spells</td>\n",
       "      <td>GC</td>\n",
       "      <td>2003.0</td>\n",
       "      <td>Platform</td>\n",
       "      <td>0.01</td>\n",
       "      <td>0.0</td>\n",
       "      <td>0.0</td>\n",
       "      <td>0.0</td>\n",
       "      <td>NaN</td>\n",
       "      <td>NaN</td>\n",
       "      <td>NaN</td>\n",
       "    </tr>\n",
       "    <tr>\n",
       "      <th>16713</th>\n",
       "      <td>spirits &amp; spells</td>\n",
       "      <td>GBA</td>\n",
       "      <td>2003.0</td>\n",
       "      <td>Platform</td>\n",
       "      <td>0.01</td>\n",
       "      <td>0.0</td>\n",
       "      <td>0.0</td>\n",
       "      <td>0.0</td>\n",
       "      <td>NaN</td>\n",
       "      <td>NaN</td>\n",
       "      <td>NaN</td>\n",
       "    </tr>\n",
       "  </tbody>\n",
       "</table>\n",
       "</div>"
      ],
      "text/plain": [
       "                   name platform  year_of_release     genre  na_sales  \\\n",
       "15771  spirits & spells       GC           2003.0  Platform      0.01   \n",
       "16713  spirits & spells      GBA           2003.0  Platform      0.01   \n",
       "\n",
       "       eu_sales  jp_sales  other_sales  critic_score user_score rating  \n",
       "15771       0.0       0.0          0.0           NaN        NaN    NaN  \n",
       "16713       0.0       0.0          0.0           NaN        NaN    NaN  "
      ]
     },
     "execution_count": 46,
     "metadata": {},
     "output_type": "execute_result"
    }
   ],
   "source": [
    "# Buscamos juegos por nombre\n",
    "\n",
    "games[games['name'] == 'spirits & spells']"
   ]
  },
  {
   "cell_type": "code",
   "execution_count": 47,
   "metadata": {},
   "outputs": [
    {
     "data": {
      "text/html": [
       "<div>\n",
       "<style scoped>\n",
       "    .dataframe tbody tr th:only-of-type {\n",
       "        vertical-align: middle;\n",
       "    }\n",
       "\n",
       "    .dataframe tbody tr th {\n",
       "        vertical-align: top;\n",
       "    }\n",
       "\n",
       "    .dataframe thead th {\n",
       "        text-align: right;\n",
       "    }\n",
       "</style>\n",
       "<table border=\"1\" class=\"dataframe\">\n",
       "  <thead>\n",
       "    <tr style=\"text-align: right;\">\n",
       "      <th></th>\n",
       "      <th>name</th>\n",
       "      <th>platform</th>\n",
       "      <th>year_of_release</th>\n",
       "      <th>genre</th>\n",
       "      <th>na_sales</th>\n",
       "      <th>eu_sales</th>\n",
       "      <th>jp_sales</th>\n",
       "      <th>other_sales</th>\n",
       "      <th>critic_score</th>\n",
       "      <th>user_score</th>\n",
       "      <th>rating</th>\n",
       "    </tr>\n",
       "  </thead>\n",
       "  <tbody>\n",
       "    <tr>\n",
       "      <th>16711</th>\n",
       "      <td>lma manager 2007</td>\n",
       "      <td>X360</td>\n",
       "      <td>2006.0</td>\n",
       "      <td>Sports</td>\n",
       "      <td>0.0</td>\n",
       "      <td>0.01</td>\n",
       "      <td>0.0</td>\n",
       "      <td>0.0</td>\n",
       "      <td>NaN</td>\n",
       "      <td>NaN</td>\n",
       "      <td>NaN</td>\n",
       "    </tr>\n",
       "  </tbody>\n",
       "</table>\n",
       "</div>"
      ],
      "text/plain": [
       "                   name platform  year_of_release   genre  na_sales  eu_sales  \\\n",
       "16711  lma manager 2007     X360           2006.0  Sports       0.0      0.01   \n",
       "\n",
       "       jp_sales  other_sales  critic_score user_score rating  \n",
       "16711       0.0          0.0           NaN        NaN    NaN  "
      ]
     },
     "execution_count": 47,
     "metadata": {},
     "output_type": "execute_result"
    }
   ],
   "source": [
    "# Buscamos otro ejemplo\n",
    "\n",
    "games[games['name'] == 'lma manager 2007']"
   ]
  },
  {
   "cell_type": "code",
   "execution_count": 48,
   "metadata": {},
   "outputs": [
    {
     "data": {
      "text/html": [
       "<div>\n",
       "<style scoped>\n",
       "    .dataframe tbody tr th:only-of-type {\n",
       "        vertical-align: middle;\n",
       "    }\n",
       "\n",
       "    .dataframe tbody tr th {\n",
       "        vertical-align: top;\n",
       "    }\n",
       "\n",
       "    .dataframe thead th {\n",
       "        text-align: right;\n",
       "    }\n",
       "</style>\n",
       "<table border=\"1\" class=\"dataframe\">\n",
       "  <thead>\n",
       "    <tr style=\"text-align: right;\">\n",
       "      <th></th>\n",
       "      <th>name</th>\n",
       "      <th>platform</th>\n",
       "      <th>year_of_release</th>\n",
       "      <th>genre</th>\n",
       "      <th>na_sales</th>\n",
       "      <th>eu_sales</th>\n",
       "      <th>jp_sales</th>\n",
       "      <th>other_sales</th>\n",
       "      <th>critic_score</th>\n",
       "      <th>user_score</th>\n",
       "      <th>rating</th>\n",
       "    </tr>\n",
       "  </thead>\n",
       "  <tbody>\n",
       "    <tr>\n",
       "      <th>9</th>\n",
       "      <td>duck hunt</td>\n",
       "      <td>NES</td>\n",
       "      <td>1984.0</td>\n",
       "      <td>Shooter</td>\n",
       "      <td>26.93</td>\n",
       "      <td>0.63</td>\n",
       "      <td>0.28</td>\n",
       "      <td>0.47</td>\n",
       "      <td>NaN</td>\n",
       "      <td>NaN</td>\n",
       "      <td>NaN</td>\n",
       "    </tr>\n",
       "  </tbody>\n",
       "</table>\n",
       "</div>"
      ],
      "text/plain": [
       "        name platform  year_of_release    genre  na_sales  eu_sales  jp_sales  \\\n",
       "9  duck hunt      NES           1984.0  Shooter     26.93      0.63      0.28   \n",
       "\n",
       "   other_sales  critic_score user_score rating  \n",
       "9         0.47           NaN        NaN    NaN  "
      ]
     },
     "execution_count": 48,
     "metadata": {},
     "output_type": "execute_result"
    }
   ],
   "source": [
    "# Buscamos un ejemplo adicional \n",
    "\n",
    "games[games['name'] == 'duck hunt']"
   ]
  },
  {
   "cell_type": "markdown",
   "metadata": {},
   "source": [
    "**Conclusiones**\n",
    "\n",
    "Al parecer hacer la agrupación que queríamos para remplazar los valores ausentes no va a funcionar. Tomamos varios ejemplos y vemos que, aunque si tengamos nombres de juegos en diferentes plataformas, estos no tienen calificación en ninguna de las opciones. Y también tenemos juegos que no se repiten en otras plataformas. \n",
    "\n",
    "Asignar calificaciones por otros criterios es complicado ya que no sabemos el criterio de las calificaciones de los otros juegos. Por esta razón vamos a dejar los valores ausentes, pero vamos a cambiarlos por np.nan para que no nos llegue a afectar más adelante en nuestro análisis. \n"
   ]
  },
  {
   "cell_type": "code",
   "execution_count": 49,
   "metadata": {},
   "outputs": [
    {
     "data": {
      "text/html": [
       "<div>\n",
       "<style scoped>\n",
       "    .dataframe tbody tr th:only-of-type {\n",
       "        vertical-align: middle;\n",
       "    }\n",
       "\n",
       "    .dataframe tbody tr th {\n",
       "        vertical-align: top;\n",
       "    }\n",
       "\n",
       "    .dataframe thead th {\n",
       "        text-align: right;\n",
       "    }\n",
       "</style>\n",
       "<table border=\"1\" class=\"dataframe\">\n",
       "  <thead>\n",
       "    <tr style=\"text-align: right;\">\n",
       "      <th></th>\n",
       "      <th>name</th>\n",
       "      <th>platform</th>\n",
       "      <th>year_of_release</th>\n",
       "      <th>genre</th>\n",
       "      <th>na_sales</th>\n",
       "      <th>eu_sales</th>\n",
       "      <th>jp_sales</th>\n",
       "      <th>other_sales</th>\n",
       "      <th>critic_score</th>\n",
       "      <th>user_score</th>\n",
       "      <th>rating</th>\n",
       "    </tr>\n",
       "  </thead>\n",
       "  <tbody>\n",
       "    <tr>\n",
       "      <th>0</th>\n",
       "      <td>wii sports</td>\n",
       "      <td>Wii</td>\n",
       "      <td>2006.0</td>\n",
       "      <td>Sports</td>\n",
       "      <td>41.36</td>\n",
       "      <td>28.96</td>\n",
       "      <td>3.77</td>\n",
       "      <td>8.45</td>\n",
       "      <td>76.0</td>\n",
       "      <td>8</td>\n",
       "      <td>E</td>\n",
       "    </tr>\n",
       "    <tr>\n",
       "      <th>1</th>\n",
       "      <td>super mario bros.</td>\n",
       "      <td>NES</td>\n",
       "      <td>1985.0</td>\n",
       "      <td>Platform</td>\n",
       "      <td>29.08</td>\n",
       "      <td>3.58</td>\n",
       "      <td>6.81</td>\n",
       "      <td>0.77</td>\n",
       "      <td>NaN</td>\n",
       "      <td>NaN</td>\n",
       "      <td>NaN</td>\n",
       "    </tr>\n",
       "    <tr>\n",
       "      <th>2</th>\n",
       "      <td>mario kart wii</td>\n",
       "      <td>Wii</td>\n",
       "      <td>2008.0</td>\n",
       "      <td>Racing</td>\n",
       "      <td>15.68</td>\n",
       "      <td>12.76</td>\n",
       "      <td>3.79</td>\n",
       "      <td>3.29</td>\n",
       "      <td>82.0</td>\n",
       "      <td>8.3</td>\n",
       "      <td>E</td>\n",
       "    </tr>\n",
       "    <tr>\n",
       "      <th>3</th>\n",
       "      <td>wii sports resort</td>\n",
       "      <td>Wii</td>\n",
       "      <td>2009.0</td>\n",
       "      <td>Sports</td>\n",
       "      <td>15.61</td>\n",
       "      <td>10.93</td>\n",
       "      <td>3.28</td>\n",
       "      <td>2.95</td>\n",
       "      <td>80.0</td>\n",
       "      <td>8</td>\n",
       "      <td>E</td>\n",
       "    </tr>\n",
       "    <tr>\n",
       "      <th>4</th>\n",
       "      <td>pokemon red/pokemon blue</td>\n",
       "      <td>GB</td>\n",
       "      <td>1996.0</td>\n",
       "      <td>Role-Playing</td>\n",
       "      <td>11.27</td>\n",
       "      <td>8.89</td>\n",
       "      <td>10.22</td>\n",
       "      <td>1.00</td>\n",
       "      <td>NaN</td>\n",
       "      <td>NaN</td>\n",
       "      <td>NaN</td>\n",
       "    </tr>\n",
       "  </tbody>\n",
       "</table>\n",
       "</div>"
      ],
      "text/plain": [
       "                       name platform  year_of_release         genre  na_sales  \\\n",
       "0                wii sports      Wii           2006.0        Sports     41.36   \n",
       "1         super mario bros.      NES           1985.0      Platform     29.08   \n",
       "2            mario kart wii      Wii           2008.0        Racing     15.68   \n",
       "3         wii sports resort      Wii           2009.0        Sports     15.61   \n",
       "4  pokemon red/pokemon blue       GB           1996.0  Role-Playing     11.27   \n",
       "\n",
       "   eu_sales  jp_sales  other_sales  critic_score user_score rating  \n",
       "0     28.96      3.77         8.45          76.0          8      E  \n",
       "1      3.58      6.81         0.77           NaN        NaN    NaN  \n",
       "2     12.76      3.79         3.29          82.0        8.3      E  \n",
       "3     10.93      3.28         2.95          80.0          8      E  \n",
       "4      8.89     10.22         1.00           NaN        NaN    NaN  "
      ]
     },
     "execution_count": 49,
     "metadata": {},
     "output_type": "execute_result"
    }
   ],
   "source": [
    "# Remplazamos los valores nulos con np.nan\n",
    "\n",
    "games['critic_score'].fillna(np.nan,inplace=True)\n",
    "\n",
    "# Comprobamos el cambio\n",
    "\n",
    "games.head()"
   ]
  },
  {
   "cell_type": "markdown",
   "metadata": {},
   "source": [
    "\n",
    "#### Valores Atípicos\n",
    "\n",
    "Ahora analizaremos los valores atípicos de esta columna "
   ]
  },
  {
   "cell_type": "code",
   "execution_count": 50,
   "metadata": {},
   "outputs": [
    {
     "data": {
      "image/png": "[encoded data removed]",
      "text/plain": [
       "<Figure size 576x360 with 1 Axes>"
      ]
     },
     "metadata": {
      "needs_background": "light"
     },
     "output_type": "display_data"
    },
    {
     "name": "stdout",
     "output_type": "stream",
     "text": [
      "count    8137.000000\n",
      "mean       68.967679\n",
      "std        13.938165\n",
      "min        13.000000\n",
      "25%        60.000000\n",
      "50%        71.000000\n",
      "75%        79.000000\n",
      "max        98.000000\n",
      "Name: critic_score, dtype: float64\n",
      "\n",
      "El IQR de critic_score es 19.0\n",
      "\n",
      "La cantidad de valores iguales o menores a 41.0 es 339\n",
      "\n",
      "El porcentaje de valores iguales o menores a 41.0 es 2.03%\n",
      "\n",
      "EL limite superior es de nuestro boxplot es 98.0\n",
      "\n",
      "La cantidad de volores iguales o superiores a 98.0 es 4\n",
      "\n",
      "Elporcentaje de valores iguales o superiores a 98.0 es 0.02%\n"
     ]
    }
   ],
   "source": [
    "# Usamos nuestra funcion de outliers\n",
    "\n",
    "outliers(games,'critic_score','socre')"
   ]
  },
  {
   "cell_type": "markdown",
   "metadata": {},
   "source": [
    "**Conclusiones**\n",
    "\n",
    "Podemos observar en nuestro diagrama de caja y nuestros otros resultados que la mayoría de nuestros se encuentra entre 41 y 98. Podríamos decir que los valores atípicos serían los valores menores a 41 y aquellos mayores a 98. Sin embargo, esto no es cierto ya que sabemos que el rango de calificación es de 0 a 100. Entonces no tenemos valores que se salgan de ese rango. Nuestro diagrama se ve así ya que la mayoría de valores están entre los valores ya mencionados y solo un 2.03% son menores de nuestro límite inferior y el 0.02% son mayores a nuestro límite superior. No vamos a hacer ninguna modificación por el momento. \n",
    "\n",
    "### `user_score`\n",
    "\n",
    "De nuestro análisis general vimos que si tenemos valores ausentes en esta columna. Vamos a analizar la magnitud de valores ausentes y a tomar decisiones de cómo solucionar este problema. También analizaremos la distribución de esta columna para poder determinar si tenemos o no valores atípicos y si necesitamos hacer algo al respecto o no. \n",
    "\n",
    "#### Valores Ausentes"
   ]
  },
  {
   "cell_type": "code",
   "execution_count": 51,
   "metadata": {},
   "outputs": [
    {
     "data": {
      "text/html": [
       "<div>\n",
       "<style scoped>\n",
       "    .dataframe tbody tr th:only-of-type {\n",
       "        vertical-align: middle;\n",
       "    }\n",
       "\n",
       "    .dataframe tbody tr th {\n",
       "        vertical-align: top;\n",
       "    }\n",
       "\n",
       "    .dataframe thead th {\n",
       "        text-align: right;\n",
       "    }\n",
       "</style>\n",
       "<table border=\"1\" class=\"dataframe\">\n",
       "  <thead>\n",
       "    <tr style=\"text-align: right;\">\n",
       "      <th></th>\n",
       "      <th>name</th>\n",
       "      <th>platform</th>\n",
       "      <th>year_of_release</th>\n",
       "      <th>genre</th>\n",
       "      <th>na_sales</th>\n",
       "      <th>eu_sales</th>\n",
       "      <th>jp_sales</th>\n",
       "      <th>other_sales</th>\n",
       "      <th>critic_score</th>\n",
       "      <th>user_score</th>\n",
       "      <th>rating</th>\n",
       "    </tr>\n",
       "  </thead>\n",
       "  <tbody>\n",
       "    <tr>\n",
       "      <th>1</th>\n",
       "      <td>super mario bros.</td>\n",
       "      <td>NES</td>\n",
       "      <td>1985.0</td>\n",
       "      <td>Platform</td>\n",
       "      <td>29.08</td>\n",
       "      <td>3.58</td>\n",
       "      <td>6.81</td>\n",
       "      <td>0.77</td>\n",
       "      <td>NaN</td>\n",
       "      <td>NaN</td>\n",
       "      <td>NaN</td>\n",
       "    </tr>\n",
       "    <tr>\n",
       "      <th>4</th>\n",
       "      <td>pokemon red/pokemon blue</td>\n",
       "      <td>GB</td>\n",
       "      <td>1996.0</td>\n",
       "      <td>Role-Playing</td>\n",
       "      <td>11.27</td>\n",
       "      <td>8.89</td>\n",
       "      <td>10.22</td>\n",
       "      <td>1.00</td>\n",
       "      <td>NaN</td>\n",
       "      <td>NaN</td>\n",
       "      <td>NaN</td>\n",
       "    </tr>\n",
       "    <tr>\n",
       "      <th>5</th>\n",
       "      <td>tetris</td>\n",
       "      <td>GB</td>\n",
       "      <td>1989.0</td>\n",
       "      <td>Puzzle</td>\n",
       "      <td>23.20</td>\n",
       "      <td>2.26</td>\n",
       "      <td>4.22</td>\n",
       "      <td>0.58</td>\n",
       "      <td>NaN</td>\n",
       "      <td>NaN</td>\n",
       "      <td>NaN</td>\n",
       "    </tr>\n",
       "    <tr>\n",
       "      <th>9</th>\n",
       "      <td>duck hunt</td>\n",
       "      <td>NES</td>\n",
       "      <td>1984.0</td>\n",
       "      <td>Shooter</td>\n",
       "      <td>26.93</td>\n",
       "      <td>0.63</td>\n",
       "      <td>0.28</td>\n",
       "      <td>0.47</td>\n",
       "      <td>NaN</td>\n",
       "      <td>NaN</td>\n",
       "      <td>NaN</td>\n",
       "    </tr>\n",
       "    <tr>\n",
       "      <th>10</th>\n",
       "      <td>nintendogs</td>\n",
       "      <td>DS</td>\n",
       "      <td>2005.0</td>\n",
       "      <td>Simulation</td>\n",
       "      <td>9.05</td>\n",
       "      <td>10.95</td>\n",
       "      <td>1.93</td>\n",
       "      <td>2.74</td>\n",
       "      <td>NaN</td>\n",
       "      <td>NaN</td>\n",
       "      <td>NaN</td>\n",
       "    </tr>\n",
       "    <tr>\n",
       "      <th>...</th>\n",
       "      <td>...</td>\n",
       "      <td>...</td>\n",
       "      <td>...</td>\n",
       "      <td>...</td>\n",
       "      <td>...</td>\n",
       "      <td>...</td>\n",
       "      <td>...</td>\n",
       "      <td>...</td>\n",
       "      <td>...</td>\n",
       "      <td>...</td>\n",
       "      <td>...</td>\n",
       "    </tr>\n",
       "    <tr>\n",
       "      <th>16710</th>\n",
       "      <td>samurai warriors: sanada maru</td>\n",
       "      <td>PS3</td>\n",
       "      <td>2016.0</td>\n",
       "      <td>Action</td>\n",
       "      <td>0.00</td>\n",
       "      <td>0.00</td>\n",
       "      <td>0.01</td>\n",
       "      <td>0.00</td>\n",
       "      <td>NaN</td>\n",
       "      <td>NaN</td>\n",
       "      <td>NaN</td>\n",
       "    </tr>\n",
       "    <tr>\n",
       "      <th>16711</th>\n",
       "      <td>lma manager 2007</td>\n",
       "      <td>X360</td>\n",
       "      <td>2006.0</td>\n",
       "      <td>Sports</td>\n",
       "      <td>0.00</td>\n",
       "      <td>0.01</td>\n",
       "      <td>0.00</td>\n",
       "      <td>0.00</td>\n",
       "      <td>NaN</td>\n",
       "      <td>NaN</td>\n",
       "      <td>NaN</td>\n",
       "    </tr>\n",
       "    <tr>\n",
       "      <th>16712</th>\n",
       "      <td>haitaka no psychedelica</td>\n",
       "      <td>PSV</td>\n",
       "      <td>2016.0</td>\n",
       "      <td>Adventure</td>\n",
       "      <td>0.00</td>\n",
       "      <td>0.00</td>\n",
       "      <td>0.01</td>\n",
       "      <td>0.00</td>\n",
       "      <td>NaN</td>\n",
       "      <td>NaN</td>\n",
       "      <td>NaN</td>\n",
       "    </tr>\n",
       "    <tr>\n",
       "      <th>16713</th>\n",
       "      <td>spirits &amp; spells</td>\n",
       "      <td>GBA</td>\n",
       "      <td>2003.0</td>\n",
       "      <td>Platform</td>\n",
       "      <td>0.01</td>\n",
       "      <td>0.00</td>\n",
       "      <td>0.00</td>\n",
       "      <td>0.00</td>\n",
       "      <td>NaN</td>\n",
       "      <td>NaN</td>\n",
       "      <td>NaN</td>\n",
       "    </tr>\n",
       "    <tr>\n",
       "      <th>16714</th>\n",
       "      <td>winning post 8 2016</td>\n",
       "      <td>PSV</td>\n",
       "      <td>2016.0</td>\n",
       "      <td>Simulation</td>\n",
       "      <td>0.00</td>\n",
       "      <td>0.00</td>\n",
       "      <td>0.01</td>\n",
       "      <td>0.00</td>\n",
       "      <td>NaN</td>\n",
       "      <td>NaN</td>\n",
       "      <td>NaN</td>\n",
       "    </tr>\n",
       "  </tbody>\n",
       "</table>\n",
       "<p>6699 rows × 11 columns</p>\n",
       "</div>"
      ],
      "text/plain": [
       "                                name platform  year_of_release         genre  \\\n",
       "1                  super mario bros.      NES           1985.0      Platform   \n",
       "4           pokemon red/pokemon blue       GB           1996.0  Role-Playing   \n",
       "5                             tetris       GB           1989.0        Puzzle   \n",
       "9                          duck hunt      NES           1984.0       Shooter   \n",
       "10                        nintendogs       DS           2005.0    Simulation   \n",
       "...                              ...      ...              ...           ...   \n",
       "16710  samurai warriors: sanada maru      PS3           2016.0        Action   \n",
       "16711               lma manager 2007     X360           2006.0        Sports   \n",
       "16712        haitaka no psychedelica      PSV           2016.0     Adventure   \n",
       "16713               spirits & spells      GBA           2003.0      Platform   \n",
       "16714            winning post 8 2016      PSV           2016.0    Simulation   \n",
       "\n",
       "       na_sales  eu_sales  jp_sales  other_sales  critic_score user_score  \\\n",
       "1         29.08      3.58      6.81         0.77           NaN        NaN   \n",
       "4         11.27      8.89     10.22         1.00           NaN        NaN   \n",
       "5         23.20      2.26      4.22         0.58           NaN        NaN   \n",
       "9         26.93      0.63      0.28         0.47           NaN        NaN   \n",
       "10         9.05     10.95      1.93         2.74           NaN        NaN   \n",
       "...         ...       ...       ...          ...           ...        ...   \n",
       "16710      0.00      0.00      0.01         0.00           NaN        NaN   \n",
       "16711      0.00      0.01      0.00         0.00           NaN        NaN   \n",
       "16712      0.00      0.00      0.01         0.00           NaN        NaN   \n",
       "16713      0.01      0.00      0.00         0.00           NaN        NaN   \n",
       "16714      0.00      0.00      0.01         0.00           NaN        NaN   \n",
       "\n",
       "      rating  \n",
       "1        NaN  \n",
       "4        NaN  \n",
       "5        NaN  \n",
       "9        NaN  \n",
       "10       NaN  \n",
       "...      ...  \n",
       "16710    NaN  \n",
       "16711    NaN  \n",
       "16712    NaN  \n",
       "16713    NaN  \n",
       "16714    NaN  \n",
       "\n",
       "[6699 rows x 11 columns]"
      ]
     },
     "execution_count": 51,
     "metadata": {},
     "output_type": "execute_result"
    }
   ],
   "source": [
    "# Filtramos nuestros datos con los valores ausentes\n",
    "\n",
    "games[games['user_score'].isna()]"
   ]
  },
  {
   "cell_type": "code",
   "execution_count": 52,
   "metadata": {},
   "outputs": [
    {
     "data": {
      "text/plain": [
       "6699"
      ]
     },
     "execution_count": 52,
     "metadata": {},
     "output_type": "execute_result"
    }
   ],
   "source": [
    "# Cuantos valores ausentes tenemos?\n",
    "\n",
    "len(games[games['user_score'].isna()])"
   ]
  },
  {
   "cell_type": "code",
   "execution_count": 53,
   "metadata": {},
   "outputs": [
    {
     "data": {
      "text/plain": [
       "'40.08%'"
      ]
     },
     "execution_count": 53,
     "metadata": {},
     "output_type": "execute_result"
    }
   ],
   "source": [
    "# Porcentaje de valores ausentes\n",
    "\n",
    "'{:.2%}'.format(len(games[games['user_score'].isna()])/len(games))"
   ]
  },
  {
   "cell_type": "markdown",
   "metadata": {},
   "source": [
    "**Conclusiones**\n",
    "\n",
    "Tenemos un caso bastante similar a lo que sucedía en nuestra columna `critic_score`. Tenemos una gran cantidad de valores ausentes y no tenemos una manera exacta de determinar como se asignaron los valores a cada juego. \n",
    "\n",
    "Ya que tomar una decisión de como remplazar estos valores es igual de complicado que con `critic_score` vamos a dejar los valores nulos aquí también y a cambiarlos a nan. \n",
    "\n",
    "Sin embargo, antes de hacer esto, necesitamos decidir qué haremos con los valores “TBD” que tenemos en esta columna. Primero analizaremos cuántos de estos valores tenemos para poder decidir qué hacer con ellos. "
   ]
  },
  {
   "cell_type": "code",
   "execution_count": 54,
   "metadata": {},
   "outputs": [
    {
     "data": {
      "text/plain": [
       "2424"
      ]
     },
     "execution_count": 54,
     "metadata": {},
     "output_type": "execute_result"
    }
   ],
   "source": [
    "# Cuantos valores \"TBD\" tenemos?\n",
    "\n",
    "len(games[games['user_score'] == 'tbd'])"
   ]
  },
  {
   "cell_type": "code",
   "execution_count": 55,
   "metadata": {},
   "outputs": [
    {
     "data": {
      "text/plain": [
       "'14.50%'"
      ]
     },
     "execution_count": 55,
     "metadata": {},
     "output_type": "execute_result"
    }
   ],
   "source": [
    "# Porcentaje de valores \"TBD\"\n",
    "\n",
    "'{:.2%}'.format(len(games[games['user_score'] == 'tbd'])/len(games))"
   ]
  },
  {
   "cell_type": "markdown",
   "metadata": {},
   "source": [
    "El porcentaje de valores “TBEl porcentaje de valores “TBD” es alto. Vamos a tratar estos valores como valores nulos ya que básicamente significan lo mismo para nosotros. Vamos a remplazar todos estos valores por valores nulos y luego transformar la columna a float para poder hacer nuestro remplazo de valores ausentes. D” es alto. Vamos a tratar estos valores como valores nulos ya que básicamente significan lo mismo para nosotros. Vamos a remplazar todos estos valores por valores nulos y luego transformar la columna a float para poder hacer nuestro remplazo de valores ausentes. "
   ]
  },
  {
   "cell_type": "code",
   "execution_count": 56,
   "metadata": {},
   "outputs": [],
   "source": [
    "# Hacemos el remplazo de valores \"TBD\"\n",
    "\n",
    "games.loc[games['user_score'] == 'tbd','user_score'] = float('NaN')\n",
    "\n",
    "# Cambiamos el Dtype a float\n",
    "\n",
    "games['user_score'] = games['user_score'].astype('float')\n",
    "\n",
    "# Cambiamos los null a nan\n",
    "\n",
    "games['user_score'].fillna(np.nan,inplace=True)"
   ]
  },
  {
   "cell_type": "markdown",
   "metadata": {},
   "source": [
    "\n",
    "#### Valores Atípicos\n",
    "\n",
    "Ahora analizaremos los valores atípicos de esta columna. "
   ]
  },
  {
   "cell_type": "code",
   "execution_count": 57,
   "metadata": {},
   "outputs": [
    {
     "data": {
      "image/png": "[encoded data removed]",
      "text/plain": [
       "<Figure size 576x360 with 1 Axes>"
      ]
     },
     "metadata": {
      "needs_background": "light"
     },
     "output_type": "display_data"
    },
    {
     "name": "stdout",
     "output_type": "stream",
     "text": [
      "count    7590.000000\n",
      "mean        7.125046\n",
      "std         1.500006\n",
      "min         0.000000\n",
      "25%         6.400000\n",
      "50%         7.500000\n",
      "75%         8.200000\n",
      "max         9.700000\n",
      "Name: user_score, dtype: float64\n",
      "\n",
      "El IQR de user_score es 1.799999999999999\n",
      "\n",
      "La cantidad de valores iguales o menores a 4.600000000000001 es 575\n",
      "\n",
      "El porcentaje de valores iguales o menores a 4.600000000000001 es 3.44%\n",
      "\n",
      "EL limite superior es de nuestro boxplot es 9.999999999999998\n",
      "\n",
      "La cantidad de volores iguales o superiores a 9.999999999999998 es 0\n",
      "\n",
      "Elporcentaje de valores iguales o superiores a 9.999999999999998 es 0.00%\n"
     ]
    }
   ],
   "source": [
    "# Aplicamos nuestra funcion de outliers\n",
    "\n",
    "outliers(games,'user_score','score')"
   ]
  },
  {
   "cell_type": "markdown",
   "metadata": {},
   "source": [
    "**Conclusiones**\n",
    "\n",
    "Al ver los datos de nuestro “.describe” podemos observar que los valores de toda la columna se encuentran entre 4.6 y 9.99 lo cual está bien ya que ese es el rango de calificación de los usuarios. Con esto podemos decir que no tenemos valores atípicos. Sin embargo, podemos ver en nuestro grafico de caja que si tenemos valores fuera de los limites superiores e inferiores. Es un caso muy parecido a nuestro análisis de valores atípicos de la columna `critic_score`. Por lo tanto, no vamos a hacer modificaciones en esta columna tampoco. \n",
    "\n",
    "### `Rating`\n",
    "\n",
    "De nuestro análisis general vimos que en esta columna también tenemos valore ausentes. Vamos a analizar la cantidad de valores ausentes y a buscar una manera en la que podamos reemplazarlos. \n",
    "\n",
    "#### Valores Ausentes"
   ]
  },
  {
   "cell_type": "code",
   "execution_count": 58,
   "metadata": {},
   "outputs": [
    {
     "data": {
      "text/plain": [
       "6764"
      ]
     },
     "execution_count": 58,
     "metadata": {},
     "output_type": "execute_result"
    }
   ],
   "source": [
    "# Cantidad de valores ausentes \n",
    "\n",
    "len(games[games['rating'].isna()])"
   ]
  },
  {
   "cell_type": "code",
   "execution_count": 59,
   "metadata": {},
   "outputs": [
    {
     "data": {
      "text/plain": [
       "'40.47%'"
      ]
     },
     "execution_count": 59,
     "metadata": {},
     "output_type": "execute_result"
    }
   ],
   "source": [
    "# Porcentaje de valores ausentes\n",
    "\n",
    "'{:.2%}'.format(len(games[games['rating'].isna()])/len(games))"
   ]
  },
  {
   "cell_type": "markdown",
   "metadata": {},
   "source": [
    "Podemos ver que al igual que en `critic_score` y `user_score` tenemos una gran cantidad de valores ausentes. \n",
    "\n",
    "En este caso podríamos asignar valores según las calificaciones del mismo videojuego. Veamos si esto es posible. \n"
   ]
  },
  {
   "cell_type": "code",
   "execution_count": 60,
   "metadata": {},
   "outputs": [
    {
     "data": {
      "text/html": [
       "<div>\n",
       "<style scoped>\n",
       "    .dataframe tbody tr th:only-of-type {\n",
       "        vertical-align: middle;\n",
       "    }\n",
       "\n",
       "    .dataframe tbody tr th {\n",
       "        vertical-align: top;\n",
       "    }\n",
       "\n",
       "    .dataframe thead th {\n",
       "        text-align: right;\n",
       "    }\n",
       "</style>\n",
       "<table border=\"1\" class=\"dataframe\">\n",
       "  <thead>\n",
       "    <tr style=\"text-align: right;\">\n",
       "      <th></th>\n",
       "      <th>name</th>\n",
       "      <th>platform</th>\n",
       "      <th>year_of_release</th>\n",
       "      <th>genre</th>\n",
       "      <th>na_sales</th>\n",
       "      <th>eu_sales</th>\n",
       "      <th>jp_sales</th>\n",
       "      <th>other_sales</th>\n",
       "      <th>critic_score</th>\n",
       "      <th>user_score</th>\n",
       "      <th>rating</th>\n",
       "    </tr>\n",
       "  </thead>\n",
       "  <tbody>\n",
       "    <tr>\n",
       "      <th>1</th>\n",
       "      <td>super mario bros.</td>\n",
       "      <td>NES</td>\n",
       "      <td>1985.0</td>\n",
       "      <td>Platform</td>\n",
       "      <td>29.08</td>\n",
       "      <td>3.58</td>\n",
       "      <td>6.81</td>\n",
       "      <td>0.77</td>\n",
       "      <td>NaN</td>\n",
       "      <td>NaN</td>\n",
       "      <td>NaN</td>\n",
       "    </tr>\n",
       "    <tr>\n",
       "      <th>4</th>\n",
       "      <td>pokemon red/pokemon blue</td>\n",
       "      <td>GB</td>\n",
       "      <td>1996.0</td>\n",
       "      <td>Role-Playing</td>\n",
       "      <td>11.27</td>\n",
       "      <td>8.89</td>\n",
       "      <td>10.22</td>\n",
       "      <td>1.00</td>\n",
       "      <td>NaN</td>\n",
       "      <td>NaN</td>\n",
       "      <td>NaN</td>\n",
       "    </tr>\n",
       "    <tr>\n",
       "      <th>5</th>\n",
       "      <td>tetris</td>\n",
       "      <td>GB</td>\n",
       "      <td>1989.0</td>\n",
       "      <td>Puzzle</td>\n",
       "      <td>23.20</td>\n",
       "      <td>2.26</td>\n",
       "      <td>4.22</td>\n",
       "      <td>0.58</td>\n",
       "      <td>NaN</td>\n",
       "      <td>NaN</td>\n",
       "      <td>NaN</td>\n",
       "    </tr>\n",
       "    <tr>\n",
       "      <th>9</th>\n",
       "      <td>duck hunt</td>\n",
       "      <td>NES</td>\n",
       "      <td>1984.0</td>\n",
       "      <td>Shooter</td>\n",
       "      <td>26.93</td>\n",
       "      <td>0.63</td>\n",
       "      <td>0.28</td>\n",
       "      <td>0.47</td>\n",
       "      <td>NaN</td>\n",
       "      <td>NaN</td>\n",
       "      <td>NaN</td>\n",
       "    </tr>\n",
       "    <tr>\n",
       "      <th>10</th>\n",
       "      <td>nintendogs</td>\n",
       "      <td>DS</td>\n",
       "      <td>2005.0</td>\n",
       "      <td>Simulation</td>\n",
       "      <td>9.05</td>\n",
       "      <td>10.95</td>\n",
       "      <td>1.93</td>\n",
       "      <td>2.74</td>\n",
       "      <td>NaN</td>\n",
       "      <td>NaN</td>\n",
       "      <td>NaN</td>\n",
       "    </tr>\n",
       "    <tr>\n",
       "      <th>...</th>\n",
       "      <td>...</td>\n",
       "      <td>...</td>\n",
       "      <td>...</td>\n",
       "      <td>...</td>\n",
       "      <td>...</td>\n",
       "      <td>...</td>\n",
       "      <td>...</td>\n",
       "      <td>...</td>\n",
       "      <td>...</td>\n",
       "      <td>...</td>\n",
       "      <td>...</td>\n",
       "    </tr>\n",
       "    <tr>\n",
       "      <th>16710</th>\n",
       "      <td>samurai warriors: sanada maru</td>\n",
       "      <td>PS3</td>\n",
       "      <td>2016.0</td>\n",
       "      <td>Action</td>\n",
       "      <td>0.00</td>\n",
       "      <td>0.00</td>\n",
       "      <td>0.01</td>\n",
       "      <td>0.00</td>\n",
       "      <td>NaN</td>\n",
       "      <td>NaN</td>\n",
       "      <td>NaN</td>\n",
       "    </tr>\n",
       "    <tr>\n",
       "      <th>16711</th>\n",
       "      <td>lma manager 2007</td>\n",
       "      <td>X360</td>\n",
       "      <td>2006.0</td>\n",
       "      <td>Sports</td>\n",
       "      <td>0.00</td>\n",
       "      <td>0.01</td>\n",
       "      <td>0.00</td>\n",
       "      <td>0.00</td>\n",
       "      <td>NaN</td>\n",
       "      <td>NaN</td>\n",
       "      <td>NaN</td>\n",
       "    </tr>\n",
       "    <tr>\n",
       "      <th>16712</th>\n",
       "      <td>haitaka no psychedelica</td>\n",
       "      <td>PSV</td>\n",
       "      <td>2016.0</td>\n",
       "      <td>Adventure</td>\n",
       "      <td>0.00</td>\n",
       "      <td>0.00</td>\n",
       "      <td>0.01</td>\n",
       "      <td>0.00</td>\n",
       "      <td>NaN</td>\n",
       "      <td>NaN</td>\n",
       "      <td>NaN</td>\n",
       "    </tr>\n",
       "    <tr>\n",
       "      <th>16713</th>\n",
       "      <td>spirits &amp; spells</td>\n",
       "      <td>GBA</td>\n",
       "      <td>2003.0</td>\n",
       "      <td>Platform</td>\n",
       "      <td>0.01</td>\n",
       "      <td>0.00</td>\n",
       "      <td>0.00</td>\n",
       "      <td>0.00</td>\n",
       "      <td>NaN</td>\n",
       "      <td>NaN</td>\n",
       "      <td>NaN</td>\n",
       "    </tr>\n",
       "    <tr>\n",
       "      <th>16714</th>\n",
       "      <td>winning post 8 2016</td>\n",
       "      <td>PSV</td>\n",
       "      <td>2016.0</td>\n",
       "      <td>Simulation</td>\n",
       "      <td>0.00</td>\n",
       "      <td>0.00</td>\n",
       "      <td>0.01</td>\n",
       "      <td>0.00</td>\n",
       "      <td>NaN</td>\n",
       "      <td>NaN</td>\n",
       "      <td>NaN</td>\n",
       "    </tr>\n",
       "  </tbody>\n",
       "</table>\n",
       "<p>6764 rows × 11 columns</p>\n",
       "</div>"
      ],
      "text/plain": [
       "                                name platform  year_of_release         genre  \\\n",
       "1                  super mario bros.      NES           1985.0      Platform   \n",
       "4           pokemon red/pokemon blue       GB           1996.0  Role-Playing   \n",
       "5                             tetris       GB           1989.0        Puzzle   \n",
       "9                          duck hunt      NES           1984.0       Shooter   \n",
       "10                        nintendogs       DS           2005.0    Simulation   \n",
       "...                              ...      ...              ...           ...   \n",
       "16710  samurai warriors: sanada maru      PS3           2016.0        Action   \n",
       "16711               lma manager 2007     X360           2006.0        Sports   \n",
       "16712        haitaka no psychedelica      PSV           2016.0     Adventure   \n",
       "16713               spirits & spells      GBA           2003.0      Platform   \n",
       "16714            winning post 8 2016      PSV           2016.0    Simulation   \n",
       "\n",
       "       na_sales  eu_sales  jp_sales  other_sales  critic_score  user_score  \\\n",
       "1         29.08      3.58      6.81         0.77           NaN         NaN   \n",
       "4         11.27      8.89     10.22         1.00           NaN         NaN   \n",
       "5         23.20      2.26      4.22         0.58           NaN         NaN   \n",
       "9         26.93      0.63      0.28         0.47           NaN         NaN   \n",
       "10         9.05     10.95      1.93         2.74           NaN         NaN   \n",
       "...         ...       ...       ...          ...           ...         ...   \n",
       "16710      0.00      0.00      0.01         0.00           NaN         NaN   \n",
       "16711      0.00      0.01      0.00         0.00           NaN         NaN   \n",
       "16712      0.00      0.00      0.01         0.00           NaN         NaN   \n",
       "16713      0.01      0.00      0.00         0.00           NaN         NaN   \n",
       "16714      0.00      0.00      0.01         0.00           NaN         NaN   \n",
       "\n",
       "      rating  \n",
       "1        NaN  \n",
       "4        NaN  \n",
       "5        NaN  \n",
       "9        NaN  \n",
       "10       NaN  \n",
       "...      ...  \n",
       "16710    NaN  \n",
       "16711    NaN  \n",
       "16712    NaN  \n",
       "16713    NaN  \n",
       "16714    NaN  \n",
       "\n",
       "[6764 rows x 11 columns]"
      ]
     },
     "execution_count": 60,
     "metadata": {},
     "output_type": "execute_result"
    }
   ],
   "source": [
    "# Imprimimos una tabla con los valores ausentes de esta columna\n",
    "\n",
    "games[games['rating'].isna()]"
   ]
  },
  {
   "cell_type": "code",
   "execution_count": 61,
   "metadata": {},
   "outputs": [
    {
     "data": {
      "text/html": [
       "<div>\n",
       "<style scoped>\n",
       "    .dataframe tbody tr th:only-of-type {\n",
       "        vertical-align: middle;\n",
       "    }\n",
       "\n",
       "    .dataframe tbody tr th {\n",
       "        vertical-align: top;\n",
       "    }\n",
       "\n",
       "    .dataframe thead th {\n",
       "        text-align: right;\n",
       "    }\n",
       "</style>\n",
       "<table border=\"1\" class=\"dataframe\">\n",
       "  <thead>\n",
       "    <tr style=\"text-align: right;\">\n",
       "      <th></th>\n",
       "      <th>name</th>\n",
       "      <th>platform</th>\n",
       "      <th>year_of_release</th>\n",
       "      <th>genre</th>\n",
       "      <th>na_sales</th>\n",
       "      <th>eu_sales</th>\n",
       "      <th>jp_sales</th>\n",
       "      <th>other_sales</th>\n",
       "      <th>critic_score</th>\n",
       "      <th>user_score</th>\n",
       "      <th>rating</th>\n",
       "    </tr>\n",
       "  </thead>\n",
       "  <tbody>\n",
       "    <tr>\n",
       "      <th>14689</th>\n",
       "      <td>samurai warriors: sanada maru</td>\n",
       "      <td>PS4</td>\n",
       "      <td>2016.0</td>\n",
       "      <td>Action</td>\n",
       "      <td>0.0</td>\n",
       "      <td>0.0</td>\n",
       "      <td>0.03</td>\n",
       "      <td>0.0</td>\n",
       "      <td>NaN</td>\n",
       "      <td>NaN</td>\n",
       "      <td>NaN</td>\n",
       "    </tr>\n",
       "    <tr>\n",
       "      <th>16323</th>\n",
       "      <td>samurai warriors: sanada maru</td>\n",
       "      <td>PSV</td>\n",
       "      <td>2016.0</td>\n",
       "      <td>Action</td>\n",
       "      <td>0.0</td>\n",
       "      <td>0.0</td>\n",
       "      <td>0.01</td>\n",
       "      <td>0.0</td>\n",
       "      <td>NaN</td>\n",
       "      <td>NaN</td>\n",
       "      <td>NaN</td>\n",
       "    </tr>\n",
       "    <tr>\n",
       "      <th>16710</th>\n",
       "      <td>samurai warriors: sanada maru</td>\n",
       "      <td>PS3</td>\n",
       "      <td>2016.0</td>\n",
       "      <td>Action</td>\n",
       "      <td>0.0</td>\n",
       "      <td>0.0</td>\n",
       "      <td>0.01</td>\n",
       "      <td>0.0</td>\n",
       "      <td>NaN</td>\n",
       "      <td>NaN</td>\n",
       "      <td>NaN</td>\n",
       "    </tr>\n",
       "  </tbody>\n",
       "</table>\n",
       "</div>"
      ],
      "text/plain": [
       "                                name platform  year_of_release   genre  \\\n",
       "14689  samurai warriors: sanada maru      PS4           2016.0  Action   \n",
       "16323  samurai warriors: sanada maru      PSV           2016.0  Action   \n",
       "16710  samurai warriors: sanada maru      PS3           2016.0  Action   \n",
       "\n",
       "       na_sales  eu_sales  jp_sales  other_sales  critic_score  user_score  \\\n",
       "14689       0.0       0.0      0.03          0.0           NaN         NaN   \n",
       "16323       0.0       0.0      0.01          0.0           NaN         NaN   \n",
       "16710       0.0       0.0      0.01          0.0           NaN         NaN   \n",
       "\n",
       "      rating  \n",
       "14689    NaN  \n",
       "16323    NaN  \n",
       "16710    NaN  "
      ]
     },
     "execution_count": 61,
     "metadata": {},
     "output_type": "execute_result"
    }
   ],
   "source": [
    "# Tomamos un juego \n",
    "\n",
    "games[games['name'] == 'samurai warriors: sanada maru']"
   ]
  },
  {
   "cell_type": "code",
   "execution_count": 62,
   "metadata": {},
   "outputs": [
    {
     "data": {
      "text/html": [
       "<div>\n",
       "<style scoped>\n",
       "    .dataframe tbody tr th:only-of-type {\n",
       "        vertical-align: middle;\n",
       "    }\n",
       "\n",
       "    .dataframe tbody tr th {\n",
       "        vertical-align: top;\n",
       "    }\n",
       "\n",
       "    .dataframe thead th {\n",
       "        text-align: right;\n",
       "    }\n",
       "</style>\n",
       "<table border=\"1\" class=\"dataframe\">\n",
       "  <thead>\n",
       "    <tr style=\"text-align: right;\">\n",
       "      <th></th>\n",
       "      <th>name</th>\n",
       "      <th>platform</th>\n",
       "      <th>year_of_release</th>\n",
       "      <th>genre</th>\n",
       "      <th>na_sales</th>\n",
       "      <th>eu_sales</th>\n",
       "      <th>jp_sales</th>\n",
       "      <th>other_sales</th>\n",
       "      <th>critic_score</th>\n",
       "      <th>user_score</th>\n",
       "      <th>rating</th>\n",
       "    </tr>\n",
       "  </thead>\n",
       "  <tbody>\n",
       "    <tr>\n",
       "      <th>15599</th>\n",
       "      <td>winning post 8 2016</td>\n",
       "      <td>PS4</td>\n",
       "      <td>2016.0</td>\n",
       "      <td>Simulation</td>\n",
       "      <td>0.0</td>\n",
       "      <td>0.0</td>\n",
       "      <td>0.02</td>\n",
       "      <td>0.0</td>\n",
       "      <td>NaN</td>\n",
       "      <td>NaN</td>\n",
       "      <td>NaN</td>\n",
       "    </tr>\n",
       "    <tr>\n",
       "      <th>16714</th>\n",
       "      <td>winning post 8 2016</td>\n",
       "      <td>PSV</td>\n",
       "      <td>2016.0</td>\n",
       "      <td>Simulation</td>\n",
       "      <td>0.0</td>\n",
       "      <td>0.0</td>\n",
       "      <td>0.01</td>\n",
       "      <td>0.0</td>\n",
       "      <td>NaN</td>\n",
       "      <td>NaN</td>\n",
       "      <td>NaN</td>\n",
       "    </tr>\n",
       "  </tbody>\n",
       "</table>\n",
       "</div>"
      ],
      "text/plain": [
       "                      name platform  year_of_release       genre  na_sales  \\\n",
       "15599  winning post 8 2016      PS4           2016.0  Simulation       0.0   \n",
       "16714  winning post 8 2016      PSV           2016.0  Simulation       0.0   \n",
       "\n",
       "       eu_sales  jp_sales  other_sales  critic_score  user_score rating  \n",
       "15599       0.0      0.02          0.0           NaN         NaN    NaN  \n",
       "16714       0.0      0.01          0.0           NaN         NaN    NaN  "
      ]
     },
     "execution_count": 62,
     "metadata": {},
     "output_type": "execute_result"
    }
   ],
   "source": [
    "# Tomamos otro juego\n",
    "\n",
    "games[games['name'] == 'winning post 8 2016']"
   ]
  },
  {
   "cell_type": "markdown",
   "metadata": {},
   "source": [
    "**Conlusiones**\n",
    "\n",
    "Como podemos observar, tenemos el mismo escenario que en `critic_score` y `user_score`. Sin embargo, aunque no podamos asignar valores según su clasificación por nombre de videojuego, vamos a asignar clasificaciones por género.  "
   ]
  },
  {
   "cell_type": "code",
   "execution_count": 63,
   "metadata": {},
   "outputs": [
    {
     "data": {
      "text/html": [
       "<div>\n",
       "<style scoped>\n",
       "    .dataframe tbody tr th:only-of-type {\n",
       "        vertical-align: middle;\n",
       "    }\n",
       "\n",
       "    .dataframe tbody tr th {\n",
       "        vertical-align: top;\n",
       "    }\n",
       "\n",
       "    .dataframe thead th {\n",
       "        text-align: right;\n",
       "    }\n",
       "</style>\n",
       "<table border=\"1\" class=\"dataframe\">\n",
       "  <thead>\n",
       "    <tr style=\"text-align: right;\">\n",
       "      <th></th>\n",
       "      <th>rating</th>\n",
       "    </tr>\n",
       "    <tr>\n",
       "      <th>genre</th>\n",
       "      <th></th>\n",
       "    </tr>\n",
       "  </thead>\n",
       "  <tbody>\n",
       "    <tr>\n",
       "      <th>Action</th>\n",
       "      <td>T</td>\n",
       "    </tr>\n",
       "    <tr>\n",
       "      <th>Adventure</th>\n",
       "      <td>E</td>\n",
       "    </tr>\n",
       "    <tr>\n",
       "      <th>Fighting</th>\n",
       "      <td>T</td>\n",
       "    </tr>\n",
       "    <tr>\n",
       "      <th>Misc</th>\n",
       "      <td>E</td>\n",
       "    </tr>\n",
       "    <tr>\n",
       "      <th>Platform</th>\n",
       "      <td>E</td>\n",
       "    </tr>\n",
       "    <tr>\n",
       "      <th>Puzzle</th>\n",
       "      <td>E</td>\n",
       "    </tr>\n",
       "    <tr>\n",
       "      <th>Racing</th>\n",
       "      <td>E</td>\n",
       "    </tr>\n",
       "    <tr>\n",
       "      <th>Role-Playing</th>\n",
       "      <td>T</td>\n",
       "    </tr>\n",
       "    <tr>\n",
       "      <th>Shooter</th>\n",
       "      <td>M</td>\n",
       "    </tr>\n",
       "    <tr>\n",
       "      <th>Simulation</th>\n",
       "      <td>E</td>\n",
       "    </tr>\n",
       "    <tr>\n",
       "      <th>Sports</th>\n",
       "      <td>E</td>\n",
       "    </tr>\n",
       "    <tr>\n",
       "      <th>Strategy</th>\n",
       "      <td>T</td>\n",
       "    </tr>\n",
       "  </tbody>\n",
       "</table>\n",
       "</div>"
      ],
      "text/plain": [
       "             rating\n",
       "genre              \n",
       "Action            T\n",
       "Adventure         E\n",
       "Fighting          T\n",
       "Misc              E\n",
       "Platform          E\n",
       "Puzzle            E\n",
       "Racing            E\n",
       "Role-Playing      T\n",
       "Shooter           M\n",
       "Simulation        E\n",
       "Sports            E\n",
       "Strategy          T"
      ]
     },
     "execution_count": 63,
     "metadata": {},
     "output_type": "execute_result"
    }
   ],
   "source": [
    "# Creamos nuestra tabla para hacer el remplazo \n",
    "\n",
    "rating_replace = games.pivot_table(index='genre',values='rating',aggfunc=pd.Series.mode)\n",
    "rating_replace"
   ]
  },
  {
   "cell_type": "code",
   "execution_count": 64,
   "metadata": {},
   "outputs": [
    {
     "name": "stdout",
     "output_type": "stream",
     "text": [
      "M\n",
      "T\n",
      "E\n"
     ]
    }
   ],
   "source": [
    "# Comprobamos que nuestra función de remplazo funciona aquí\n",
    "\n",
    "print(replace(games.iloc[9],'rating','genre',rating_replace))\n",
    "print(replace(games.iloc[4],'rating','genre',rating_replace))\n",
    "print(replace(games.iloc[10],'rating','genre',rating_replace))\n",
    "\n"
   ]
  },
  {
   "cell_type": "code",
   "execution_count": 65,
   "metadata": {},
   "outputs": [
    {
     "name": "stdout",
     "output_type": "stream",
     "text": [
      "<class 'pandas.core.frame.DataFrame'>\n",
      "Int64Index: 16713 entries, 0 to 16714\n",
      "Data columns (total 11 columns):\n",
      " #   Column           Non-Null Count  Dtype  \n",
      "---  ------           --------------  -----  \n",
      " 0   name             16713 non-null  object \n",
      " 1   platform         16713 non-null  object \n",
      " 2   year_of_release  16567 non-null  float64\n",
      " 3   genre            16713 non-null  object \n",
      " 4   na_sales         16713 non-null  float64\n",
      " 5   eu_sales         16713 non-null  float64\n",
      " 6   jp_sales         16713 non-null  float64\n",
      " 7   other_sales      16713 non-null  float64\n",
      " 8   critic_score     8137 non-null   float64\n",
      " 9   user_score       7590 non-null   float64\n",
      " 10  rating           16713 non-null  object \n",
      "dtypes: float64(7), object(4)\n",
      "memory usage: 2.0+ MB\n"
     ]
    }
   ],
   "source": [
    "# Hacemos el remplazo\n",
    "\n",
    "games['rating'] = games.apply(replace,args=('rating','genre',rating_replace),axis=1)\n",
    "\n",
    "# Comprobamos\n",
    "\n",
    "games.info()"
   ]
  },
  {
   "cell_type": "markdown",
   "metadata": {},
   "source": [
    "Perfecto ya no tenemos valores ausentes en esta columna"
   ]
  },
  {
   "cell_type": "markdown",
   "metadata": {},
   "source": [
    "#### `total_sales`\n",
    "\n",
    "Para nuestro análisis vamos a necesitar una columna que tenga las ventas totales. Para esto vamos a sumar las ventas de cada región y obtener las ventas totales por cada juego. "
   ]
  },
  {
   "cell_type": "code",
   "execution_count": 66,
   "metadata": {},
   "outputs": [
    {
     "data": {
      "text/html": [
       "<div>\n",
       "<style scoped>\n",
       "    .dataframe tbody tr th:only-of-type {\n",
       "        vertical-align: middle;\n",
       "    }\n",
       "\n",
       "    .dataframe tbody tr th {\n",
       "        vertical-align: top;\n",
       "    }\n",
       "\n",
       "    .dataframe thead th {\n",
       "        text-align: right;\n",
       "    }\n",
       "</style>\n",
       "<table border=\"1\" class=\"dataframe\">\n",
       "  <thead>\n",
       "    <tr style=\"text-align: right;\">\n",
       "      <th></th>\n",
       "      <th>name</th>\n",
       "      <th>platform</th>\n",
       "      <th>year_of_release</th>\n",
       "      <th>genre</th>\n",
       "      <th>na_sales</th>\n",
       "      <th>eu_sales</th>\n",
       "      <th>jp_sales</th>\n",
       "      <th>other_sales</th>\n",
       "      <th>critic_score</th>\n",
       "      <th>user_score</th>\n",
       "      <th>rating</th>\n",
       "      <th>total_sales</th>\n",
       "    </tr>\n",
       "  </thead>\n",
       "  <tbody>\n",
       "    <tr>\n",
       "      <th>0</th>\n",
       "      <td>wii sports</td>\n",
       "      <td>Wii</td>\n",
       "      <td>2006.0</td>\n",
       "      <td>Sports</td>\n",
       "      <td>41.36</td>\n",
       "      <td>28.96</td>\n",
       "      <td>3.77</td>\n",
       "      <td>8.45</td>\n",
       "      <td>76.0</td>\n",
       "      <td>8.0</td>\n",
       "      <td>E</td>\n",
       "      <td>82.54</td>\n",
       "    </tr>\n",
       "    <tr>\n",
       "      <th>1</th>\n",
       "      <td>super mario bros.</td>\n",
       "      <td>NES</td>\n",
       "      <td>1985.0</td>\n",
       "      <td>Platform</td>\n",
       "      <td>29.08</td>\n",
       "      <td>3.58</td>\n",
       "      <td>6.81</td>\n",
       "      <td>0.77</td>\n",
       "      <td>NaN</td>\n",
       "      <td>NaN</td>\n",
       "      <td>E</td>\n",
       "      <td>40.24</td>\n",
       "    </tr>\n",
       "    <tr>\n",
       "      <th>2</th>\n",
       "      <td>mario kart wii</td>\n",
       "      <td>Wii</td>\n",
       "      <td>2008.0</td>\n",
       "      <td>Racing</td>\n",
       "      <td>15.68</td>\n",
       "      <td>12.76</td>\n",
       "      <td>3.79</td>\n",
       "      <td>3.29</td>\n",
       "      <td>82.0</td>\n",
       "      <td>8.3</td>\n",
       "      <td>E</td>\n",
       "      <td>35.52</td>\n",
       "    </tr>\n",
       "    <tr>\n",
       "      <th>3</th>\n",
       "      <td>wii sports resort</td>\n",
       "      <td>Wii</td>\n",
       "      <td>2009.0</td>\n",
       "      <td>Sports</td>\n",
       "      <td>15.61</td>\n",
       "      <td>10.93</td>\n",
       "      <td>3.28</td>\n",
       "      <td>2.95</td>\n",
       "      <td>80.0</td>\n",
       "      <td>8.0</td>\n",
       "      <td>E</td>\n",
       "      <td>32.77</td>\n",
       "    </tr>\n",
       "    <tr>\n",
       "      <th>4</th>\n",
       "      <td>pokemon red/pokemon blue</td>\n",
       "      <td>GB</td>\n",
       "      <td>1996.0</td>\n",
       "      <td>Role-Playing</td>\n",
       "      <td>11.27</td>\n",
       "      <td>8.89</td>\n",
       "      <td>10.22</td>\n",
       "      <td>1.00</td>\n",
       "      <td>NaN</td>\n",
       "      <td>NaN</td>\n",
       "      <td>T</td>\n",
       "      <td>31.38</td>\n",
       "    </tr>\n",
       "  </tbody>\n",
       "</table>\n",
       "</div>"
      ],
      "text/plain": [
       "                       name platform  year_of_release         genre  na_sales  \\\n",
       "0                wii sports      Wii           2006.0        Sports     41.36   \n",
       "1         super mario bros.      NES           1985.0      Platform     29.08   \n",
       "2            mario kart wii      Wii           2008.0        Racing     15.68   \n",
       "3         wii sports resort      Wii           2009.0        Sports     15.61   \n",
       "4  pokemon red/pokemon blue       GB           1996.0  Role-Playing     11.27   \n",
       "\n",
       "   eu_sales  jp_sales  other_sales  critic_score  user_score rating  \\\n",
       "0     28.96      3.77         8.45          76.0         8.0      E   \n",
       "1      3.58      6.81         0.77           NaN         NaN      E   \n",
       "2     12.76      3.79         3.29          82.0         8.3      E   \n",
       "3     10.93      3.28         2.95          80.0         8.0      E   \n",
       "4      8.89     10.22         1.00           NaN         NaN      T   \n",
       "\n",
       "   total_sales  \n",
       "0        82.54  \n",
       "1        40.24  \n",
       "2        35.52  \n",
       "3        32.77  \n",
       "4        31.38  "
      ]
     },
     "execution_count": 66,
     "metadata": {},
     "output_type": "execute_result"
    }
   ],
   "source": [
    "# Creamos la nueva columna\n",
    "games['total_sales'] = games['na_sales'] + games['eu_sales'] + games['jp_sales'] + games['other_sales']\n",
    "\n",
    "# Comprobamos\n",
    "\n",
    "games.head()"
   ]
  },
  {
   "cell_type": "markdown",
   "metadata": {},
   "source": [
    "## Analisis de datos\n",
    "\n",
    "Ahora que tenemos todas nuestras columnas listas vamos a realizar los siguientes análisis con nuestra tabla.  \n",
    "\n",
    "-\tCantidad de juegos lanzados por año\n",
    "-\tVentas por plataforma\n",
    "-\t¿Cuánto tardan generalmente las nuevas plataformas en aparecer y las antiguas en desaparecer?\n",
    "-\t¿Son significativas las diferencias en las ventas por plataforma?\n",
    "-\t¿Las reseñas de usuarios y profesionales afectan las ventas de una plataforma?\n",
    "-\t¿Cómo se diferencias las ventas de un mismo juego entre las diferentes plataformas?\n",
    "-\tAnalizar las ventas de juegos por genero\n",
    "-\tPlataformas principales por región\n",
    "-\tVariaciones en las cuotas de mercado de una región a otra\n",
    "-\tGéneros principales por región\n",
    "-\t¿Las clasificaciones de ESRB afectan a las ventas en regiones individuales?\n",
    "\n",
    "### Cantidad de juegos lanzados por año"
   ]
  },
  {
   "cell_type": "code",
   "execution_count": 67,
   "metadata": {},
   "outputs": [
    {
     "data": {
      "image/png": "[encoded data removed]",
      "text/plain": [
       "<Figure size 1080x360 with 1 Axes>"
      ]
     },
     "metadata": {
      "needs_background": "light"
     },
     "output_type": "display_data"
    }
   ],
   "source": [
    "# Creamos un gráfico que nos muestre la cantidad de juegos por año\n",
    "\n",
    "games.pivot_table(index='year_of_release',values='name',aggfunc='count').plot(  figsize= (15,5))\n",
    "plt.title('Amount of games launched per year')\n",
    "plt.ylabel('Amount of Games')\n",
    "plt.show()"
   ]
  },
  {
   "cell_type": "markdown",
   "metadata": {},
   "source": [
    "**Observaciones**\n",
    "\n",
    "De nuestro grafico podemos ver que la cantidad de juegos lanzados al mercado por año ha ido aumento desde 1980. Vemos que la cantidad de juegos lanzados alcanzo su punto más alto alrededor de los años 2007-2008 con un valor por encima de los 1400 juegos, para después tener una caída de juegos lanzados por año. \n",
    "\n",
    "**Ventas por año**"
   ]
  },
  {
   "cell_type": "code",
   "execution_count": 68,
   "metadata": {},
   "outputs": [
    {
     "data": {
      "image/png": "[encoded data removed]",
      "text/plain": [
       "<Figure size 1080x360 with 1 Axes>"
      ]
     },
     "metadata": {
      "needs_background": "light"
     },
     "output_type": "display_data"
    }
   ],
   "source": [
    "# Creamos un grafico para ver las ventas por año\n",
    "\n",
    "games.pivot_table(index='year_of_release',values='total_sales',aggfunc='sum').plot(figsize= (15,5))\n",
    "plt.title('Sales of games per year')\n",
    "plt.ylabel('sales in millions')\n",
    "plt.show()"
   ]
  },
  {
   "cell_type": "markdown",
   "metadata": {},
   "source": [
    "**Observaciones**\n",
    "\n",
    "Podemos ver que las gráficas de juegos lanzados por año y las ventas por año son bastante similares. Podríamos decir que a medida que aumentaron la cantidad de juegos lanzados también aumento la cantidad de ventas y que a medida que han disminuyo la producción de juegos también ha disminuido la cantidad de ventas recaudadas en juegos por año. \n",
    "\n",
    "### Ventas por plataforma"
   ]
  },
  {
   "cell_type": "code",
   "execution_count": 69,
   "metadata": {},
   "outputs": [
    {
     "data": {
      "image/png": "[encoded data removed]",
      "text/plain": [
       "<Figure size 1080x360 with 1 Axes>"
      ]
     },
     "metadata": {
      "needs_background": "light"
     },
     "output_type": "display_data"
    }
   ],
   "source": [
    "# Creamos una grafica que nos muestre la cantidad de juegos vendidos por plataforma\n",
    "\n",
    "games.pivot_table(index='platform',values='total_sales',aggfunc='sum').sort_values(\n",
    "    'total_sales',ascending=False).plot(kind='bar', figsize= (15,5))\n",
    "plt.title('Sales per platform')\n",
    "plt.ylabel('sales in millions')\n",
    "plt.show()"
   ]
  },
  {
   "cell_type": "markdown",
   "metadata": {},
   "source": [
    "**Observaciones**\n",
    "\n",
    "Podemos ver claramente que la consola PS2 de Sony es la líder en vetas de juegos hasta el momento con de más de 1200 millones de dólares en ventas. Después de este tenemos a X360 que es una consola de Microsoft con un poco menos de 1000 millones de dólares en ventas. Podríamos destacar que las 6 primeras plataformas del grafico son las líderes en ventas. Después podemos ver cómo va disminuyendo las ventas entre las demás consolas. \n",
    "\n",
    "Para nuestros siguientes análisis vamos a seleccionar solo las 4 plataformas con más ventas. En este caso serían la PS2, X360, PS3, y el Nintendo Wii. \n",
    "\n",
    "### ¿Cuánto tardan generalmente las nuevas plataformas en aparecer y las antiguas en desaparecer?"
   ]
  },
  {
   "cell_type": "code",
   "execution_count": 70,
   "metadata": {},
   "outputs": [
    {
     "data": {
      "image/png": "[encoded data removed]",
      "text/plain": [
       "<Figure size 1080x432 with 1 Axes>"
      ]
     },
     "metadata": {
      "needs_background": "light"
     },
     "output_type": "display_data"
    }
   ],
   "source": [
    "# Creamos una tabla con solo las 4 plataformas con mas ventas\n",
    "\n",
    "platforms_more_sales = games.loc[games['platform'].isin(['PS2','X360','PS3','Wii'])]\n",
    "\n",
    "# Creamos un gráfico de ventas por año por cada plataforma\n",
    "\n",
    "platforms_more_sales.pivot_table(\n",
    "    index='year_of_release',values='total_sales',aggfunc='sum',columns='platform').plot(\n",
    "    kind='bar',figsize=(15,6),width=0.8,stacked=True)\n",
    "plt.title('Sales per platform per year')\n",
    "plt.ylabel('sales in millions')\n",
    "plt.show()"
   ]
  },
  {
   "cell_type": "markdown",
   "metadata": {},
   "source": [
    "**Observaciones**\n",
    "\n",
    "En esta imagen tenemos las ventas por año de cada una de las 4 plataformas con más ventas. Si tomamos a una de ellas como la PS4 podemos ver que su primer año en ventas fue el año 200. Tuvo su mejor año en venta de videojuegos el 2004 con un poco más de 200 millones y su ultimo año en ventas, o al menos el ultimo que podemos ver en la imagen, sería el año 2011. Tomando a la PS2 como ejemplo podríamos decir que la vida de una consola es de aproximadamente unos 11 años. Si tomamos también al X360 vemos que tiene un periodo similar con el de la PS2. Empieza su recorrido en 2005 con su pico más alto en 2010 y su ultimo pico en 2016. Sin embargo, el Wii comienza su recorrido en 2016 y termina en 2015 y el PS3 comienza en 2006 y termina en 2016. \n",
    "\n",
    "### ¿Son significativas las diferencias en las ventas por plataforma?\n",
    "\n",
    "Para responder esta pregunta, primero vamos a quedarnos solo con los ultimos 5 años. Si queremos predecir el comportamiento del mercado de juegos, debemos analizar los últimos años. "
   ]
  },
  {
   "cell_type": "code",
   "execution_count": 71,
   "metadata": {},
   "outputs": [
    {
     "data": {
      "image/png": "[encoded data removed]",
      "text/plain": [
       "<Figure size 720x360 with 1 Axes>"
      ]
     },
     "metadata": {
      "needs_background": "light"
     },
     "output_type": "display_data"
    }
   ],
   "source": [
    "# Creamos una tabla con los años iguales o superiores a 2000\n",
    "\n",
    "games_final = games.query('year_of_release >= 2012')\n",
    "\n",
    "# Creamos un grafico de ventas por plataforma con nuestro nueva tabla \n",
    "\n",
    "games_final.pivot_table(index='platform',values='total_sales',aggfunc='sum').sort_values(\n",
    "    'total_sales',ascending=False).plot(kind='bar', figsize= (10,5))\n",
    "plt.title('Sales per platform')\n",
    "plt.ylabel('sales in millions')\n",
    "plt.show()"
   ]
  },
  {
   "cell_type": "markdown",
   "metadata": {},
   "source": [
    "**Observaciones**\n",
    "\n",
    "Podemos ver que muchas consolas ya no están en esta nueva tabla. Ya que todas alas que no están son las más antiguas y que ya no están generando ganancias. "
   ]
  },
  {
   "cell_type": "code",
   "execution_count": 72,
   "metadata": {},
   "outputs": [
    {
     "data": {
      "text/plain": [
       "(0.0, 3.0)"
      ]
     },
     "execution_count": 72,
     "metadata": {},
     "output_type": "execute_result"
    },
    {
     "data": {
      "image/png": "[encoded data removed]",
      "text/plain": [
       "<Figure size 576x360 with 1 Axes>"
      ]
     },
     "metadata": {
      "needs_background": "light"
     },
     "output_type": "display_data"
    },
    {
     "data": {
      "image/png": "[encoded data removed]",
      "text/plain": [
       "<Figure size 576x360 with 1 Axes>"
      ]
     },
     "metadata": {
      "needs_background": "light"
     },
     "output_type": "display_data"
    }
   ],
   "source": [
    "# Creamos diagramas de cajas de las plataformas con más ventas\n",
    "\n",
    "games_final[games_final['platform'].isin(['PS4','X360','PS3','3DS','XOne'])].boxplot(\n",
    "    column='total_sales',by='platform',figsize=(8,5))\n",
    "\n",
    "games_final[games_final['platform'].isin(['PS4','X360','PS3','3DS','XOne'])].boxplot(\n",
    "    column='total_sales',by='platform',figsize=(8,5))\n",
    "plt.ylim(0,3)"
   ]
  },
  {
   "cell_type": "markdown",
   "metadata": {},
   "source": [
    "**Observaciones**\n",
    "\n",
    "Si nos fijamos solo en las cajas de cada plataforma, podemos ver que la mayoría de las plataformas tienen la mayor cantidad de sus ventas entre 0 y 1 millón de dólares. También podemos ver que las medianas no cambian tanto, pero si tiene diferencias. Vemos que la media ms alto la tiene la X360 y que la PS3, PS2, y XOne tiene medias similres. Así mismo los limites superiores de cada diagrama varían y también tenemos a PS4 y X360 con valores más elevados que los demás.\n",
    "\n",
    "SI vemos el primer gráfico, vemos que el PS3 ha llegado a vender hasta 20 millones en juegos y que este es el valor más alto entre todos. \n",
    "\n",
    "### ¿Las reseñas de usuarios y profesionales afectan las ventas de una plataforma?\n"
   ]
  },
  {
   "cell_type": "code",
   "execution_count": 73,
   "metadata": {},
   "outputs": [
    {
     "data": {
      "image/png": "[encoded data removed]",
      "text/plain": [
       "<Figure size 432x288 with 1 Axes>"
      ]
     },
     "metadata": {
      "needs_background": "light"
     },
     "output_type": "display_data"
    },
    {
     "data": {
      "text/html": [
       "<div>\n",
       "<style scoped>\n",
       "    .dataframe tbody tr th:only-of-type {\n",
       "        vertical-align: middle;\n",
       "    }\n",
       "\n",
       "    .dataframe tbody tr th {\n",
       "        vertical-align: top;\n",
       "    }\n",
       "\n",
       "    .dataframe thead th {\n",
       "        text-align: right;\n",
       "    }\n",
       "</style>\n",
       "<table border=\"1\" class=\"dataframe\">\n",
       "  <thead>\n",
       "    <tr style=\"text-align: right;\">\n",
       "      <th></th>\n",
       "      <th>critic_score</th>\n",
       "      <th>total_sales</th>\n",
       "    </tr>\n",
       "  </thead>\n",
       "  <tbody>\n",
       "    <tr>\n",
       "      <th>critic_score</th>\n",
       "      <td>1.000000</td>\n",
       "      <td>0.406568</td>\n",
       "    </tr>\n",
       "    <tr>\n",
       "      <th>total_sales</th>\n",
       "      <td>0.406568</td>\n",
       "      <td>1.000000</td>\n",
       "    </tr>\n",
       "  </tbody>\n",
       "</table>\n",
       "</div>"
      ],
      "text/plain": [
       "              critic_score  total_sales\n",
       "critic_score      1.000000     0.406568\n",
       "total_sales       0.406568     1.000000"
      ]
     },
     "execution_count": 73,
     "metadata": {},
     "output_type": "execute_result"
    }
   ],
   "source": [
    "# Creamos un diagrama y matriz de correlación para critic_score y total_sales\n",
    "\n",
    "score_sales = games_final.query('platform == \"PS4\"')\n",
    "plt.scatter(score_sales['critic_score'],score_sales['total_sales'])\n",
    "plt.title('Correlacion beteween critic_score and total_sales')\n",
    "plt.show()\n",
    "score_sales[['critic_score','total_sales']].corr()"
   ]
  },
  {
   "cell_type": "code",
   "execution_count": 74,
   "metadata": {},
   "outputs": [
    {
     "data": {
      "image/png": "[encoded data removed]",
      "text/plain": [
       "<Figure size 432x288 with 1 Axes>"
      ]
     },
     "metadata": {
      "needs_background": "light"
     },
     "output_type": "display_data"
    },
    {
     "data": {
      "text/html": [
       "<div>\n",
       "<style scoped>\n",
       "    .dataframe tbody tr th:only-of-type {\n",
       "        vertical-align: middle;\n",
       "    }\n",
       "\n",
       "    .dataframe tbody tr th {\n",
       "        vertical-align: top;\n",
       "    }\n",
       "\n",
       "    .dataframe thead th {\n",
       "        text-align: right;\n",
       "    }\n",
       "</style>\n",
       "<table border=\"1\" class=\"dataframe\">\n",
       "  <thead>\n",
       "    <tr style=\"text-align: right;\">\n",
       "      <th></th>\n",
       "      <th>user_score</th>\n",
       "      <th>total_sales</th>\n",
       "    </tr>\n",
       "  </thead>\n",
       "  <tbody>\n",
       "    <tr>\n",
       "      <th>user_score</th>\n",
       "      <td>1.000000</td>\n",
       "      <td>-0.031957</td>\n",
       "    </tr>\n",
       "    <tr>\n",
       "      <th>total_sales</th>\n",
       "      <td>-0.031957</td>\n",
       "      <td>1.000000</td>\n",
       "    </tr>\n",
       "  </tbody>\n",
       "</table>\n",
       "</div>"
      ],
      "text/plain": [
       "             user_score  total_sales\n",
       "user_score     1.000000    -0.031957\n",
       "total_sales   -0.031957     1.000000"
      ]
     },
     "execution_count": 74,
     "metadata": {},
     "output_type": "execute_result"
    }
   ],
   "source": [
    "# Creamos un diagrama y matriz de correlación para user_score y total_sales\n",
    "\n",
    "plt.scatter(score_sales['user_score'],score_sales['total_sales'])\n",
    "plt.title('Correlacion beteween user_score and total_sales')\n",
    "plt.show()\n",
    "score_sales[['user_score','total_sales']].corr()"
   ]
  },
  {
   "cell_type": "markdown",
   "metadata": {},
   "source": [
    "**Observaciones**\n",
    "\n",
    "Podemos ver que las clasificaciones de los críticos tienen una relación positiva con las ventas de videojuegos. Podemos decir que en cierto modo las criticas si ayudan en la venta de los juegos. Mientras más positivas las críticas, más elevadas serán las ventas de ese juego. Sin embargo, la correlación de las calificaciones de los usuarios es muy débil."
   ]
  },
  {
   "cell_type": "markdown",
   "metadata": {},
   "source": [
    "### ¿Cómo se diferencias las ventas de un mismo juego entre las diferentes plataformas?"
   ]
  },
  {
   "cell_type": "code",
   "execution_count": 75,
   "metadata": {},
   "outputs": [
    {
     "data": {
      "text/html": [
       "<div>\n",
       "<style scoped>\n",
       "    .dataframe tbody tr th:only-of-type {\n",
       "        vertical-align: middle;\n",
       "    }\n",
       "\n",
       "    .dataframe tbody tr th {\n",
       "        vertical-align: top;\n",
       "    }\n",
       "\n",
       "    .dataframe thead th {\n",
       "        text-align: right;\n",
       "    }\n",
       "</style>\n",
       "<table border=\"1\" class=\"dataframe\">\n",
       "  <thead>\n",
       "    <tr style=\"text-align: right;\">\n",
       "      <th></th>\n",
       "      <th>name</th>\n",
       "      <th>platform</th>\n",
       "      <th>total_sales</th>\n",
       "    </tr>\n",
       "  </thead>\n",
       "  <tbody>\n",
       "    <tr>\n",
       "      <th>0</th>\n",
       "      <td>lego marvel super heroes</td>\n",
       "      <td>9</td>\n",
       "      <td>9</td>\n",
       "    </tr>\n",
       "    <tr>\n",
       "      <th>1</th>\n",
       "      <td>fifa 14</td>\n",
       "      <td>9</td>\n",
       "      <td>9</td>\n",
       "    </tr>\n",
       "    <tr>\n",
       "      <th>2</th>\n",
       "      <td>lego the hobbit</td>\n",
       "      <td>8</td>\n",
       "      <td>8</td>\n",
       "    </tr>\n",
       "    <tr>\n",
       "      <th>3</th>\n",
       "      <td>fifa soccer 13</td>\n",
       "      <td>8</td>\n",
       "      <td>8</td>\n",
       "    </tr>\n",
       "    <tr>\n",
       "      <th>4</th>\n",
       "      <td>fifa 15</td>\n",
       "      <td>8</td>\n",
       "      <td>8</td>\n",
       "    </tr>\n",
       "  </tbody>\n",
       "</table>\n",
       "</div>"
      ],
      "text/plain": [
       "                       name  platform  total_sales\n",
       "0  lego marvel super heroes         9            9\n",
       "1                   fifa 14         9            9\n",
       "2           lego the hobbit         8            8\n",
       "3            fifa soccer 13         8            8\n",
       "4                   fifa 15         8            8"
      ]
     },
     "execution_count": 75,
     "metadata": {},
     "output_type": "execute_result"
    }
   ],
   "source": [
    "# Creamos una tabla que nos muestre juegos que se vendan en distintas plataformas. \n",
    "\n",
    "games_final.groupby('name')[['platform','total_sales']].nunique().sort_values(\n",
    "    'total_sales',ascending=False).reset_index().query('platform > 3').head(5)"
   ]
  },
  {
   "cell_type": "code",
   "execution_count": 76,
   "metadata": {},
   "outputs": [
    {
     "data": {
      "image/png": "[encoded data removed]",
      "text/plain": [
       "<Figure size 1080x360 with 1 Axes>"
      ]
     },
     "metadata": {
      "needs_background": "light"
     },
     "output_type": "display_data"
    }
   ],
   "source": [
    "# Creamos una gráfica que muestra las ventas de algunos juegos en sus diferentes plataformas.\n",
    "\n",
    "games_final.query(\"name == 'lego marvel super heroes' or name == 'fifa 14' or name == 'lego the hobbit'\").pivot_table(\n",
    "    index='platform',values='total_sales',aggfunc='sum',columns='name').plot(kind='bar',width=0.8,figsize=(15,5),stacked=True)\n",
    "plt.title('Difference in sales per platform per game')\n",
    "plt.ylabel('sales in millions')\n",
    "plt.show()"
   ]
  },
  {
   "cell_type": "markdown",
   "metadata": {},
   "source": [
    "**Observaciones**\n",
    "\n",
    "Podemos ver que cada juego tiene su consola donde genera más ingresos. El fifa 14 por ejemplo tuvo más ventas en la PS3 que en las demás plataformas. Y vemos que los otros dos juegos que seleccionamos tiene más ventas en la PS3 tambien. También podemos notar que la mayor venta de cada juego se encuentra en las consolas de Sony y las de Microsoft. Esto podría ser porque son las consolas más compradas en el mercado. \n",
    "\n",
    "### Analizar las ventas de juegos por genero"
   ]
  },
  {
   "cell_type": "code",
   "execution_count": 77,
   "metadata": {},
   "outputs": [
    {
     "data": {
      "image/png": "[encoded data removed]",
      "text/plain": [
       "<Figure size 576x360 with 1 Axes>"
      ]
     },
     "metadata": {
      "needs_background": "light"
     },
     "output_type": "display_data"
    }
   ],
   "source": [
    "# Creamos una gráfica con las ventas totales por género. \n",
    "\n",
    "games_final.pivot_table(index='genre',values='total_sales',aggfunc='sum').sort_values(\n",
    "    'total_sales').plot(kind='bar',figsize=(8,5))\n",
    "plt.title('Sales per genre')\n",
    "plt.ylabel('sales in millions')\n",
    "plt.show()"
   ]
  },
  {
   "cell_type": "code",
   "execution_count": 78,
   "metadata": {},
   "outputs": [
    {
     "data": {
      "image/png": "[encoded data removed]",
      "text/plain": [
       "<Figure size 1080x360 with 1 Axes>"
      ]
     },
     "metadata": {
      "needs_background": "light"
     },
     "output_type": "display_data"
    }
   ],
   "source": [
    "# Tomamos los géneros con más ventas y hacemos un gráfico por año\n",
    "\n",
    "genre_more_sales = games_final.query('genre == \"Action\" or genre == \"Sports\" or genre == \"Shooter\" or genre == \"Role-Playing\"')\n",
    "\n",
    "genre_more_sales.pivot_table(index='year_of_release',values='total_sales',columns='genre',aggfunc='sum').plot(\n",
    "    kind='bar',figsize=(15,5))\n",
    "plt.title('Sales per genre per year')\n",
    "plt.ylabel('sales in millions')\n",
    "plt.show()"
   ]
  },
  {
   "cell_type": "markdown",
   "metadata": {},
   "source": [
    "**Observaciones**\n",
    "\n",
    "Podemos ver claramente que en términos generales el género que más ha recaudado en los últimos 5 años ha sido los videojuegos de acción. Siendo los de deportes, disparos, y role-play los siguientes en la lista. \n",
    "\n",
    "Toamos estos cuatro géneros y creamos un gráfico para ver sus ventas por año. Efectivamente vemos que en la mayoría de los años los juegos de acción fueron los líderes en ventas. También vemos que el ultimo año, el año 2016, los juegos de disparos fueron los que recaudaron más. Podríamos decir que los juegos de acción siempre han sido los más populares y más venidos en los últimos 5 años. \n",
    "\n",
    "### Plataformas principales por región\n"
   ]
  },
  {
   "cell_type": "code",
   "execution_count": 79,
   "metadata": {},
   "outputs": [
    {
     "data": {
      "image/png": "[encoded data removed]",
      "text/plain": [
       "<Figure size 432x288 with 1 Axes>"
      ]
     },
     "metadata": {
      "needs_background": "light"
     },
     "output_type": "display_data"
    },
    {
     "data": {
      "image/png": "[encoded data removed]",
      "text/plain": [
       "<Figure size 432x288 with 1 Axes>"
      ]
     },
     "metadata": {
      "needs_background": "light"
     },
     "output_type": "display_data"
    },
    {
     "data": {
      "image/png": "[encoded data removed]",
      "text/plain": [
       "<Figure size 432x288 with 1 Axes>"
      ]
     },
     "metadata": {
      "needs_background": "light"
     },
     "output_type": "display_data"
    }
   ],
   "source": [
    "# Creamos gráficos para cada región y sus plataformas principales. \n",
    "\n",
    "regions = ['na_sales','eu_sales','jp_sales']\n",
    "\n",
    "for region in regions:\n",
    "    games_final.pivot_table(index='platform',values=region,aggfunc='sum').sort_values(\n",
    "        region,ascending=False).head(5).plot(kind='bar')\n",
    "\n",
    "    plt.title(f'Most import platforms in {region}')\n",
    "    plt.ylabel('sales in millions')"
   ]
  },
  {
   "cell_type": "markdown",
   "metadata": {},
   "source": [
    "**Observaciones**\n",
    "\n",
    "Podemos ver que tanto en Estados Unidos como en Europa tenemos las mismas plataformas como más importantes, aunque tenemos las plataformas en un orden de importancia diferente. La plataforma principal en Estados Unidos es el X360 y en Europa es la PS4. Sin embargo, en Japón vemos que las plataformas de Nintendo son más importantes. Podemos ver que el X360 no está y que el Nintendo 3DS es la plataforma principal. \n",
    "\n",
    "Algo importante a destacar es la presencia de las consolas de Sony en cada región ocupando siempre el primer o segundo puesto con su PS4 o PS3. \n",
    "\n",
    "### Variaciones en las cuotas de mercado de una región a otra"
   ]
  },
  {
   "cell_type": "code",
   "execution_count": 80,
   "metadata": {},
   "outputs": [
    {
     "name": "stdout",
     "output_type": "stream",
     "text": [
      "Las ventas totales en na_sales son 593.3\n",
      "El porcentaje de ventas en na_sales con respecto a las ventas globales es de 40.86%\n",
      "\n",
      "Las ventas totales en eu_sales son 509.18\n",
      "El porcentaje de ventas en eu_sales con respecto a las ventas globales es de 35.07%\n",
      "\n",
      "Las ventas totales en jp_sales son 192.82000000000002\n",
      "El porcentaje de ventas en jp_sales con respecto a las ventas globales es de 13.28%\n",
      "\n"
     ]
    },
    {
     "data": {
      "image/png": "[encoded data removed]",
      "text/plain": [
       "<Figure size 720x576 with 1 Axes>"
      ]
     },
     "metadata": {},
     "output_type": "display_data"
    }
   ],
   "source": [
    "# Creamos una gráfica que nos muestre la variación de cuota del mercado de región a región. \n",
    "\n",
    "total_sales_region = []\n",
    "percetages_region = []\n",
    "\n",
    "for region in regions:\n",
    "    total_sales = games_final[region].sum()\n",
    "    percentages = '{:.2%}'.format(games_final[region].sum()/ games_final['total_sales'].sum())\n",
    "\n",
    "    total_sales_region.append(total_sales)\n",
    "    percetages_region.append(percentages)\n",
    "\n",
    "    print(f'Las ventas totales en {region} son {total_sales}')\n",
    "    print(f'El porcentaje de ventas en {region} con respecto a las ventas globales es de {percentages}')\n",
    "    print()\n",
    "\n",
    "labels = [f'{region}: {sales:.2f}M ({percentage})' for region, sales, percentage in zip(regions, total_sales_region, percetages_region)]\n",
    "fig, pie_chart = plt.subplots(figsize=(10, 8))\n",
    "pie_chart.pie(total_sales_region,labels=labels)\n",
    "pie_chart.set_title('Sales by Region')\n",
    "plt.show()"
   ]
  },
  {
   "cell_type": "markdown",
   "metadata": {},
   "source": [
    "**Observaciones**\n",
    "\n",
    "En este grafico podemos observar que Norte América es el líder en vetas de videojuegos con un 40.86% del total del mercado, seguido por Europa con un 35.07%, y al último tenemos a Japón con un 13.28%. El otro 10.79% se divide en las demás regiones. \n",
    "\n",
    "### Géneros principales por región"
   ]
  },
  {
   "cell_type": "code",
   "execution_count": 81,
   "metadata": {},
   "outputs": [
    {
     "data": {
      "image/png": "[encoded data removed]",
      "text/plain": [
       "<Figure size 432x288 with 1 Axes>"
      ]
     },
     "metadata": {
      "needs_background": "light"
     },
     "output_type": "display_data"
    },
    {
     "data": {
      "image/png": "[encoded data removed]",
      "text/plain": [
       "<Figure size 432x288 with 1 Axes>"
      ]
     },
     "metadata": {
      "needs_background": "light"
     },
     "output_type": "display_data"
    },
    {
     "data": {
      "image/png": "[encoded data removed]",
      "text/plain": [
       "<Figure size 432x288 with 1 Axes>"
      ]
     },
     "metadata": {
      "needs_background": "light"
     },
     "output_type": "display_data"
    }
   ],
   "source": [
    "# Creamos gráficos de géneros por región\n",
    "\n",
    "regions = ['na_sales','eu_sales','jp_sales']\n",
    "\n",
    "for region in regions:\n",
    "    games_final.pivot_table(index='genre',values=region,aggfunc='sum').sort_values(\n",
    "        region,ascending=False).head(5).plot(kind='bar')\n",
    "\n",
    "    plt.title(f'Most import genres in {region}')\n",
    "    plt.ylabel('sales in millions')"
   ]
  },
  {
   "cell_type": "markdown",
   "metadata": {},
   "source": [
    "**Observaciones**\n",
    "\n",
    "Podemos ver que los gustos de acuerdo a genero de juegos es bastante similar entre Norte América y Europa. Tiene los mimos géneros y en el mismo orden excepto por uno. Ambos tienen los géneros de acción, disparos, deportes, y role-play; siendo el de acción el número uno. Sin embargo, Japón tiene gustos un poco diferentes. EL género más jugado es el role-play seguido por acción y misc. Algo a resaltar es que en las tres regiones los juegos más jugados son los de acción y deportes. "
   ]
  },
  {
   "cell_type": "markdown",
   "metadata": {},
   "source": [
    "### ¿Las clasificaciones de ESRB afectan a las ventas en regiones individuales?"
   ]
  },
  {
   "cell_type": "code",
   "execution_count": 82,
   "metadata": {},
   "outputs": [
    {
     "data": {
      "image/png": "[encoded data removed]",
      "text/plain": [
       "<Figure size 720x360 with 1 Axes>"
      ]
     },
     "metadata": {
      "needs_background": "light"
     },
     "output_type": "display_data"
    }
   ],
   "source": [
    "# Creamos un gráfico con la relación de precio y clasificación esrb\n",
    "\n",
    "data = games_final.pivot_table(index='rating', values=regions, aggfunc='sum').sort_values(regions, ascending=False)\n",
    "\n",
    "data.plot(kind='bar',figsize=(10,5))\n",
    "\n",
    "plt.title('Sales per rating')\n",
    "plt.ylabel('Sales in millions')\n",
    "\n",
    "plt.show()"
   ]
  },
  {
   "cell_type": "markdown",
   "metadata": {},
   "source": [
    "**Observaciones**\n",
    "\n",
    "En nuestro grafico podemos observar que ciertas clasificaciones si recaudan más que otras. Por ejemplo, la clasificación M es la que más genera en Norte America y Europa. Para Europa y Norte América siguen la E, T, y E10+. Y para Japón la que mas genera es la clasificacion T, seguidas por la E, M, y la E+10, en ese orden."
   ]
  },
  {
   "cell_type": "markdown",
   "metadata": {},
   "source": [
    "## Prueba de hipótesis\n",
    "\n",
    "En esta sección vamos a hacer la prueba de las siguientes hipótesis:\n",
    "\n",
    "-\tLas calificaciones promedio de los usuarios para las plataformas Xbox One y PC son las mismas.\n",
    "-\tLas calificaciones promedio de los usuarios para los géneros de Acción y Deportes son diferentes.\n",
    "\n",
    "### Primera hipótesis\n",
    "\n",
    "$H_O$ = Las calificaciones promedio de los usuarios para las plataformas Xbox One y PC son las iguales\n",
    "\n",
    "$H_a$ = Las calificaciones promedio de los usuarios para las plataformas Xbox One y PC son las diferentes\n",
    "\n",
    " &#945; = 0.05"
   ]
  },
  {
   "cell_type": "code",
   "execution_count": 83,
   "metadata": {},
   "outputs": [
    {
     "name": "stdout",
     "output_type": "stream",
     "text": [
      "p value:0.0000\n",
      "Reject null hypothesis >> The data is not normally distributed\n"
     ]
    },
    {
     "data": {
      "image/png": "[encoded data removed]",
      "text/plain": [
       "<Figure size 432x288 with 1 Axes>"
      ]
     },
     "metadata": {
      "needs_background": "light"
     },
     "output_type": "display_data"
    }
   ],
   "source": [
    "# Shapiro test para saber si la distribucion de cada uno es normal \n",
    "\n",
    "test_stat_normality, p_value_normality = st.shapiro(games_final.query(\"platform == 'XOne'\")['user_score'].dropna())\n",
    "\n",
    "print(\"p value:%.4f\" % p_value_normality)\n",
    "\n",
    "if p_value_normality <0.05:\n",
    "    print(\"Reject null hypothesis >> The data is not normally distributed\")\n",
    "else:\n",
    "    print(\"Fail to reject null hypothesis >> The data is normally distributed\")\n",
    "    \n",
    "# Creamos un gráfico para mostrar la distribución\n",
    "\n",
    "games_final.query(\"platform == 'XOne'\")['user_score'].plot(kind='hist')\n",
    "plt.show()"
   ]
  },
  {
   "cell_type": "code",
   "execution_count": 84,
   "metadata": {},
   "outputs": [
    {
     "name": "stdout",
     "output_type": "stream",
     "text": [
      "p value:0.0000\n",
      "Reject null hypothesis >> The data is not normally distributed\n"
     ]
    },
    {
     "data": {
      "image/png": "[encoded data removed]",
      "text/plain": [
       "<Figure size 432x288 with 1 Axes>"
      ]
     },
     "metadata": {
      "needs_background": "light"
     },
     "output_type": "display_data"
    }
   ],
   "source": [
    "# Shapiro test para saber si la distribucion de cada uno es normal \n",
    "\n",
    "test_stat_normality, p_value_normality=st.shapiro(games_final.query(\"platform == 'PC'\")['user_score'].dropna())\n",
    "\n",
    "print(\"p value:%.4f\" % p_value_normality)\n",
    "\n",
    "if p_value_normality <0.05:\n",
    "    print(\"Reject null hypothesis >> The data is not normally distributed\")\n",
    "else:\n",
    "    print(\"Fail to reject null hypothesis >> The data is normally distributed\")\n",
    "    \n",
    "# Creamos un gráfico para mostrar la distribución\n",
    "\n",
    "games_final.query(\"platform == 'PC'\")['user_score'].plot(kind='hist')\n",
    "plt.show()"
   ]
  },
  {
   "cell_type": "markdown",
   "metadata": {},
   "source": [
    "**Observaciones**\n",
    "\n",
    "Vemos que ambas distribuciones no son normales por tanto necesitamos hacer el mannwhitneyu test."
   ]
  },
  {
   "cell_type": "code",
   "execution_count": 85,
   "metadata": {},
   "outputs": [
    {
     "name": "stdout",
     "output_type": "stream",
     "text": [
      "p-value: 0.7992357678646063\n",
      "No rechazamos la hipótesis nula\n"
     ]
    }
   ],
   "source": [
    "# Hacemos la prueba\n",
    "\n",
    "alpha = 0.05\n",
    "\n",
    "results = st.mannwhitneyu(games_final.query(\"platform == 'XOne'\")['user_score'].dropna(),\n",
    "                       games_final.query(\"platform == 'PC'\")['user_score'].dropna())\n",
    "\n",
    "print('p-value:', results.pvalue)\n",
    "\n",
    "if (results.pvalue < alpha):\n",
    "    print(\"Rechazamos la hipótesis nula\")\n",
    "else:\n",
    "    print(\"No rechazamos la hipótesis nula\")"
   ]
  },
  {
   "cell_type": "markdown",
   "metadata": {},
   "source": [
    "**Conclusiones**\n",
    "\n",
    "Ya que nuestro p-value es mayor que nuestro nivel de significancia, podemos decir que notenemos suficiente evidencia para rechazar la hipótesis nula y decir que “Las calificaciones promedio de los usuarios para las plataformas Xbox One y PC son iguales.”\n",
    "\n",
    "### Segunda hipótesis\n",
    "\n",
    "$H_O$ = Las calificaciones promedio de los usuarios para los géneros de Acción y Deportes son iguales\n",
    "\n",
    "$H_a$ = Las calificaciones promedio de los usuarios para los géneros de Acción y Deportes son diferentes\n",
    "\n",
    " &#945; = 0.05"
   ]
  },
  {
   "cell_type": "code",
   "execution_count": 86,
   "metadata": {},
   "outputs": [
    {
     "name": "stdout",
     "output_type": "stream",
     "text": [
      "p value:0.0000\n",
      "Reject null hypothesis >> The data is not normally distributed\n"
     ]
    },
    {
     "data": {
      "image/png": "[encoded data removed]",
      "text/plain": [
       "<Figure size 432x288 with 1 Axes>"
      ]
     },
     "metadata": {
      "needs_background": "light"
     },
     "output_type": "display_data"
    }
   ],
   "source": [
    "# Shapiro test para saber si la distribucion de cada uno es normal \n",
    "\n",
    "test_stat_normality, p_value_normality = st.shapiro(games_final.query(\"genre == 'Action'\")['user_score'].dropna())\n",
    "\n",
    "print(\"p value:%.4f\" % p_value_normality)\n",
    "\n",
    "if p_value_normality <0.05:\n",
    "    print(\"Reject null hypothesis >> The data is not normally distributed\")\n",
    "else:\n",
    "    print(\"Fail to reject null hypothesis >> The data is normally distributed\")\n",
    "    \n",
    "# Creamos un gráfico para mostrar la distribución\n",
    "\n",
    "games_final.query(\"genre == 'Action'\")['user_score'].plot(kind='hist')\n",
    "plt.show()"
   ]
  },
  {
   "cell_type": "code",
   "execution_count": 87,
   "metadata": {},
   "outputs": [
    {
     "name": "stdout",
     "output_type": "stream",
     "text": [
      "p value:0.0003\n",
      "Reject null hypothesis >> The data is not normally distributed\n"
     ]
    },
    {
     "data": {
      "image/png": "[encoded data removed]",
      "text/plain": [
       "<Figure size 432x288 with 1 Axes>"
      ]
     },
     "metadata": {
      "needs_background": "light"
     },
     "output_type": "display_data"
    }
   ],
   "source": [
    "# Shapiro test para saber si la distribucion de cada uno es normal \n",
    "\n",
    "test_stat_normality, p_value_normality = st.shapiro(games_final.query(\"genre == 'Sports'\")['user_score'].dropna())\n",
    "\n",
    "print(\"p value:%.4f\" % p_value_normality)\n",
    "\n",
    "if p_value_normality <0.05:\n",
    "    print(\"Reject null hypothesis >> The data is not normally distributed\")\n",
    "else:\n",
    "    print(\"Fail to reject null hypothesis >> The data is normally distributed\")\n",
    "    \n",
    "# Creamos un gráfico para mostrar la distribución\n",
    "\n",
    "games_final.query(\"genre == 'Sports'\")['user_score'].plot(kind='hist')\n",
    "plt.show()"
   ]
  },
  {
   "cell_type": "markdown",
   "metadata": {},
   "source": [
    "**Observaciones**\n",
    "\n",
    "Vemos que ambas distribuciones no son normales por tanto necesitamos hacer el mannwhitneyu test."
   ]
  },
  {
   "cell_type": "code",
   "execution_count": 88,
   "metadata": {},
   "outputs": [
    {
     "name": "stdout",
     "output_type": "stream",
     "text": [
      "p-value: 5.197053219468525e-24\n",
      "Rechazamos la hipótesis nula\n"
     ]
    }
   ],
   "source": [
    "# Hacemos la prueba\n",
    "\n",
    "alpha = 0.05\n",
    "\n",
    "results = st.mannwhitneyu(games_final.query(\"genre == 'Action'\")['user_score'].dropna(),\n",
    "                       games_final.query(\"genre == 'Sports'\")['user_score'].dropna())\n",
    "\n",
    "print('p-value:', results.pvalue)\n",
    "\n",
    "if (results.pvalue < alpha):\n",
    "    print(\"Rechazamos la hipótesis nula\")\n",
    "else:\n",
    "    print(\"No rechazamos la hipótesis nula\")"
   ]
  },
  {
   "cell_type": "markdown",
   "metadata": {},
   "source": [
    "**Conclusiones**\n",
    "\n",
    "Ya que nuestro p-value es menor que nuestro nivel de significancia, podemos decir que no tenemos suficiente evidencia para rechazar la hipótesis nula y decir que “Las calificaciones promedio de los usuarios para los géneros de Acción y Deportes son differenes.”"
   ]
  },
  {
   "cell_type": "markdown",
   "metadata": {},
   "source": [
    "## Conclusiones Generales\n",
    "\n",
    "**Preparación de datos**\n",
    "\n",
    "Encontramos dos filas con valores ausentes en la columna `name` y decidimos deshacernos de ellas.\n",
    "\n",
    "Encontramos valores ausentes en la columna `years_of_release` y decidimos reemplazarlos con una tabla de años según el lanzamiento del mismo juego en una consola diferente. Esto no soluciono todo el problema, pero ayudo a disminuir la cantidad de valores ausentes. \n",
    "\n",
    "Encontramos valores atípicos en la columna `year_of_release` pero decidimos no hacer nada con ellos. \n",
    "\n",
    "Encontramos valores atípicos también en cada columna de ventas de cada región. Sin embargo, decidimos no hacer cambios a estos valores ya que nos servirían para nuestro análisis final. \n",
    "\n",
    "Encontramos valores ausentes en las columnas `critic_score` y `user_score` y rellenamos esos valores con una tabla segmentada de género y ventas.\n",
    "\n",
    "También encontramos valores atípicos en estas columnas, pero tampoco hicimos cambios. \n",
    "\n",
    "Decidimos no hacer cambios en la columna rating ya que no teníamos la información suficiente para poder llenar los valores ausentes. \n",
    "\n",
    "**Análisis de datos**\n",
    "\n",
    "**Cantidad de juegos lanzados por año**\n",
    "\n",
    "Los juegos lanzados por año han ido en aumento desde 1980. Llegaron a su punto más ato alrededor de 2008 y desde entonces ha disminuido la cantidad de juegos lanzados al mercado por año. \n",
    "\n",
    "También vimos que las ventas tuvieron una gráfica parecida. AL subir la cantidad de juegos en el mercado también aumentaban las ventas por año y al disminuir los juegos por año también disminuían las ventas. \n",
    "\n",
    "**Ventas por plataforma**\n",
    "\n",
    "Las plataformas líderes en ventas son la PS2, X360, PS3, Wii, y DS. \n",
    "\n",
    "**¿Cuánto tardan generalmente las nuevas plataformas en aparecer y las antiguas en desaparecer?**\n",
    "\n",
    "Plataformas como la PS2 y X360 mostraron una vida de aproximadamente 10 años. Teniendo su punto más alto en el año 5 de su lanzamiento. Otras plataformas tenían tiempos más cortos de 9 años aproximadamente. \n",
    "\n",
    "**¿Son significativas las diferencias en las ventas por plataforma?**\n",
    "\n",
    "Para esta parte decidimos quedarnos solo con los años iguales o superiores al 2012. \n",
    "\n",
    "Vimos en nuestro diagrama de cajas de las diferencias no son tan grandes. La mayoría de ventas de las plataformas más populares estaban entre 0 y 1 millón de dólares. Sin embargo, vemos que si tenemos diferencias de las medianas de las ventas de cada plataforma. Podemos ver que las consolas con las medianas más altas son el X360 y la PS4. También vemos diferencias en sus límites superiores. \n",
    "\n",
    "**¿Las reseñas de usuarios y profesionales afectan las ventas de una plataforma?**\n",
    "\n",
    "Encontramos que las correlaciones de los puntajes puestos por críticos si afectan de una manera las ventas de juegos. Los puntajes de los usuarions tienen una relación muy debil. \n",
    "\n",
    "**¿Cómo se diferencias las ventas de un mismo juego entre las diferentes plataformas?**\n",
    "\n",
    "Un juego puede venderse para diferentes consolas pero siempre tendrá mayores ventas en una de ellas. \n",
    "\n",
    "Las plataformas con mayores ventas de juegos son las de la empresa Sony.\n",
    "\n",
    "**Analizar las ventas de juegos por genero**\n",
    "\n",
    "En los últimos 5 años los juegos de acción han sido los que más dinero han recadado; seguido por los juegos de deportes, disparos, y role-play. \n",
    "\n",
    "En los últimos tres años los juegos de disparos han tomado más fuerza y han logrado vender más. Incluso superando las ventas de juegos de acción en el último año. \n",
    "\n",
    "**Plataformas principales por región**\n",
    "\n",
    "En Norte América y Europa tenemos las mismas plataformas con más ventas solo que un orden diferente. En norte América tenemos al X360 como la plataforma principal y en Europa a la PS4 como plataforma principal. \n",
    "\n",
    "En Japón vemos más consolas de la empresa Nintendo como principales. Aquí la consola principal es el Nintendo 3DS. \n",
    "\n",
    "Podemos ver que la presencia de las consolas de Sony es importante en cada región. \n",
    "\n",
    "**Variaciones en las cuotas de mercado de una región a otra**\n",
    "\n",
    "Norte América tiene la mayor cantidad de las ventas del mercado con un 40.86%. Europa es el segundo con 35.07%. Y Japón es el tercero con 13.28%.\n",
    "\n",
    "**Géneros principales por región**\n",
    "\n",
    "Los géneros preferidos por las personas de Norte América y Europa son bastante similares. Los juegos de acción son los principales en ventas en ambas regiones. \n",
    "\n",
    "En Japón los juegos con más ventas son los de role-play. \n",
    "\n",
    "Vemos que los juegos de acción forman parte importante en las tres regiones. \n",
    "\n",
    "**¿Las clasificaciones de ESRB afectan a las ventas en regiones individuales?**\n",
    "\n",
    "Los juegos con clasificación M son los que más ingresos generan, seguidos por la clasificas E, T, y E10+. \n",
    "\n",
    "Podríamos decir que la clasificación si afecta en la venta de juegos. \n",
    "\n",
    "**Prueba de hipótesis**\n",
    "\n",
    "**Primera hipótesis**\n",
    "\n",
    "Ya que nuestro p-value es mayor que nuestro nivel de significancia, podemos decir que notenemos suficiente evidencia para rechazar la hipótesis nula y decir que “Las calificaciones promedio de los usuarios para las plataformas Xbox One y PC son iguales.”\n",
    "\n",
    "**Segunda hipótesis**\n",
    "\n",
    "Ya que nuestro p-value es menor que nuestro nivel de significancia, podemos decir queno tenemos suficiente evidencia para rechazar la hipótesis nula y decir que “Las calificaciones promedio de los usuarios para los géneros de Acción y Deportes son differenes.”\n"
   ]
  }
 ],
 "metadata": {
  "kernelspec": {
   "display_name": "Python 3 (ipykernel)",
   "language": "python",
   "name": "python3"
  },
  "language_info": {
   "codemirror_mode": {
    "name": "ipython",
    "version": 3
   },
   "file_extension": ".py",
   "mimetype": "text/x-python",
   "name": "python",
   "nbconvert_exporter": "python",
   "pygments_lexer": "ipython3",
   "version": "3.9.5"
  },
  "toc": {
   "base_numbering": 1,
   "nav_menu": {},
   "number_sections": true,
   "sideBar": true,
   "skip_h1_title": false,
   "title_cell": "Table of Contents",
   "title_sidebar": "Contents",
   "toc_cell": false,
   "toc_position": {
    "height": "calc(100% - 180px)",
    "left": "10px",
    "top": "150px",
    "width": "264.184px"
   },
   "toc_section_display": true,
   "toc_window_display": true
  }
 },
 "nbformat": 4,
 "nbformat_minor": 2
}
